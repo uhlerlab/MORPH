{
 "cells": [
  {
   "cell_type": "code",
   "execution_count": 65,
   "metadata": {},
   "outputs": [],
   "source": [
    "import os\n",
    "import pandas as pd\n",
    "import matplotlib.pyplot as plt\n",
    "import json"
   ]
  },
  {
   "cell_type": "code",
   "execution_count": 66,
   "metadata": {},
   "outputs": [],
   "source": [
    "suffixes = {\n",
    "    'gt': '_gt',\n",
    "    'prior': '_prior',\n",
    "    'prior_only': '_only',\n",
    "    'cluster_first': '_cluster_first',\n",
    "    'kernel_rbf': '_kernel_rbf',\n",
    "    'kernel_laplacian': '_kernel_laplacian',\n",
    "    'euclidean': '_euclidean',\n",
    "    'cosine': '_cosine'\n",
    "}"
   ]
  },
  {
   "cell_type": "code",
   "execution_count": 67,
   "metadata": {},
   "outputs": [
    {
     "name": "stdout",
     "output_type": "stream",
     "text": [
      "reading results from: /home/che/perturb-project/git/gene_ptb_prediction/active_learning/results/replogle_k562_essential_hvg/active_learning_fold_1/DepMap_GeneEffect/mmd/learn_from_scratch/5_round_100_ptb_100_initial_ptb/100_init_epochs_100_incremental_epochs_1.0_decay_factor_20_tolerance/val_ratio_0.1/seed_8/\n",
      "reading results from: /home/che/perturb-project/git/gene_ptb_prediction/active_learning/results/replogle_k562_essential_hvg/active_learning_fold_1/DepMap_GeneEffect/mmd/learn_from_scratch/5_round_100_ptb_100_initial_ptb/100_init_epochs_100_incremental_epochs_1.0_decay_factor_20_tolerance/val_ratio_0.1/seed_9/\n",
      "reading results from: /home/che/perturb-project/git/gene_ptb_prediction/active_learning/results/replogle_k562_essential_hvg/active_learning_fold_1/DepMap_GeneEffect/mmd/learn_from_scratch/5_round_100_ptb_100_initial_ptb/100_init_epochs_100_incremental_epochs_1.0_decay_factor_20_tolerance/val_ratio_0.1/seed_10/\n",
      "reading results from: /home/che/perturb-project/git/gene_ptb_prediction/active_learning/results/replogle_k562_essential_hvg/active_learning_fold_1/DepMap_GeneEffect/mmd/learn_from_scratch/5_round_100_ptb_100_initial_ptb/100_init_epochs_100_incremental_epochs_1.0_decay_factor_20_tolerance/val_ratio_0.1/seed_11/\n",
      "reading results from: /home/che/perturb-project/git/gene_ptb_prediction/active_learning/results/replogle_k562_essential_hvg/active_learning_fold_1/DepMap_GeneEffect/mmd/learn_from_scratch/5_round_100_ptb_100_initial_ptb/100_init_epochs_100_incremental_epochs_1.0_decay_factor_20_tolerance/val_ratio_0.1/seed_12/\n"
     ]
    }
   ],
   "source": [
    "random_seed = 12\n",
    "train_style = 'learn_from_scratch'\n",
    "dataset_name = 'replogle_k562_essential_hvg'\n",
    "representation_type = 'DepMap_GeneEffect'\n",
    "leave_out_test_set_id = \"active_learning_fold_1\"\n",
    "reconstruction_loss = 'mmd' # mmd or mse\n",
    "random_seed_lst = [8, 9, 10, 11, 12]\n",
    "main_figure = True # True if save to main figure, False if save to supplementary figure\n",
    "\n",
    "num_round = 5  # number of rounds\n",
    "initial_num_ptb = 100  # number of initial perturbations to sample (for the first round)\n",
    "num_ptb = 100  # number of total perturbations to sample each time\n",
    "search_all = True #set to True to search all perturbations, False to search only the test set\n",
    "\n",
    "# precision at k\n",
    "top_n = 35\n",
    "\n",
    "initial_epochs = 100\n",
    "incremental_epochs = 100\n",
    "decay_factor = 1.0\n",
    "val_ratio = 0.1\n",
    "tolerance_epochs = 20\n",
    "\n",
    "compare1 = 'learn_loss_mse'\n",
    "compare2 = 'learn_loss_mse_prior_only'\n",
    "compare3 = None\n",
    "compare4 = None\n",
    "compare5 = None\n",
    "\n",
    "# Initialize empty DataFrames to hold the combined results\n",
    "combined_baseline_df = pd.DataFrame()\n",
    "combined_active_learning_df = pd.DataFrame()\n",
    "\n",
    "# Initialize empty DataFrames to hold the combined alignment scores\n",
    "combined_baseline_alignment_df = pd.DataFrame()\n",
    "combined_active_learning_alignment_df = pd.DataFrame()\n",
    "\n",
    "for random_seed in random_seed_lst:\n",
    "    output_dir = '/home/che/perturb-project/git/gene_ptb_prediction/active_learning/results/'+dataset_name+'/'+ \\\n",
    "        leave_out_test_set_id+'/'+representation_type+'/'+ \\\n",
    "        reconstruction_loss + '/' + train_style + '/' +\\\n",
    "            str(num_round)+'_round_'+str(num_ptb)+'_ptb_' + str(initial_num_ptb) + '_initial_ptb/' +\\\n",
    "            str(initial_epochs)+'_init_epochs_'+str(incremental_epochs)+'_incremental_epochs_'+str(decay_factor)+'_decay_factor_'+str(tolerance_epochs)+'_tolerance/'+\\\n",
    "            'val_ratio_'+str(val_ratio)+'/' + \"seed_\"+str(random_seed)+'/'\n",
    "    \n",
    "    print('reading results from:', output_dir)\n",
    "    \n",
    "    # Read the baseline results\n",
    "    baseline_df = pd.read_csv(os.path.join(output_dir, 'baseline/results_df.csv'))\n",
    "    baseline_df['leave_out_test_set_id'] = leave_out_test_set_id\n",
    "    baseline_df['random_seed'] = random_seed \n",
    "    combined_baseline_df = pd.concat([combined_baseline_df, baseline_df], ignore_index=True)\n",
    "    with open(os.path.join(output_dir, 'baseline/config.json')) as f:\n",
    "        baseline_config = json.load(f)\n",
    "        \n",
    "    if compare1 is not None:\n",
    "        active_learning_df_1 = pd.read_csv(os.path.join(output_dir, compare1+'/results_df.csv'))\n",
    "        active_learning_df_1['leave_out_test_set_id'] = leave_out_test_set_id\n",
    "        active_learning_df_1['random_seed'] = random_seed\n",
    "        for key, suffix in suffixes.items():\n",
    "            if key in compare1:\n",
    "                active_learning_df_1['test_method'] = active_learning_df_1['test_method'] + suffix\n",
    "        combined_active_learning_df = pd.concat([combined_active_learning_df, active_learning_df_1], ignore_index=True)\n",
    "\n",
    "    if compare2 is not None:\n",
    "        active_learning_df_2 = pd.read_csv(os.path.join(output_dir, compare2+'/results_df.csv'))\n",
    "        active_learning_df_2['leave_out_test_set_id'] = leave_out_test_set_id\n",
    "        active_learning_df_2['random_seed'] = random_seed\n",
    "        for key, suffix in suffixes.items():\n",
    "            if key in compare2:\n",
    "                active_learning_df_2['test_method'] = active_learning_df_2['test_method'] + suffix\n",
    "        combined_active_learning_df = pd.concat([combined_active_learning_df, active_learning_df_2], ignore_index=True)\n",
    "\n",
    "    if compare3 is not None:\n",
    "        active_learning_df_3 = pd.read_csv(os.path.join(output_dir, compare3+'/results_df.csv'))\n",
    "        active_learning_df_3['leave_out_test_set_id'] = leave_out_test_set_id\n",
    "        active_learning_df_3['random_seed'] = random_seed\n",
    "        for key, suffix in suffixes.items():\n",
    "            if key in compare3:\n",
    "                active_learning_df_3['test_method'] = active_learning_df_3['test_method'] + suffix\n",
    "        combined_active_learning_df = pd.concat([combined_active_learning_df, active_learning_df_3], ignore_index=True)\n",
    "\n",
    "    if compare4 is not None:\n",
    "        active_learning_df_4 = pd.read_csv(os.path.join(output_dir, compare4+'/results_df.csv'))\n",
    "        active_learning_df_4['leave_out_test_set_id'] = leave_out_test_set_id\n",
    "        active_learning_df_4['random_seed'] = random_seed\n",
    "        for key, suffix in suffixes.items():\n",
    "            if key in compare4:\n",
    "                active_learning_df_4['test_method'] = active_learning_df_4['test_method'] + suffix\n",
    "        combined_active_learning_df = pd.concat([combined_active_learning_df, active_learning_df_4], ignore_index=True)\n",
    "\n",
    "    if compare5 is not None:\n",
    "        active_learning_df_5 = pd.read_csv(os.path.join(output_dir, compare5+'/results_df.csv'))\n",
    "        active_learning_df_5['leave_out_test_set_id'] = leave_out_test_set_id\n",
    "        active_learning_df_5['random_seed'] = random_seed\n",
    "        for key, suffix in suffixes.items():\n",
    "            if key in compare5:\n",
    "                active_learning_df_5['test_method'] = active_learning_df_5['test_method'] + suffix\n",
    "        combined_active_learning_df = pd.concat([combined_active_learning_df, active_learning_df_5], ignore_index=True)"
   ]
  },
  {
   "cell_type": "code",
   "execution_count": 68,
   "metadata": {},
   "outputs": [
    {
     "data": {
      "text/plain": [
       "204"
      ]
     },
     "execution_count": 68,
     "metadata": {},
     "output_type": "execute_result"
    }
   ],
   "source": [
    "ptb_leave_out_list = baseline_config['ptb_leave_out_list']\n",
    "len(ptb_leave_out_list)"
   ]
  },
  {
   "cell_type": "code",
   "execution_count": 69,
   "metadata": {},
   "outputs": [
    {
     "name": "stdout",
     "output_type": "stream",
     "text": [
      "test_method\n",
      "learn_loss_mse               25\n",
      "learn_loss_mse_prior_only    25\n",
      "Name: count, dtype: int64\n"
     ]
    }
   ],
   "source": [
    "print(combined_active_learning_df['test_method'].value_counts())\n",
    "\n",
    "# assert numbers the same for each one in value_counts\n",
    "assert combined_active_learning_df['test_method'].value_counts().min() == combined_active_learning_df['test_method'].value_counts().max()"
   ]
  },
  {
   "cell_type": "code",
   "execution_count": 70,
   "metadata": {},
   "outputs": [
    {
     "data": {
      "text/plain": [
       "(75, 56)"
      ]
     },
     "execution_count": 70,
     "metadata": {},
     "output_type": "execute_result"
    }
   ],
   "source": [
    "# concatenate the two dataframes\n",
    "df = pd.concat([combined_baseline_df, combined_active_learning_df], axis=0)\n",
    "df['initial_num_ptb'] = initial_num_ptb\n",
    "df['num_ptb'] = num_ptb\n",
    "df.shape"
   ]
  },
  {
   "cell_type": "code",
   "execution_count": 71,
   "metadata": {},
   "outputs": [
    {
     "data": {
      "text/html": [
       "<div>\n",
       "<style scoped>\n",
       "    .dataframe tbody tr th:only-of-type {\n",
       "        vertical-align: middle;\n",
       "    }\n",
       "\n",
       "    .dataframe tbody tr th {\n",
       "        vertical-align: top;\n",
       "    }\n",
       "\n",
       "    .dataframe thead th {\n",
       "        text-align: right;\n",
       "    }\n",
       "</style>\n",
       "<table border=\"1\" class=\"dataframe\">\n",
       "  <thead>\n",
       "    <tr style=\"text-align: right;\">\n",
       "      <th></th>\n",
       "      <th>test_method</th>\n",
       "      <th>round</th>\n",
       "      <th>initial_num_ptb</th>\n",
       "      <th>num_ptb</th>\n",
       "      <th>random_seed</th>\n",
       "      <th>true_rank_list</th>\n",
       "      <th>best_val_model_rank_list_all</th>\n",
       "    </tr>\n",
       "  </thead>\n",
       "  <tbody>\n",
       "    <tr>\n",
       "      <th>0</th>\n",
       "      <td>baseline</td>\n",
       "      <td>0</td>\n",
       "      <td>100</td>\n",
       "      <td>100</td>\n",
       "      <td>8</td>\n",
       "      <td>['GATA1', 'SNRPD2', 'SUPT6H', 'MED18', 'PAF1',...</td>\n",
       "      <td>['ZNF674', 'E2F6', 'ZNF253', 'ABCB10', 'SMARCE...</td>\n",
       "    </tr>\n",
       "    <tr>\n",
       "      <th>1</th>\n",
       "      <td>baseline</td>\n",
       "      <td>1</td>\n",
       "      <td>100</td>\n",
       "      <td>100</td>\n",
       "      <td>8</td>\n",
       "      <td>['GATA1', 'SNRPD2', 'SUPT6H', 'MED18', 'PAF1',...</td>\n",
       "      <td>['E2F6', 'MED28', 'SNRPD1', 'MED1', 'BCR', 'RP...</td>\n",
       "    </tr>\n",
       "    <tr>\n",
       "      <th>2</th>\n",
       "      <td>baseline</td>\n",
       "      <td>2</td>\n",
       "      <td>100</td>\n",
       "      <td>100</td>\n",
       "      <td>8</td>\n",
       "      <td>['GATA1', 'SNRPD2', 'SUPT6H', 'MED18', 'PAF1',...</td>\n",
       "      <td>['E2F6', 'NANOG', 'SIGLEC14', 'SNRPD1', 'RPL8'...</td>\n",
       "    </tr>\n",
       "    <tr>\n",
       "      <th>3</th>\n",
       "      <td>baseline</td>\n",
       "      <td>3</td>\n",
       "      <td>100</td>\n",
       "      <td>100</td>\n",
       "      <td>8</td>\n",
       "      <td>['GATA1', 'SNRPD2', 'SUPT6H', 'MED18', 'PAF1',...</td>\n",
       "      <td>['EIF2S1', 'SNRPD3', 'SNRPD1', 'CTR9', 'MED22'...</td>\n",
       "    </tr>\n",
       "    <tr>\n",
       "      <th>4</th>\n",
       "      <td>baseline</td>\n",
       "      <td>4</td>\n",
       "      <td>100</td>\n",
       "      <td>100</td>\n",
       "      <td>8</td>\n",
       "      <td>['GATA1', 'SNRPD2', 'SUPT6H', 'MED18', 'PAF1',...</td>\n",
       "      <td>['EIF2S1', 'RPL36', 'MED22', 'HBS1L', 'RPS3', ...</td>\n",
       "    </tr>\n",
       "  </tbody>\n",
       "</table>\n",
       "</div>"
      ],
      "text/plain": [
       "  test_method  round  initial_num_ptb  num_ptb  random_seed  \\\n",
       "0    baseline      0              100      100            8   \n",
       "1    baseline      1              100      100            8   \n",
       "2    baseline      2              100      100            8   \n",
       "3    baseline      3              100      100            8   \n",
       "4    baseline      4              100      100            8   \n",
       "\n",
       "                                      true_rank_list  \\\n",
       "0  ['GATA1', 'SNRPD2', 'SUPT6H', 'MED18', 'PAF1',...   \n",
       "1  ['GATA1', 'SNRPD2', 'SUPT6H', 'MED18', 'PAF1',...   \n",
       "2  ['GATA1', 'SNRPD2', 'SUPT6H', 'MED18', 'PAF1',...   \n",
       "3  ['GATA1', 'SNRPD2', 'SUPT6H', 'MED18', 'PAF1',...   \n",
       "4  ['GATA1', 'SNRPD2', 'SUPT6H', 'MED18', 'PAF1',...   \n",
       "\n",
       "                        best_val_model_rank_list_all  \n",
       "0  ['ZNF674', 'E2F6', 'ZNF253', 'ABCB10', 'SMARCE...  \n",
       "1  ['E2F6', 'MED28', 'SNRPD1', 'MED1', 'BCR', 'RP...  \n",
       "2  ['E2F6', 'NANOG', 'SIGLEC14', 'SNRPD1', 'RPL8'...  \n",
       "3  ['EIF2S1', 'SNRPD3', 'SNRPD1', 'CTR9', 'MED22'...  \n",
       "4  ['EIF2S1', 'RPL36', 'MED22', 'HBS1L', 'RPS3', ...  "
      ]
     },
     "execution_count": 71,
     "metadata": {},
     "output_type": "execute_result"
    }
   ],
   "source": [
    "if search_all:\n",
    "    df = df[['test_method', 'round', 'initial_num_ptb', 'num_ptb', 'random_seed', 'true_rank_list', 'best_val_model_rank_list_all']]\n",
    "else:\n",
    "    df = df[['test_method', 'round', 'initial_num_ptb', 'num_ptb','random_seed', 'true_rank_list', 'best_val_model_rank_list']]\n",
    "df.head(5)"
   ]
  },
  {
   "cell_type": "code",
   "execution_count": 72,
   "metadata": {},
   "outputs": [],
   "source": [
    "import ast\n",
    "df['true_rank_list'] = df['true_rank_list'].apply(lambda x: ast.literal_eval(x))\n",
    "if search_all:\n",
    "    df['best_val_model_rank_list_all'] = df['best_val_model_rank_list_all'].apply(lambda x: ast.literal_eval(x))\n",
    "else:\n",
    "    df['best_val_model_rank_list'] = df['best_val_model_rank_list'].apply(lambda x: ast.literal_eval(x))"
   ]
  },
  {
   "cell_type": "code",
   "execution_count": 73,
   "metadata": {},
   "outputs": [
    {
     "name": "stdout",
     "output_type": "stream",
     "text": [
      "Length of sample_gene_list: 1993\n"
     ]
    }
   ],
   "source": [
    "# add true_rank_list \n",
    "if dataset_name == 'replogle_k562_essential_1000_hvg':\n",
    "    mmd_to_ctrl_path = '/home/che/perturb-project/predict_model/dataset/replogle_k562/replogle_k562_essential_1000_hvg_mmd_distance_1500_to_non-targeting.csv'\n",
    "elif dataset_name == 'replogle_k562_essential_hvg':\n",
    "    mmd_to_ctrl_path = '/home/che/perturb-project/predict_model/dataset/replogle_k562/replogle_k562_essential_hvg_mmd_distance_1500_to_non-targeting.csv'\n",
    "\n",
    "mmd_to_ctrl_true_df = pd.read_csv(mmd_to_ctrl_path)\n",
    "true_rank_list = mmd_to_ctrl_true_df.sort_values(by='mean_mmd_distance', ascending=False)['ptb_gene'].values.tolist()\n",
    "\n",
    "# subset true_rank_list to perturbations with available embeddings in the current model\n",
    "if search_all:\n",
    "    sample_gene_list = df['best_val_model_rank_list_all'][0].values.tolist()[0]\n",
    "else:\n",
    "    sample_gene_list = df['best_val_model_rank_list'][0].values.tolist()[0]\n",
    "print('Length of sample_gene_list:', len(sample_gene_list))\n",
    "true_rank_list = [gene for gene in true_rank_list if gene in sample_gene_list]\n",
    "assert len(true_rank_list) == len(sample_gene_list)\n",
    "df['true_rank_list_test'] = [true_rank_list]*df.shape[0]"
   ]
  },
  {
   "cell_type": "code",
   "execution_count": 74,
   "metadata": {},
   "outputs": [],
   "source": [
    "if search_all is False:\n",
    "    assert (df['true_rank_list'] == df['true_rank_list_test']).all()"
   ]
  },
  {
   "cell_type": "code",
   "execution_count": 75,
   "metadata": {},
   "outputs": [],
   "source": [
    "df['num_samples'] = df['initial_num_ptb'] + df['num_ptb']*df['round']"
   ]
  },
  {
   "cell_type": "code",
   "execution_count": 76,
   "metadata": {},
   "outputs": [],
   "source": [
    "# rename methods in test_method in df\n",
    "df['test_method'] = df['test_method'].replace({'active_learning_kmeans_center': 'Latent-based K-means center', \n",
    "                                               'active_learning_kmeans_center_prior_only': 'Prior-only K-means center',\n",
    "                                               'baseline': 'Baseline',\n",
    "                                               'uncertainty': 'Latent-based uncertainty'})\n",
    "\n",
    "if main_figure:\n",
    "    df['test_method'] = df['test_method'].replace({'learn_loss_mse': 'Latent-based AL',\n",
    "                                                   'learn_loss_mse_prior_only': 'Prior-only AL'})"
   ]
  },
  {
   "cell_type": "code",
   "execution_count": 77,
   "metadata": {},
   "outputs": [],
   "source": [
    "if search_all:\n",
    "    assert set(df['true_rank_list_test'].values[0]) == set(df['best_val_model_rank_list_all'].values[0])\n",
    "else:\n",
    "    assert set(df['true_rank_list_test'].values[0]) == set(df['best_val_model_rank_list'].values[0])"
   ]
  },
  {
   "cell_type": "code",
   "execution_count": 78,
   "metadata": {},
   "outputs": [],
   "source": [
    "from scipy.stats import spearmanr\n",
    "\n",
    "if search_all:\n",
    "    df[f'precision_{top_n}_best_val_model_all'] = df.apply(lambda x: len(set(x['true_rank_list_test'][:top_n]) & set(x['best_val_model_rank_list_all'][:top_n]))/top_n, axis=1)\n",
    "    eval_metric_list = [f'precision_{top_n}_best_val_model_all']\n",
    "    eval_metric = 'Precision at '+str(top_n)\n",
    "else:\n",
    "    df[f'precision_{top_n}_best_val_model'] = df.apply(lambda x: len(set(x['true_rank_list_test'][:top_n]) & set(x['best_val_model_rank_list'][:top_n]))/top_n, axis=1)\n",
    "    eval_metric_list = [f'precision_{top_n}_best_val_model']\n",
    "    eval_metric = 'Precision at '+str(top_n)"
   ]
  },
  {
   "cell_type": "code",
   "execution_count": 79,
   "metadata": {},
   "outputs": [],
   "source": [
    "# subset eval_metric_list to best_train_model only\n",
    "color_dict = {'Baseline': '#0057e7',  #blue\n",
    "              'Latent-based AL': '#d62d20', #red\n",
    "               'Prior-only AL': '#ffa700', #orange\n",
    "\n",
    "              'Prior-only K-means center': '#8fce00',  #grass-green\n",
    "              'Latent-based K-means center': '#f14899',  #diff red\n",
    "              'Latent-based uncertainty': '#f1c232' #yellow\n",
    "              \n",
    "              }"
   ]
  },
  {
   "cell_type": "code",
   "execution_count": 80,
   "metadata": {},
   "outputs": [
    {
     "name": "stdout",
     "output_type": "stream",
     "text": [
      "precision_35_best_val_model_all\n"
     ]
    },
    {
     "data": {
      "image/png": "[encoded data removed]",
      "text/plain": [
       "<Figure size 500x300 with 1 Axes>"
      ]
     },
     "metadata": {},
     "output_type": "display_data"
    }
   ],
   "source": [
    "for eval_metric_temp in eval_metric_list:\n",
    "    print(eval_metric_temp)\n",
    "    # Group by 'round' and 'test_method' to calculate mean and standard deviation\n",
    "    grouped_df = df.groupby(['round', 'test_method', 'num_samples']).agg({eval_metric_temp: ['mean', 'std']}).reset_index()\n",
    "    grouped_df.columns = ['round', 'test_method', 'num_samples', 'mean', 'std']\n",
    "\n",
    "    # Pivot the dataframe to have 'test_method' as columns\n",
    "    pivot_mean_df = grouped_df.pivot(index='num_samples', columns='test_method', values='mean')\n",
    "    pivot_std_df = grouped_df.pivot(index='num_samples', columns='test_method', values='std')\n",
    "    \n",
    "    # Plotting the line plots with shaded areas\n",
    "    plt.figure(figsize=(5, 3))\n",
    "    for model_type in pivot_mean_df.columns:\n",
    "        plt.plot(pivot_mean_df.index, pivot_mean_df[model_type], label=model_type, marker='o', color=color_dict[model_type])\n",
    "        plt.fill_between(pivot_mean_df.index,\n",
    "                        pivot_mean_df[model_type] - pivot_std_df[model_type],\n",
    "                        pivot_mean_df[model_type] + pivot_std_df[model_type],\n",
    "                        alpha=0.2, color=color_dict[model_type])\n",
    "\n",
    "    # Annotate random guess precision\n",
    "    plt.xlabel('Number of total perturbations')\n",
    "    plt.ylabel(eval_metric.upper())\n",
    "    # plt.title('Comparison of Baseline and Active Learning Methods, (' + dataset_name + ')')\n",
    "    plt.legend()\n",
    "    plt.grid(True)\n",
    "    plt.xticks(pivot_mean_df.index, [int(x) for x in pivot_mean_df.index])\n",
    "    plt.tight_layout()\n",
    "    plt.show()"
   ]
  },
  {
   "cell_type": "code",
   "execution_count": 81,
   "metadata": {},
   "outputs": [
    {
     "name": "stdout",
     "output_type": "stream",
     "text": [
      "precision_35_best_val_model_all\n"
     ]
    },
    {
     "data": {
      "image/png": "[encoded data removed]",
      "text/plain": [
       "<Figure size 300x300 with 1 Axes>"
      ]
     },
     "metadata": {},
     "output_type": "display_data"
    },
    {
     "data": {
      "text/plain": [
       "<Figure size 600x100 with 0 Axes>"
      ]
     },
     "metadata": {},
     "output_type": "display_data"
    }
   ],
   "source": [
    "for eval_metric_temp in eval_metric_list:\n",
    "    print(eval_metric_temp)\n",
    "    # Group by 'round' and 'test_method' to calculate mean and standard deviation\n",
    "    grouped_df = df.groupby(['round', 'test_method', 'num_samples']).agg({eval_metric_temp: ['mean', 'std']}).reset_index()\n",
    "    grouped_df.columns = ['round', 'test_method', 'num_samples', 'mean', 'std']\n",
    "\n",
    "    # Pivot the dataframe to have 'test_method' as columns\n",
    "    pivot_mean_df = grouped_df.pivot(index='num_samples', columns='test_method', values='mean')\n",
    "    pivot_std_df = grouped_df.pivot(index='num_samples', columns='test_method', values='std')\n",
    "\n",
    "    # concat pivot_mean_df and pivot_std_df and save into csv\n",
    "    pivot_mean_df_temp = pivot_mean_df.copy()\n",
    "    pivot_mean_df_temp.columns = [f'{col}_mean' for col in pivot_mean_df.columns]\n",
    "    pivot_std_df_temp = pivot_std_df.copy()\n",
    "    pivot_std_df_temp.columns = [f'{col}_std' for col in pivot_std_df.columns]\n",
    "    pivot_df = pd.concat([pivot_mean_df_temp, pivot_std_df_temp], axis=1)\n",
    "\n",
    "    # Plotting the line plots with shaded areas\n",
    "    plt.figure(figsize=(3, 3))\n",
    "    for model_type in pivot_mean_df.columns:\n",
    "        plt.plot(pivot_mean_df.index, pivot_mean_df[model_type], label=model_type, marker='o', color=color_dict[model_type])\n",
    "        plt.fill_between(pivot_mean_df.index,\n",
    "                         pivot_mean_df[model_type] - 0.2 * pivot_std_df[model_type],\n",
    "                         pivot_mean_df[model_type] + 0.2 * pivot_std_df[model_type],\n",
    "                         alpha=0.2, color=color_dict[model_type])\n",
    "    \n",
    "    plt.xlabel('Number of total perturbations', fontsize=10)\n",
    "    plt.ylabel(eval_metric.upper(), fontsize=10)\n",
    "\n",
    "    # Extract handles and labels for the legend\n",
    "    handles, labels = plt.gca().get_legend_handles_labels()\n",
    "    \n",
    "    # Remove legend from main plot\n",
    "    plt.legend().remove()\n",
    "\n",
    "    plt.tight_layout()\n",
    "    plt.grid(True)\n",
    "    plt.xticks(pivot_mean_df.index, [int(x) for x in pivot_mean_df.index])\n",
    "    plt.tight_layout()\n",
    "    plt.show()\n",
    "\n",
    "    # Create a new figure for the legend\n",
    "    fig_legend = plt.figure(figsize=(6, 1))  # Adjust size as needed\n",
    "    fig_legend.legend(handles=handles, labels=labels, loc='center', ncol=len(labels), frameon=False)\n",
    "\n",
    "    # Save the legend as a separate file\n",
    "    plt.show()\n",
    "    plt.close(fig_legend)  # Close the legend figure"
   ]
  }
 ],
 "metadata": {
  "kernelspec": {
   "display_name": "geneformer",
   "language": "python",
   "name": "geneformer"
  },
  "language_info": {
   "codemirror_mode": {
    "name": "ipython",
    "version": 3
   },
   "file_extension": ".py",
   "mimetype": "text/x-python",
   "name": "python",
   "nbconvert_exporter": "python",
   "pygments_lexer": "ipython3",
   "version": "3.10.13"
  }
 },
 "nbformat": 4,
 "nbformat_minor": 2
}
