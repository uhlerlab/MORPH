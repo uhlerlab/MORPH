{
 "cells": [
  {
   "cell_type": "code",
   "execution_count": 3,
   "metadata": {},
   "outputs": [],
   "source": [
    "import numpy as np\n",
    "import pandas as pd\n",
    "import pickle\n",
    "import torch\n",
    "import sys\n",
    "import matplotlib.pyplot as plt\n",
    "from matplotlib import cm,colors\n",
    "from warnings import filterwarnings\n",
    "from tqdm import tqdm\n",
    "import seaborn as sns\n",
    "from torch import nn\n",
    "\n",
    "filterwarnings('ignore')\n",
    "sys.path.append('/home/che/perturb-project/git/gene_ptb_prediction/src/')\n",
    "\n",
    "import scanpy as sc\n",
    "sc.settings.verbosity = 3\n",
    "sc.settings.set_figure_params(dpi=80, facecolor='white', frameon=False)\n",
    "from scipy.stats import pearsonr\n",
    "from sklearn.metrics import r2_score\n",
    "import pytorch_lightning as pl"
   ]
  },
  {
   "cell_type": "code",
   "execution_count": 4,
   "metadata": {},
   "outputs": [],
   "source": [
    "from inference import *\n",
    "from utils import SCDATA_sampler, MMD_loss\n",
    "from dataset import SCDataset\n",
    "from torch.utils.data import DataLoader"
   ]
  },
  {
   "cell_type": "code",
   "execution_count": 5,
   "metadata": {},
   "outputs": [
    {
     "name": "stderr",
     "output_type": "stream",
     "text": [
      "Seed set to 12\n"
     ]
    }
   ],
   "source": [
    "# set random seed\n",
    "rand_seed = 12\n",
    "pl.seed_everything(rand_seed)\n",
    "device = 'cuda:7'"
   ]
  },
  {
   "cell_type": "code",
   "execution_count": 18,
   "metadata": {},
   "outputs": [
    {
     "name": "stdout",
     "output_type": "stream",
     "text": [
      "Load data from:  /home/che/perturb-project/predict_model/dataset/replogle_rpe1/rpe1_normalized_hvg.h5ad\n",
      "Load gene embeddings from:  /home/che/perturb-project/data/gene_ptb_emb/STRING/STRING_gene_embedding_ada_text.pkl\n"
     ]
    }
   ],
   "source": [
    "# first read in the csv file of dataset\n",
    "dataset = 'replogle_rpe1'\n",
    "use_hvg = 'True'\n",
    "dataset_name = dataset + '_hvg'\n",
    "scdata_file = pd.read_csv('/home/che/perturb-project/git/gene_ptb_prediction/scdata_file_path.csv')\n",
    "adata_path = scdata_file[scdata_file['dataset'] == dataset][scdata_file['use_hvg'] == (use_hvg == 'True')]['file_path'].values[0]\n",
    "print('Load data from: ', adata_path)\n",
    "adata = sc.read_h5ad(adata_path)"
   ]
  },
  {
   "cell_type": "code",
   "execution_count": 19,
   "metadata": {},
   "outputs": [
    {
     "name": "stdout",
     "output_type": "stream",
     "text": [
      "['TFAM', 'SLC1A5', 'GFM1', 'MRPL36', 'TARDBP', 'PPP6C', 'MRPL35', 'NBPF12', 'CCDC6', 'GTF3C4', 'BCAR1', 'MYBL2', 'FBXO42', 'HSD17B10', 'POGLUT3', 'GAB2', 'CLOCK', 'TMEM214', 'TWF1', 'EPS8L1', 'TMEM242', 'TACC3', 'TPT1', 'KRT17', 'ANAPC15', 'FAM136A', 'SPC25', 'CCDC78', 'SMG5', 'IK', 'SSBP3', 'ZNF718', 'SMN2', 'MVK', 'BCL2L1', 'ZDHHC7', 'DDX19A', 'EIF4B', 'SLC35G2', 'WTAP', 'TREX2', 'ADAM10', 'RGPD6', 'C7orf26', 'LAMTOR1', 'DDX19B', 'PPP1R37', 'INTS14', 'TRNT1', 'ESPN', 'CCNK', 'TIMM23B', 'RHOQ', 'CLASRP', 'PCBP2', 'PMF1', 'EIF3CL', 'HSD17B12', 'CSH2', 'DNAAF3', 'DNM1', 'SRSF11', 'CENPT', 'NAA35', 'TFRC', 'SNX15', 'TBX1', 'INTS13', 'RTEL1', 'UBTF', 'PRODH', 'PPP2R1A', 'GYG1', 'PARS2', 'C14orf178', 'PSTK', 'ADAT3', 'MRPL39', 'ZBTB17', 'ATP6AP2', 'ZFP69B', 'YRDC', 'GTF2E2', 'UBE2M', 'BTF3L4', 'TUBB', 'CSE1L', 'H2AFZ', 'VPS41', 'DSTYK', 'LMO2', 'DDN', 'PSMG3', 'MRPL38', 'ANKS6', 'MRPL16', 'HMGCS1', 'NAGLU', 'TKT', 'RBM14-RBM4', 'GLRX5', 'SSU72', 'SIRT7', 'SLC7A5', 'MRPS21', 'ATP6V0C', 'UROD', 'CCDC144NL', 'MCL1', 'CADM4', 'WDR54', 'HIRA', 'CACNB3', 'DYNLRB1', 'GPS1', 'SART3', 'HIST1H2BC', 'DPH1', 'HSCB', 'JAZF1', 'YJEFN3', 'CNN2', 'ACTB', 'TRAPPC11', 'LTBP3', 'MAD2L2', 'POLR1C', 'ATP5MF', 'VPS54', 'PKM', 'HUS1', 'RAB4B', 'RRM2', 'SNRNP40', 'MRPS16', 'RSL1D1', 'NAPG', 'DDX46', 'SEC16A', 'POU5F1B', 'MFN2', 'SLC25A10', 'AP2M1', 'NARS2', 'TUT1', 'DYNLL2', 'FOLR3', 'EFR3A', 'MRPL41', 'RHPN1', 'ZRSR2', 'MRPL24', 'KRT8', 'METTL3', 'MTG2', 'ARL2', 'C1orf109', 'ZMAT2', 'KDM6A', 'MRPS6', 'PDCD6IP', 'RBM15', 'RNF8', 'POLRMT', 'ALG1L', 'KPNB1', 'HHEX', 'FAM207A', 'ZNF706', 'CPAMD8', 'TSR1', 'TUBA1B', 'LZTR1', 'ATP5PD', 'CDK2', 'FAM229A', 'PTEN', 'PCBP1', 'YTHDC1', 'FBXW7', 'MBD3', 'ACOT12', 'DDX5', 'MED19', 'KRT10', 'ZNF133', 'QRSL1', 'CDK6', 'GCLC', 'FBLIM1', 'RTRAF', 'PMPCB', 'NXF1', 'COQ2', 'SP1', 'COX5A', 'NPLOC4', 'SDHAF2', 'AQP7', 'SNW1', 'SRPRB', 'MRPL27', 'OR1E2', 'RABGGTA', 'CD8B', 'PTMA', 'TARS2', 'MBTPS1', 'GNPNAT1', 'C17orf58', 'CPSF3', 'USP14', 'DPY19L4', 'UQCRC1', 'MKRN1', 'IST1', 'MCM3', 'ABHD17A', 'PRKRIP1', 'GRB2', 'RCC1', 'TAF13', 'KDM1A', 'CPNE7', 'PRPF39', 'JMJD6', 'SUPT20H', 'RPL41', 'DDX23', 'MICOS10', 'RNF14', 'DHODH', 'LIMS1', 'PGAM5', 'NDUFA3', 'RAB4A', 'C16orf86', 'DDX17', 'MANF', 'ATP6AP1', 'CYS1', 'PPP1CA', 'EIF4G2', 'TUFM', 'SMAGP', 'DNAJA1', 'TSEN34', 'PCNX3', 'COX7C', 'GET3', 'MON1A', 'SRSF6', 'TMED10', 'THOC7', 'PTPN11', 'ACTR1B', 'POLR2I', 'PLK4', 'HNRNPH1', 'USP5', 'EHMT2', 'TXNL4B', 'CABIN1', 'CKAP5', 'POLR2M', 'RNF123', 'STAT5B', 'TFDP1', 'MRPL34', 'ZNF100', 'SBNO1', 'SRA1', 'PRMT5', 'HAUS8', 'HAMP', 'TOX4', 'ELL', 'PCID2', 'NBEAL1', 'MALSU1', 'CASC3', 'EIF4H', 'GCOM1', 'PPME1', 'MRPL3', 'MRPS5', 'SEPSECS', 'ZNF574', 'SON', 'WBP11', 'NISCH', 'COX10', 'UXS1', 'BOP1', 'SS18L2', 'TNNT2', 'TUBGCP2', 'MRPL33', 'NDUFB4', 'ORC4', 'SF3B3', 'TBC1D28', 'EIF1', 'ANKRD11', 'MRPL54', 'XPO5', 'SRP72', 'KEAP1', 'LETM1', 'LIN54', 'ATP6V1B2', 'PHAX', 'EGLN2', 'OTOP1', 'ASF1B', 'ACIN1', 'DHX30', 'CAMLG', 'ATR', 'NPEPPS', 'TBCA', 'CENPA', 'TM7SF2', 'MAT2A', 'CMPK1', 'MRPS17', 'C9orf16', 'PSAT1', 'DCTN3', 'NRBP1', 'ZNF253', 'DNAJA3', 'ABCF1', 'LST1', 'E2F6', 'UBA2', 'PRPF31', 'PPIL1', 'UBA52', 'DCTN1', 'SF3A2', 'PARN', 'IMPDH2', 'RNF20', 'PRRC2A', 'HAUS4', 'SNF8', 'LRRC37A3', 'PET117', 'MIER1', 'MBTPS2', 'NBPF15', 'ELOF1', 'NDUFB8', 'DNAJC8', 'MRPL4', 'NELFB', 'INTS8', 'EMC3', 'THAP1', 'TUBB2A', 'PRORP', 'FYN', 'PNISR', 'NEDD1', 'INO80C', 'SRSF7', 'PNPT1', 'PRSS50', 'NFATC2IP', 'NFRKB', 'TIMM8A', 'PXN', 'SHQ1', 'RAD9A', 'DRAP1', 'EIF2B2', 'GOLT1B', 'NUB1', 'HSPA8', 'DERL2', 'SIN3A', 'CHTOP', 'THAP11', 'PSMB5', 'CHORDC1', 'MRPL1', 'NAA25', 'ISCA2', 'THOC6', 'ARL4D', 'PPP1R8', 'SPCS3', 'TP53I13', 'COPZ1', 'PPA1', 'HSP90B1', 'DNLZ', 'RNASEH2C', 'ATP2A2', 'SOD2', 'VPS37A', 'WDR70', 'SRP9', 'NUP107', 'STXBP4', 'SMG7', 'UBE3D', 'TMX2', 'SHC1', 'TEAD3', 'COMTD1', 'DAP3', 'PAXBP1', 'HS6ST1', 'SLC39A10', 'MRPL15', 'SMARCB1', 'WDR4', 'KIAA1143', 'INTS12', 'MYO1H', 'FNTB', 'ARPC2', 'PDCD5', 'MRPL50', 'GMIP', 'CFL1', 'CCDC144A', 'EMC7', 'ACTR1A', 'TUBG1', 'ATP5PO', 'CENPW', 'GTF3C6', 'TADA1', 'GUK1', 'SCD', 'PITRM1', 'MRPS10', 'NDUFB3', 'SMG6', 'MRPS27', 'MRPS25', 'H3F3A', 'CHCHD4', 'RBM10', 'VPS35', 'ATP5ME', 'PYROXD1', 'OIP5', 'RPS29', 'DDX1', 'OLFML3', 'COA5', 'ATP6V1G1', 'NAA30', 'RARS2', 'ELOB', 'TPRKB', 'ING3', 'NUDCD3', 'PPP2R3C', 'ZNF207', 'PC', 'ABCG1', 'HNRNPA1', 'HMGB1', 'ZNF292', 'GRSF1', 'DCAF6', 'SUDS3', 'POU3F1', 'RPS13', 'ERVW-1', 'COX6C', 'PRELID3B', 'CHD4', 'KTI12', 'TLCD1', 'DBR1', 'NPB', 'GAPDH', 'TPR', 'THRAP3', 'MIOS', 'LAMTOR4', 'TEN1', 'ZFR', 'KIF14', 'RAC3', 'DRG1', 'EARS2', 'EPB41L2', 'ERAL1', 'UBE2L3', 'PFN1', 'CCNC', 'STRIP1', 'ATP11B', 'MRPS26', 'MRPS11', 'LARS2', 'GPS2', 'ZNF284', 'DNAJC19', 'POGZ', 'ASCC3', 'DPH6', 'ADSL', 'RPP21', 'MRPL14', 'STAG2', 'OTX1', 'PHF10', 'LTB4R2', 'ZNF674', 'UBL5', 'GFOD2', 'SNAPC3', 'SPG7', 'TBCE', 'MCM6', 'DDB1', 'CBX1', 'USP9X', 'RAD51D', 'SRCAP', 'KRTAP4-7', 'TTC4', 'MSRB1', 'SEH1L', 'SLC35G6', 'NSUN4', 'SETX', 'FAM50A', 'DAXX', 'TUBD1', 'NCAPD2', 'PLA2G10', 'EIF3B', 'TIMM13', 'TTC1', 'SETDB1', 'USP39', 'CMC4', 'USP19', 'GON4L', 'RPL7', 'MRPL53', 'WBP1L', 'PELO', 'NFYC', 'MZF1', 'GOLGA6L1', 'DOLK', 'UBE2N', 'PGAM1', 'NDUFS3', 'KLHL11', 'CHTF18', 'HJURP', 'NDUFA11', 'GARS', 'EIF3L', 'DOHH', 'CYCS', 'DDX54', 'TUBE1', 'PPIA', 'UQCRB', 'FASTKD5', 'RUVBL1', 'PDCD6', 'SRSF10', 'ARID3A', 'CCAR1', 'CSTF1', 'TADA2A', 'HIST2H3D', 'MRPL10', 'NKAPD1', 'MRPS7', 'SFPQ', 'TAF11', 'DDX42', 'FAF2', 'ARID5B', 'MRPS30', 'METTL17', 'HAUS7', 'SLC39A9', 'POTEI', 'FOXD4', 'KLHL17', 'IPO9', 'COTL1', 'TRMT6', 'INF2', 'LTBP4', 'VPS37C', 'PRKCA', 'EWSR1', 'ARFRP1', 'MAGOH', 'ANAPC13', 'FNBP4', 'DMRTA2', 'COX11', 'FDXR', 'EIF2B5', 'ORC5', 'NOMO3', 'UFL1', 'TOMM22', 'LSM12', 'WAC', 'CA5A', 'ALG14', 'AIFM1', 'ATP6V0B', 'NDUFA4', 'TAMM41', 'MEIS3', 'DCTN4', 'CCDC130', 'GSDMA', 'IWS1', 'BAP1', 'NUP88', 'RPLP0', 'UPF2', 'HIST1H2BM', 'NELFCD', 'NUP153', 'DNMT1', 'GET1', 'HSPA9', 'PRPF3', 'HNRNPL', 'ZC3H13', 'PGK1', 'ZNF687', 'CT45A5', 'RPL35A', 'ENO1', 'TNRC6A', 'RPUSD3', 'S100A1', 'SPEN', 'TRAPPC5', 'VEZT', 'MRPL28', 'ZNF763', 'WDR77', 'NDC1', 'TFB1M', 'CBFA2T3', 'UNC45A', 'HIST2H2BE', 'TIMM10', 'NUP133', 'MRPL19', 'NDUFA6', 'RPA3', 'ELP3', 'RABGGTB', 'BRIP1', 'RPL23', 'INPPL1', 'BTF3', 'H2AFX', 'MRPL20', 'SARS2', 'NDUFS5', 'EEF2', 'HIST1H2BB', 'COPG1', 'WNK1', 'VPS25', 'MYSM1', 'SNRPC', 'CCNB1', 'HNRNPM', 'MAD2L1', 'GTF3C5', 'POLD2', 'ARGFX', 'PRDM4', 'TFB2M', 'ATP5F1B', 'UHRF1', 'DTYMK', 'XRCC1', 'SLC4A5', 'CHMP6', 'LRP5', 'PPP2CA', 'MMGT1', 'SLC7A6OS', 'BUB1B', 'TBPL1', 'ELOVL1', 'MRPL46', 'NDUFB7', 'PSMC5', 'METTL21A', 'BCS1L', 'CDT1', 'PSME2', 'HIST1H2BL', 'CDC16', 'NCOA4', 'CFDP1', 'NUP98', 'HSPA14', 'NDUFAF3', 'TRMT10C', 'RBMX2', 'GNB1L', 'MLLT6', 'USF2', 'UBR5', 'LCE1E', 'ARGLU1', 'METTL1', 'SGPP1', 'CS', 'IRF2BP2', 'SART1', 'ARHGAP11B', 'C6orf15', 'EIF2B3', 'MRPS35', 'SPTSSA', 'TVP23C', 'ELAC2', 'ZNF506', 'KDM5C', 'CNIH4', 'EFTUD2', 'ACTR6', 'NASP', 'ELP5', 'PTPMT1', 'KLC2', 'MRPS28', 'ZNF468', 'HSPE1', 'PABPC1', 'ATP1A1', 'CUL3', 'CIAO1', 'DCTN2', 'RTTN', 'LSM10', 'ZNF236', 'SERBP1', 'TUBGCP4', 'LCE1C', 'PGD', 'MRPS23', 'ZC3H3', 'PSME1', 'MTOR', 'EIF2B1', 'ZNF492', 'SUPV3L1', 'OVCA2', 'SNRNP200', 'GRPEL1', 'BPTF', 'GMPPB', 'TSFM', 'GBF1', 'PFDN4', 'NDC80', 'MEN1', 'RCCD1', 'TEFM', 'TRA2B', 'KCTD10', 'WDR83OS', 'CIAPIN1', 'CNOT1', 'DNM1L', 'MRPL51', 'ATP6V0D1', 'MED14', 'NAA20', 'MTHFD1', 'VPS29', 'PTPN1', 'TULP1', 'TAZ', 'PTGR2', 'NELFE', 'RBM33', 'YARS', 'BCR', 'TMEM127', 'MRPL18', 'CTBP2', 'NDUFB10', 'UBE2H', 'SEM1', 'VPS13D', 'TIGD1', 'ERCC2', 'BOD1L1', 'C9orf78', 'SNRNP27', 'UBA1', 'CAD', 'MRPL17', 'PGS1', 'COG6', 'YEATS4', 'TUBGCP5', 'PRPF19', 'EDC4', 'KRTAP4-2', 'MRPL55', 'TWNK', 'AARS2', 'MCMBP', 'DHX8', 'STAT5A', 'SAE1', 'TSSK3', 'GSK3B', 'SMG9', 'DDX11', 'DPY19L2', 'RFT1', 'HDAC7', 'PKMYT1', 'PPP2CB', 'TSR2', 'GJA3', 'GEMIN5', 'SRF', 'RPL10A', 'DICER1', 'BRF2', 'CHCHD2', 'CLCC1', 'ESF1', 'OR4K1', 'NCL', 'MLST8', 'TMEM240', 'SMC1A', 'PSMA4', 'CYP2A13', 'ETF1', 'MRPS33', 'EXOC5', 'SRP14', 'LCN10', 'SPRTN', 'DDX47', 'NOP56', 'MRPL44', 'XRCC2', 'CXXC1', 'C7orf50', 'MRPS18A', 'HMGB3', 'MRPS9', 'YARS2', 'ANKRD49', 'WDR44', 'ATP5F1A', 'CYC1', 'NUBP2', 'POLD1', 'POLG2', 'ZNF317', 'RAB6A', 'MARS2', 'CRCP', 'INTS10', 'CDCA5', 'CNOT10', 'DEPDC5', 'MRPL43', 'FBXL14', 'HERC1', 'ARMC6', 'HAUS5', 'CYP4F11', 'METTL23', 'TAF1D', 'NAA38', 'TP53RK', 'CACTIN', 'SEC61A1', 'MRPL37', 'MMS19', 'RBM12', 'DPPA2', 'DHX9', 'PRPF8', 'OR2T5', 'SETD5', 'VPS72', 'VARS2', 'DNAJC11', 'AHCY', 'HOXC10', 'SMG8', 'MAX', 'LRPPRC', 'RBMXL1', 'SMARCC1', 'DPM2', 'TBC1D3', 'FOXS1', 'HNRNPK', 'ACTR8', 'PNN', 'USP7', 'SAMD4B', 'SF3A1', 'CAPZB', 'LRRC37B', 'CDC6', 'VARS', 'SBDS', 'SERPINB1', 'EEF1B2', 'ENY2', 'SLC9B1', 'DCUN1D5', 'EMC4', 'SNAPC4', 'DBF4', 'PPIL4', 'HARS', 'MOK', 'POLR2E', 'MYC', 'UBE3C', 'UCHL5', 'WDR7', 'TSEN2', 'URI1', 'YY1', 'PIAS4', 'MTBP', 'AAAS', 'ATIC', 'HIST1H2BN', 'IARS2', 'EXOC2', 'HECTD1', 'CDK1', 'TRNP1', 'ADRM1', 'POLR2F', 'TBP', 'LSM5', 'MRPL23', 'HIST1H2AE', 'ZFC3H1', 'AFG3L2', 'PTK2', 'F8A1', 'PRPF4', 'SCNM1', 'NDUFV2', 'MTPAP', 'SRRT', 'PLEKHN1', 'PABPC4', 'CEP68', 'ARPC4', 'NFYB', 'RANGAP1', 'COX5B', 'MRPL9', 'PHB', 'ANAPC11', 'OR7A17', 'ELP6', 'SETD1A', 'CCND3', 'NBPF3', 'SPDYE2', 'GLE1', 'SMC4', 'GLRX3', 'UMPS', 'SDC1', 'U2AF1', 'BRCA2', 'BRD2', 'VBP1', 'TADA2B', 'ZMYM4', 'NKAP', 'EIF2S1', 'POLR2D', 'TXN', 'CDK11A', 'KXD1', 'BCLAF1', 'ALG1', 'PUM1', 'MIPEP', 'NCKAP1', 'CDIPT', 'SMU1', 'CLPB', 'LONP1', 'CTU2', 'PSMC1', 'EIF3M', 'PPP1R2', 'SF3B5', 'HNRNPU', 'MNAT1', 'DHX15', 'GEMIN4', 'TRAPPC1', 'SMC2', 'CMTR1', 'INO80E', 'ZNHIT2', 'TTI1', 'MRPS24', 'ACSS2', 'TMSB10', 'RPL12', 'ZCRB1', 'FAM102B', 'PPA2', 'FBRSL1', 'KDM8', 'SEPHS2', 'WDR18', 'GINS4', 'LDB1', 'RCOR1', 'REXO2', 'NDUFB6', 'TOMM40', 'FOXL2', 'VPS18', 'INO80B', 'CENPK', 'COX17', 'CBLN1', 'TTK', 'GAK', 'HIST2H3A', 'GTF3C2', 'ARPC3', 'LSM4', 'PAM16', 'QARS', 'RPL36', 'EIF3I', 'NUP54', 'CTNNBL1', 'KIF4A', 'SMNDC1', 'SRRM2', 'RFC2', 'ATP6V1A', 'AHCTF1', 'SIGLEC14', 'RBX1', 'NOS1AP', 'CCT6A', 'ATP6V1H', 'ZBTB44', 'DENR', 'MRPL2', 'NEMF', 'SRRM1', 'COQ5', 'TMEM199', 'TEX10', 'DDX55', 'CSNK2B', 'STARD7', 'CLK2', 'SLU7', 'CENPN', 'SCAP', 'RPL10', 'TUBA1C', 'MRPS2', 'PHB2', 'USP10', 'MST1', 'RBBP5', 'ALG2', 'ZNHIT3', 'YPEL1', 'EIF4G1', 'TMED2', 'SYNGR3', 'ARCN1', 'POLG', 'PPARGC1B', 'HUWE1', 'MEMO1', 'NUP85', 'BRD4', 'DHPS', 'IPO11', 'TRAPPC3', 'OR1D2', 'SSX4', 'SNRNP48', 'RPL6', 'SDHA', 'ANAPC1', 'TAF8', 'NHLRC2', 'MED4', 'METTL14', 'ESYT1', 'NDUFAB1', 'DLD', 'IPO13', 'MOCS3', 'RPL4', 'YPEL5', 'MRPL32', 'RNF103', 'HSPA5', 'N6AMT1', 'MRPL42', 'RPA2', 'SEC63', 'NSMCE2', 'PAF1', 'NUS1', 'BUB1', 'IGBP1', 'RPL37A', 'RPL32', 'TAF6', 'RPL11', 'NARS', 'C1QTNF4', 'NUP62', 'ARMC7', 'TSEN54', 'PPP4R2', 'NUDT15', 'UBE2I', 'CWC15', 'ATRIP', 'BTAF1', 'POLR1E', 'TREML2', 'KDM2A', 'ELP2', 'CALR', 'XRCC6', 'COPS8', 'CHCHD1', 'CBLL1', 'DCTN6', 'NUP214', 'DNAJC17', 'SCAF1', 'DHX16', 'CUL1', 'FASN', 'UBR4', 'ALDOA', 'BORA', 'NANOG', 'WDR74', 'WEE1', 'UBA5', 'KCNA10', 'NUP43', 'DHX36', 'CHMP5', 'MRPS22', 'MVD', 'SP2', 'PELP1', 'MCM3AP', 'ADAT2', 'TAF6L', 'UNCX', 'PIK3C3', 'YEATS2', 'OR2T29', 'RINT1', 'NMT1', 'RPRD1B', 'PTCD1', 'GTF3C3', 'OSGEP', 'SACM1L', 'CCNH', 'ETV4', 'CDC5L', 'WDTC1', 'ZC3H4', 'RPN2', 'UBE2Z', 'RNMT', 'HMGA1', 'BAG6', 'ATL2', 'GRWD1', 'RPA1', 'TUBGCP3', 'NBAS', 'MBNL1', 'INTS3', 'CLNS1A', 'PSMD14', 'SF3B4', 'EIF2S3', 'INTS2', 'COX7B', 'RSRC2', 'THOC3', 'KATNB1', 'RPN1', 'PSMB2', 'PRXL2A', 'MRPS34', 'HIPK1', 'RNF40', 'GFER', 'PEX19', 'DYNLL1', 'ATF5', 'KAT7', 'MRPS31', 'URM1', 'RAN', 'PI4KA', 'RPL8', 'RPS27A', 'YBX3', 'RMI1', 'CEP152', 'CNOT11', 'ILF2', 'TOE1', 'NOMO1', 'SPC24', 'ACTR2', 'SYMPK', 'STRAP', 'STIL', 'EP400', 'RPS14', 'PIK3R4', 'STX5', 'TERF2', 'PSMB6', 'UQCRC2', 'ZNF658', 'RPL35', 'MOB4', 'BET1', 'CHMP7', 'TRMT112', 'SYS1', 'TADA3', 'ZNF720', 'HAPLN2', 'TOMM20', 'HIST2H2BF', 'RRM1', 'EIF2B4', 'HLA-C', 'CEP85', 'PMPCA', 'TPI1', 'LSM7', 'HIST1H2BJ', 'TAF2', 'CNOT2', 'SCFD1', 'MSL1', 'GABPA', 'HYPK', 'TTF2', 'CSTF3', 'ZNF84', 'TMEM258', 'GTF2H3', 'PIAS1', 'FRG2', 'SNRPG', 'HCRTR1', 'AP2S1', 'UQCRQ', 'COG1', 'COG4', 'SYF2', 'RPUSD4', 'EIF4E', 'ZC3H18', 'NUTF2', 'EIF3J', 'SNUPN', 'MYB', 'GTF3C1', 'NUP35', 'ATP6V1D', 'POP7', 'OR4N2', 'CCT4', 'RNPC3', 'EIF5A', 'MRPL22', 'ICE1', 'SKA3', 'MRPS18C', 'HYOU1', 'XRCC3', 'TGS1', 'RTCB', 'NSF', 'FOXO1', 'VPS33A', 'CHERP', 'RPL24', 'PSMD9', 'RGP1', 'GATA1', 'ZNF407', 'EXOSC5', 'RRS1', 'NDOR1', 'NAA50', 'UXT', 'NCAPH2', 'CDK12', 'GTF2F2', 'RUVBL2', 'NF1', 'TOP3A', 'NUP160', 'DHFR', 'ACTR5', 'DPH3', 'GTF2A2', 'CEP97', 'TCERG1', 'RPL26L1', 'TARS', 'COASY', 'NIFK', 'UTP3', 'FDPS', 'ZW10', 'VHL', 'NFKBIE', 'AC118549.1', 'PRPF6', 'NUF2', 'AASDHPPT', 'CD2BP2', 'HAUS6', 'EIF1AX', 'CCND1', 'TRMT5', 'RPLP2', 'EIF3A', 'DPAGT1', 'GLI4', 'BRF1', 'EXOSC4', 'RPL18', 'PRPF18', 'CCT7', 'NAA10', 'RFC3', 'PPP1R15B', 'EEF1G', 'LSG1', 'WARS', 'OPA1', 'HIST1H2BE', 'NEDD8', 'HTATSF1', 'UBA3', 'THOC5', 'CDC73', 'RAMAC', 'MMP17', 'SMC5', 'EXOSC3', 'DYNC1I2', 'RPL17', 'TYK2', 'FARSA', 'DHDDS', 'WDR61', 'MED12', 'FAU', 'NOL7', 'MCM5', 'PLRG1', 'NAF1', 'MOG', 'NELFA', 'MT2A', 'CNOT3', 'TSG101', 'NOM1', 'SPCS2', 'GINS2', 'BNIP1', 'BGLAP', 'ATXN10', 'RAD17', 'LPA', 'HDAC3', 'TRAIP', 'SHOC2', 'INO80D', 'TRIM49C', 'RNF113A', 'PFDN1', 'AARS', 'MEPCE', 'TMEM161B', 'MFAP1', 'ORC3', 'CHAF1B', 'TAF3', 'RPL5', 'CPNE1', 'ATP6V1E1', 'MCM10', 'SKA1', 'PNKP', 'GUCD1', 'DDOST', 'CCT3', 'CWF19L2', 'ZBTB14', 'THG1L', 'OR7A10', 'GNL2', 'DDX51', 'RPS19', 'PPY', 'PSMG2', 'NPM3', 'RPS15', 'EIF6', 'RPE', 'ZNF559', 'ARIH1', 'GGPS1', 'SNTB2', 'DPH2', 'RBM39', 'CEP192', 'ORC1', 'GTF2H4', 'CSDE1', 'NUDC', 'NAA15', 'PSMB4', 'SPATA5L1', 'CHEK1', 'TANGO6', 'SNRPD1', 'TNPO3', 'REV3L', 'RFC1', 'GTPBP4', 'PCNA', 'RPS27', 'SNRNP70', 'NFS1', 'KAT8', 'ABHD11', 'METAP1', 'PSMD8', 'WBP1', 'CCT2', 'MED1', 'INTS5', 'CAST', 'XRCC5', 'EIF3D', 'SNRPB', 'VMP1', 'SNRPF', 'DUT', 'COPS6', 'SRP68', 'RBBP4', 'RPL26', 'NUP205', 'OGFOD1', 'PPRC1', 'RPL36AL', 'RNF168', 'IFITM3', 'PRC1', 'MRPL11', 'WDFY3', 'SDE2', 'PPP1R7', 'PRDM10', 'SEC61B', 'ABCE1', 'PRKRA', 'ZRANB2', 'LSM3', 'ALYREF', 'HMX3', 'SRBD1', 'TRPM7', 'TBCD', 'EXOC3', 'NRF1', 'CARS', 'RPL13', 'C19orf25', 'RPL13A', 'MIS18A', 'NAE1', 'C1D', 'SLC2A8', 'DNM2', 'SNRNP35', 'INTS1', 'CCDC115', 'ECD', 'SLC25A42', 'POLA1', 'BMS1', 'SSBP1', 'PUF60', 'HNRNPR', 'GIT2', 'RNF4', 'POLR3H', 'RBM4', 'SARNP', 'RPS2', 'EEF1A1', 'CCNL1', 'KIAA0586', 'PHF12', 'PPP1R12A', 'KANSL3', 'PDCD11', 'RPS6', 'SDHD', 'RPL36A', 'E4F1', 'FAM72D', 'ZWINT', 'RPL7L1', 'TOR2A', 'YKT6', 'LRR1', 'TIMM44', 'CEBPZ', 'CENPJ', 'NEDD8-MDP1', 'HNRNPC', 'COPS4', 'NSL1', 'EIF4A1', 'XRN1', 'UQCRH', 'UTP18', 'CRLS1', 'GPR61', 'MPHOSPH6', 'VPS28', 'SMARCE1', 'WDR26', 'WDR5', 'RPS3', 'SETD2', 'ARHGAP6', 'INTS4', 'GSPT1', 'CCP110', 'ZMAT5', 'CLTC', 'RTF1', 'SLC25A26', 'SASS6', 'NSMCE1', 'CPSF1', 'SPATA5', 'HIST1H2AB', 'HEXIM1', 'MSTO1', 'RPL23A', 'EIF3E', 'RPL9', 'FEN1', 'ESYT2', 'SDHC', 'LENG8', 'SNAPC1', 'ATF4', 'COPS2', 'BRK1', 'RELL2', 'SNRPE', 'DTL', 'DDX59', 'ISY1', 'ANKLE2', 'UTP23', 'GART', 'PSMB3', 'GTF2H2', 'ZNF24', 'TAF7', 'HBS1L', 'RBM42', 'HAUS1', 'UBQLN4', 'MRPS12', 'KCMF1', 'KLF7', 'TOP1', 'TINF2', 'EXOC1', 'VPS51', 'PFDN5', 'PPWD1', 'NHP2', 'RAB18', 'IPO7', 'RARS', 'CCDC59', 'GEMIN6', 'GABPB1', 'POLD3', 'CCT8', 'SMG1', 'COX15', 'CPOX', 'EXOSC1', 'GTF2E1', 'MZT1', 'BDP1', 'HMGN2', 'RPL27A', 'ZNF335', 'MCM7', 'PPP1R11', 'TELO2', 'EXOSC8', 'EXOSC7', 'RIOK1', 'EPRS', 'POLL', 'LSM6', 'TSPYL5', 'SRSF3', 'PHF5A', 'SNRNP25', 'USP8', 'COPS3', 'TONSL', 'GNL3', 'HGS', 'PEF1', 'NRDE2', 'RNGTT', 'EXOC8', 'UPF1', 'SNIP1', 'LPIN1', 'ATP6V1C1', 'LURAP1', 'MEX3A', 'XPO1', 'GEMIN8', 'SLC25A3', 'CYREN', 'NOC3L', 'GLB1', 'POLR3C', 'DGCR8', 'SRP19', 'SNAPC5', 'HIST2H2AA3', 'DHX33', 'HMGCR', 'POLA2', 'ITGB1BP1', 'FTSJ3', 'RPL39', 'PRPF40A', 'RPP30', 'PSMA3', 'EXOSC2', 'RPS10-NUDT3', 'MRPL45', 'BUD31', 'C5orf30', 'ACD', 'FAM32A', 'ABCB7', 'MED16', 'NDUFA8', 'OR2A1', 'DDX20', 'ALG13', 'CHCHD3', 'TDGF1', 'WDR24', 'WDR1', 'FKBP9', 'ATP5F1C', 'CENPC', 'LARS', 'FUNDC2', 'GINS1', 'RPL31', 'UFM1', 'RFC5', 'NPM1', 'CCDC84', 'RRN3', 'PRIM1', 'OGT', 'PRELID1', 'RAC1', 'KRI1', 'POLR3E', 'NSRP1', 'U2AF2', 'MTCP1', 'PTBP1', 'NCAPG2', 'RANBP2', 'IFITM2', 'EBNA1BP2', 'PPP4C', 'SF3B1', 'SET', 'PDPK1', 'SAMM50', 'RPL14', 'DMAP1', 'RPP14', 'WDR12', 'LAS1L', 'SLC35B1', 'BRIX1', 'RBM17', 'C12orf60', 'CCNQ', 'MCM2', 'RPL37', 'GPKOW', 'SRSF1', 'NMD3', 'LSM2', 'POP4', 'RAD21', 'METTL16', 'PCF11', 'HSPD1', 'INO80', 'NSA2', 'ATP6V1F', 'CINP', 'PIGH', 'RPS18', 'CTR9', 'TIMM9', 'OXA1L', 'ANKRD39', 'IMPA2', 'PDAP1', 'SF3B2', 'CCDC137', 'COQ4', 'RPL18A', 'RPL30', 'AGBL5', 'PABPN1', 'CDAN1', 'POP5', 'SNRPD3', 'TBCB', 'DSN1', 'RPS3A', 'URB2', 'SRSF2', 'KIN', 'COG2', 'DHX37', 'POLR3F', 'SLBP', 'FNTA', 'PRMT1', 'ZBTB4', 'HAUS3', 'WDHD1', 'MCM4', 'ANAPC5', 'GTF2A1', 'YAE1', 'PFDN2', 'MED8', 'SURF6', 'U2SURP', 'MPG', 'RPAP3', 'HPS5', 'PRPF38A', 'EIF2S2', 'DR1', 'DAD1', 'PSMC2', 'PSMC4', 'GTF2F1', 'NCBP2', 'NOP9', 'WDR25', 'NOLC1', 'POLE', 'RPS7', 'NKX6-1', 'ZNF676', 'GPN2', 'MIS18BP1', 'CD3EAP', 'ZNHIT1', 'STT3B', 'TRIAP1', 'LAMTOR3', 'BCAS2', 'RPS24', 'RPL28', 'RCL1', 'SUMO2', 'SKP2', 'PPIH', 'NOL8', 'CDC27', 'CDC42', 'SDAD1', 'NOP14', 'DDX10', 'RPL34', 'GTF3A', 'KPNA6', 'PALB2', 'TCOF1', 'PPIL2', 'PES1', 'NUBP1', 'CRKL', 'NLE1', 'SAP30BP', 'NVL', 'RPAP1', 'ORC6', 'TLN1', 'SAP130', 'IARS', 'CENPH', 'TERF1', 'DIMT1', 'CHMP3', 'PLK1', 'RPIA', 'USPL1', 'NCAPH', 'GPN3', 'RPL15', 'RFC4', 'RNPS1', 'PSMD13', 'RBM25', 'CUL7', 'BUD13', 'SNRPA', 'CDC123', 'MED18', 'RPS9', 'ARPC1B', 'AURKA', 'KANSL1', 'ZNF787', 'MED24', 'ANKRD17', 'CAP1', 'TUBA3D', 'NDUFA2', 'DYNC1H1', 'DDX27', 'FXN', 'EEFSEC', 'OSTC', 'RBM48', 'DDX52', 'ERH', 'UTP15', 'RPS8', 'TRAPPC8', 'CENPE', 'POLR3B', 'KAT5', 'TIPIN', 'PSMD6', 'SPTLC1', 'POP1', 'TTC27', 'PDCD7', 'MBIP', 'RPL29', 'WDR33', 'FARSB', 'KIF18B', 'SH3KBP1', 'PSMB1', 'SUPT16H', 'UPF3A', 'EIF5', 'NCAPG', 'ILF3', 'MED11', 'PTPN23', 'MMS22L', 'SERF2', 'FAM133B', 'PRIM2', 'TXNL4A', 'PSMA2', 'BANF1', 'WDR43', 'POLR2B', 'CNOT9', 'EXOC7', 'MRGBP', 'SNRPD2', 'SMUG1', 'MASTL', 'PPP1CB', 'EIF1AD', 'PDRG1', 'RPLP1', 'GOSR2', 'GNL3L', 'ATP5MD', 'LTV1', 'RNF31', 'RPP40', 'ARL6IP6', 'PSMA1', 'LYRM4', 'SNAPC2', 'ECT2', 'MAK16', 'CTDP1', 'SOD1', 'NUMA1', 'CTPS1', 'WDR3', 'MARS', 'CPSF6', 'OSBP', 'MRPL21', 'RPS10', 'SNRPA1', 'MRPL49', 'URB1', 'UTP6', 'EIF3H', 'RBMX', 'USP37', 'CTCF', 'AURKAIP1', 'RPS11', 'LAMTOR2', 'RPS12', 'BANP', 'BARD1', 'UTP20', 'EIF3F', 'RPS15A', 'LEO1', 'LIN52', 'POLR1D', 'UQCRFS1', 'KRR1', 'VCP', 'PSMA7', 'NUDT21', 'PSMA6', 'RPS17', 'RBM28', 'RPS5', 'SENP6', 'RPS4X', 'NUFIP1', 'AQR', 'WDR36', 'MED30', 'MED10', 'ACTR3', 'MED9', 'ACTR10', 'FCF1', 'ADNP2', 'ZNF143', 'RFFL', 'ZNF131', 'SLC16A5', 'MED7', 'RPL19', 'OR4F4', 'MED6', 'AKIRIN2', 'FARS2', 'HARS2', 'MEF2A', 'DDX3X', 'PNO1', 'MED29', 'DDX24', 'DDX21', 'ZNRD1', 'ZNHIT6', 'MED20', 'MED21', 'DDX41', 'SKP1', 'AATF', 'MED22', 'RPL21', 'ABCB10', 'PRDM8', 'PREB', 'SFSWAP', 'ABT1', 'DDX6', 'ZCCHC9', 'MDN1', 'SLC35A4', 'PFDN6', 'EXOSC10', 'FGFR1OP', 'EXOSC9', 'HCFC1', 'SMC6', 'RPL38', 'SF1', 'MAU2', 'DESI1', 'CUL2', 'BMP2K', 'MPHOSPH10', 'WDR75', 'ARF4', 'MRM1', 'NUP155', 'WDR46', 'XRN2', 'SMC3', 'ANAPC10', 'PRPF4B', 'DCTN5', 'MIS12', 'ALG11', 'GPN1', 'DARS', 'SLC39A7', 'CYFIP1', 'SF3A3', 'CWC22', 'CWC25', 'PPP1R10', 'ANAPC2', 'ANAPC4', 'DDX56', 'MCEE', 'YBX1', 'UNC50', 'DKC1', 'RPS19BP1', 'NOP16', 'NCBP1', 'NOP2', 'TMA16', 'ESPL1', 'STX18', 'CDK9', 'DONSON', 'TIMM22', 'DNTTIP2', 'PCM1', 'SUGP1', 'TIMELESS', 'SUGT1', 'TICRR', 'THUMPD1', 'CENPI', 'PWP1', 'NOP10', 'HIST2H2AC', 'SUPT6H', 'CDC45', 'PAFAH1B1', 'COPS5', 'POLR2K', 'COPE', 'TOPBP1', 'NAPA', 'COPB2', 'RPF1', 'POLR2L', 'CDC7', 'COPB1', 'IMP4', 'CDC23', 'COPA', 'CDC26', 'NOP58', 'COG8', 'SUPT4H1', 'RPAIN', 'PSMB7', 'NOL6', 'SARS', 'DNAJC9', 'POLR3D', 'TBCC', 'NOC4L', 'CHMP1A', 'TAF1C', 'CLSPN', 'TBC1D1', 'GTF2H1', 'NOB1', 'HMBOX1', 'RAD51', 'GMPS', 'CLP1', 'NIP7', 'TAF10', 'RAD51C', 'ELP4', 'THOC1', 'GTF2H2C', 'ERCC3', 'NDUFAF5', 'CENPP', 'NDUFAF7', 'HSPH1', 'HSF1', 'TFAP4', 'RAE1', 'HOXA3', 'POLR3K', 'NOL12', 'CHAF1A', 'NOL11', 'EMC1', 'SAP18', 'NOL9', 'TCP1', 'PDCD2', 'TPP2', 'PTCD3', 'POLR2C', 'GINS3', 'RPL3', 'KANSL2', 'EIF4A3', 'BYSL', 'PDHA1', 'TWSG1', 'RPS28', 'C1QBP', 'MRTO4', 'RPSA', 'C12orf45', 'RBM8A', 'TUBGCP6', 'PSMC6', 'RPTOR', 'PSMD1', 'RPS26', 'KARS', 'GAR1', 'BUB3', 'RPS20', 'PPIE', 'CPSF4', 'KIF18A', 'CPSF2', 'RPS21', 'RPS23', 'TAF5', 'MRPS14', 'HIST1H2AI', 'RBM19', 'RPS25', 'MRPS18B', 'PSMC3', 'UBE2D3', 'UBC', 'UBAP1', 'CPEB1', 'PSMD2', 'CASP8AP2', 'PSMD4', 'MYCBP', 'INTS7', 'DHX29', 'RRP9', 'INTS6', 'NR2C2AP', 'EXOC4', 'PSMG1', 'RRP12', 'CCT5', 'TRAPPC4', 'PSMG4', 'RRP15', 'GTF2B', 'SRP54', 'TPX2', 'NACA', 'POLR2H', 'PSMD12', 'TRRAP', 'PSMD7', 'ISG20L2', 'RBBP8', 'SEC62', 'ISCU', 'TTI2', 'MTREX', 'MTRNR2L1', 'RBBP6', 'PSMD11', 'CCDC174', 'DROSHA', 'RRP7A', 'PPAN', 'MYBBP1A', 'INTS11', 'INTS9', 'BRD8']\n",
      "2264\n"
     ]
    }
   ],
   "source": [
    "# count number of single values in cond_harm\n",
    "single_perturbations = adata[~adata.obs['gene'].str.contains('\\+')].copy()\n",
    "single_perturbations = single_perturbations[single_perturbations.obs['gene'] != 'ctrl']\n",
    "single_lst = single_perturbations.obs['gene'].value_counts().index.tolist()\n",
    "single_lst.remove('non-targeting')\n",
    "print(single_lst)\n",
    "print(len(single_lst))"
   ]
  },
  {
   "cell_type": "markdown",
   "metadata": {},
   "source": [
    "### First, let's get the kernal matrix of ground-truth"
   ]
  },
  {
   "cell_type": "code",
   "execution_count": 20,
   "metadata": {},
   "outputs": [
    {
     "name": "stdout",
     "output_type": "stream",
     "text": [
      "(5000,)\n"
     ]
    }
   ],
   "source": [
    "ctrl_effect = adata[adata.obs['gene'] == 'non-targeting'].X.mean(axis=0)\n",
    "mean_effect = adata[adata.obs['gene'] != 'non-targeting'].X.mean(axis=0)\n",
    "print(mean_effect.shape)"
   ]
  },
  {
   "cell_type": "code",
   "execution_count": 21,
   "metadata": {},
   "outputs": [
    {
     "name": "stderr",
     "output_type": "stream",
     "text": [
      "100%|██████████| 2265/2265 [00:12<00:00, 175.02it/s]\n"
     ]
    }
   ],
   "source": [
    "pert2effect = {}\n",
    "pert2effect_delta = {}\n",
    "pert2effect_delta_mean_pert = {}\n",
    "\n",
    "for pert in tqdm(adata.obs.gene.unique()):\n",
    "    mean_pert = adata[adata.obs.gene == pert].X.mean(axis = 0)\n",
    "    pert2effect[pert] = mean_pert\n",
    "    pert2effect_delta[pert] = mean_pert - ctrl_effect\n",
    "    pert2effect_delta_mean_pert[pert] = mean_pert - mean_effect"
   ]
  },
  {
   "cell_type": "code",
   "execution_count": 22,
   "metadata": {},
   "outputs": [
    {
     "data": {
      "text/html": [
       "<div>\n",
       "<style scoped>\n",
       "    .dataframe tbody tr th:only-of-type {\n",
       "        vertical-align: middle;\n",
       "    }\n",
       "\n",
       "    .dataframe tbody tr th {\n",
       "        vertical-align: top;\n",
       "    }\n",
       "\n",
       "    .dataframe thead th {\n",
       "        text-align: right;\n",
       "    }\n",
       "</style>\n",
       "<table border=\"1\" class=\"dataframe\">\n",
       "  <thead>\n",
       "    <tr style=\"text-align: right;\">\n",
       "      <th></th>\n",
       "      <th>0</th>\n",
       "      <th>1</th>\n",
       "      <th>2</th>\n",
       "      <th>3</th>\n",
       "      <th>4</th>\n",
       "      <th>5</th>\n",
       "      <th>6</th>\n",
       "      <th>7</th>\n",
       "      <th>8</th>\n",
       "      <th>9</th>\n",
       "      <th>...</th>\n",
       "      <th>4990</th>\n",
       "      <th>4991</th>\n",
       "      <th>4992</th>\n",
       "      <th>4993</th>\n",
       "      <th>4994</th>\n",
       "      <th>4995</th>\n",
       "      <th>4996</th>\n",
       "      <th>4997</th>\n",
       "      <th>4998</th>\n",
       "      <th>4999</th>\n",
       "    </tr>\n",
       "  </thead>\n",
       "  <tbody>\n",
       "    <tr>\n",
       "      <th>MRPS31</th>\n",
       "      <td>0.018916</td>\n",
       "      <td>0.069750</td>\n",
       "      <td>-0.078424</td>\n",
       "      <td>0.038682</td>\n",
       "      <td>0.048687</td>\n",
       "      <td>-0.088258</td>\n",
       "      <td>-0.001392</td>\n",
       "      <td>-0.029275</td>\n",
       "      <td>-0.023797</td>\n",
       "      <td>-0.020134</td>\n",
       "      <td>...</td>\n",
       "      <td>0.378234</td>\n",
       "      <td>0.480464</td>\n",
       "      <td>0.185599</td>\n",
       "      <td>0.221763</td>\n",
       "      <td>-0.128041</td>\n",
       "      <td>0.202955</td>\n",
       "      <td>0.263885</td>\n",
       "      <td>-0.175177</td>\n",
       "      <td>-0.033543</td>\n",
       "      <td>-0.474197</td>\n",
       "    </tr>\n",
       "    <tr>\n",
       "      <th>LRRC37A3</th>\n",
       "      <td>-0.014735</td>\n",
       "      <td>0.054704</td>\n",
       "      <td>-0.019607</td>\n",
       "      <td>-0.024678</td>\n",
       "      <td>0.038480</td>\n",
       "      <td>0.023722</td>\n",
       "      <td>0.003681</td>\n",
       "      <td>0.055208</td>\n",
       "      <td>0.002020</td>\n",
       "      <td>0.002808</td>\n",
       "      <td>...</td>\n",
       "      <td>-0.029753</td>\n",
       "      <td>-0.027705</td>\n",
       "      <td>-0.018238</td>\n",
       "      <td>-0.014040</td>\n",
       "      <td>-0.015686</td>\n",
       "      <td>0.003506</td>\n",
       "      <td>0.018576</td>\n",
       "      <td>-0.010476</td>\n",
       "      <td>0.000979</td>\n",
       "      <td>-0.030286</td>\n",
       "    </tr>\n",
       "    <tr>\n",
       "      <th>SRCAP</th>\n",
       "      <td>-0.002037</td>\n",
       "      <td>-0.025275</td>\n",
       "      <td>-0.061436</td>\n",
       "      <td>-0.033214</td>\n",
       "      <td>-0.058680</td>\n",
       "      <td>-0.029110</td>\n",
       "      <td>0.017428</td>\n",
       "      <td>-0.027701</td>\n",
       "      <td>-0.011107</td>\n",
       "      <td>-0.030638</td>\n",
       "      <td>...</td>\n",
       "      <td>0.169415</td>\n",
       "      <td>0.122641</td>\n",
       "      <td>0.018163</td>\n",
       "      <td>0.124532</td>\n",
       "      <td>-0.104019</td>\n",
       "      <td>0.113555</td>\n",
       "      <td>0.076830</td>\n",
       "      <td>0.014054</td>\n",
       "      <td>-0.068117</td>\n",
       "      <td>0.007625</td>\n",
       "    </tr>\n",
       "    <tr>\n",
       "      <th>WBP1</th>\n",
       "      <td>-0.020565</td>\n",
       "      <td>0.005715</td>\n",
       "      <td>-0.005894</td>\n",
       "      <td>-0.026890</td>\n",
       "      <td>0.023274</td>\n",
       "      <td>-0.047800</td>\n",
       "      <td>0.001036</td>\n",
       "      <td>0.002708</td>\n",
       "      <td>-0.007588</td>\n",
       "      <td>-0.036539</td>\n",
       "      <td>...</td>\n",
       "      <td>0.089768</td>\n",
       "      <td>0.058501</td>\n",
       "      <td>-0.115592</td>\n",
       "      <td>-0.000131</td>\n",
       "      <td>0.021866</td>\n",
       "      <td>0.035734</td>\n",
       "      <td>0.116105</td>\n",
       "      <td>0.125756</td>\n",
       "      <td>0.028886</td>\n",
       "      <td>0.033675</td>\n",
       "    </tr>\n",
       "    <tr>\n",
       "      <th>NOMO3</th>\n",
       "      <td>0.000566</td>\n",
       "      <td>-0.023716</td>\n",
       "      <td>0.040369</td>\n",
       "      <td>0.059700</td>\n",
       "      <td>-0.017800</td>\n",
       "      <td>-0.040362</td>\n",
       "      <td>0.027142</td>\n",
       "      <td>-0.024143</td>\n",
       "      <td>0.020768</td>\n",
       "      <td>0.029720</td>\n",
       "      <td>...</td>\n",
       "      <td>0.049844</td>\n",
       "      <td>-0.024692</td>\n",
       "      <td>-0.062294</td>\n",
       "      <td>-0.005582</td>\n",
       "      <td>0.004206</td>\n",
       "      <td>0.039863</td>\n",
       "      <td>-0.027244</td>\n",
       "      <td>0.021976</td>\n",
       "      <td>-0.090477</td>\n",
       "      <td>0.082441</td>\n",
       "    </tr>\n",
       "    <tr>\n",
       "      <th>...</th>\n",
       "      <td>...</td>\n",
       "      <td>...</td>\n",
       "      <td>...</td>\n",
       "      <td>...</td>\n",
       "      <td>...</td>\n",
       "      <td>...</td>\n",
       "      <td>...</td>\n",
       "      <td>...</td>\n",
       "      <td>...</td>\n",
       "      <td>...</td>\n",
       "      <td>...</td>\n",
       "      <td>...</td>\n",
       "      <td>...</td>\n",
       "      <td>...</td>\n",
       "      <td>...</td>\n",
       "      <td>...</td>\n",
       "      <td>...</td>\n",
       "      <td>...</td>\n",
       "      <td>...</td>\n",
       "      <td>...</td>\n",
       "      <td>...</td>\n",
       "    </tr>\n",
       "    <tr>\n",
       "      <th>RPS25</th>\n",
       "      <td>-0.029348</td>\n",
       "      <td>-0.045336</td>\n",
       "      <td>0.080781</td>\n",
       "      <td>0.140281</td>\n",
       "      <td>-0.145603</td>\n",
       "      <td>-0.107816</td>\n",
       "      <td>-0.068170</td>\n",
       "      <td>0.181169</td>\n",
       "      <td>0.053343</td>\n",
       "      <td>-0.026197</td>\n",
       "      <td>...</td>\n",
       "      <td>0.068118</td>\n",
       "      <td>-0.055280</td>\n",
       "      <td>-0.127365</td>\n",
       "      <td>-0.057015</td>\n",
       "      <td>0.098385</td>\n",
       "      <td>0.079964</td>\n",
       "      <td>0.072934</td>\n",
       "      <td>-0.006090</td>\n",
       "      <td>-0.016989</td>\n",
       "      <td>0.144037</td>\n",
       "    </tr>\n",
       "    <tr>\n",
       "      <th>RPS5</th>\n",
       "      <td>-0.037272</td>\n",
       "      <td>-0.069859</td>\n",
       "      <td>0.111033</td>\n",
       "      <td>0.100079</td>\n",
       "      <td>0.089286</td>\n",
       "      <td>-0.136246</td>\n",
       "      <td>0.034712</td>\n",
       "      <td>0.134877</td>\n",
       "      <td>-0.019901</td>\n",
       "      <td>-0.112315</td>\n",
       "      <td>...</td>\n",
       "      <td>-0.112403</td>\n",
       "      <td>-0.554280</td>\n",
       "      <td>0.082346</td>\n",
       "      <td>-0.540485</td>\n",
       "      <td>-0.348049</td>\n",
       "      <td>-0.214475</td>\n",
       "      <td>-0.127736</td>\n",
       "      <td>-0.383793</td>\n",
       "      <td>-0.445792</td>\n",
       "      <td>-0.137346</td>\n",
       "    </tr>\n",
       "    <tr>\n",
       "      <th>MAK16</th>\n",
       "      <td>-0.047020</td>\n",
       "      <td>-0.266297</td>\n",
       "      <td>-0.044655</td>\n",
       "      <td>0.012306</td>\n",
       "      <td>-0.024358</td>\n",
       "      <td>-0.199365</td>\n",
       "      <td>-0.145598</td>\n",
       "      <td>0.170681</td>\n",
       "      <td>0.004376</td>\n",
       "      <td>-0.153326</td>\n",
       "      <td>...</td>\n",
       "      <td>-0.062019</td>\n",
       "      <td>-0.376635</td>\n",
       "      <td>-0.104205</td>\n",
       "      <td>-0.414019</td>\n",
       "      <td>-0.166746</td>\n",
       "      <td>0.027689</td>\n",
       "      <td>-0.057538</td>\n",
       "      <td>-0.057108</td>\n",
       "      <td>-0.134620</td>\n",
       "      <td>0.024440</td>\n",
       "    </tr>\n",
       "    <tr>\n",
       "      <th>SARS</th>\n",
       "      <td>-0.071610</td>\n",
       "      <td>-0.285547</td>\n",
       "      <td>-0.197200</td>\n",
       "      <td>0.306740</td>\n",
       "      <td>0.136848</td>\n",
       "      <td>-0.118266</td>\n",
       "      <td>-0.285046</td>\n",
       "      <td>-0.112197</td>\n",
       "      <td>0.067805</td>\n",
       "      <td>-0.014244</td>\n",
       "      <td>...</td>\n",
       "      <td>-0.089093</td>\n",
       "      <td>-0.534158</td>\n",
       "      <td>0.105756</td>\n",
       "      <td>-0.433396</td>\n",
       "      <td>-0.219990</td>\n",
       "      <td>-0.195817</td>\n",
       "      <td>-0.331946</td>\n",
       "      <td>-0.369912</td>\n",
       "      <td>-0.354668</td>\n",
       "      <td>-0.074652</td>\n",
       "    </tr>\n",
       "    <tr>\n",
       "      <th>UTP6</th>\n",
       "      <td>-0.043423</td>\n",
       "      <td>-0.063763</td>\n",
       "      <td>0.016674</td>\n",
       "      <td>0.122941</td>\n",
       "      <td>0.091400</td>\n",
       "      <td>-0.006446</td>\n",
       "      <td>-0.151825</td>\n",
       "      <td>0.236143</td>\n",
       "      <td>-0.026931</td>\n",
       "      <td>-0.148567</td>\n",
       "      <td>...</td>\n",
       "      <td>0.005769</td>\n",
       "      <td>-0.300058</td>\n",
       "      <td>0.041029</td>\n",
       "      <td>-0.157534</td>\n",
       "      <td>0.039301</td>\n",
       "      <td>0.092641</td>\n",
       "      <td>0.004398</td>\n",
       "      <td>0.124850</td>\n",
       "      <td>-0.261512</td>\n",
       "      <td>0.281540</td>\n",
       "    </tr>\n",
       "  </tbody>\n",
       "</table>\n",
       "<p>2265 rows × 5000 columns</p>\n",
       "</div>"
      ],
      "text/plain": [
       "              0         1         2         3         4         5     \\\n",
       "MRPS31    0.018916  0.069750 -0.078424  0.038682  0.048687 -0.088258   \n",
       "LRRC37A3 -0.014735  0.054704 -0.019607 -0.024678  0.038480  0.023722   \n",
       "SRCAP    -0.002037 -0.025275 -0.061436 -0.033214 -0.058680 -0.029110   \n",
       "WBP1     -0.020565  0.005715 -0.005894 -0.026890  0.023274 -0.047800   \n",
       "NOMO3     0.000566 -0.023716  0.040369  0.059700 -0.017800 -0.040362   \n",
       "...            ...       ...       ...       ...       ...       ...   \n",
       "RPS25    -0.029348 -0.045336  0.080781  0.140281 -0.145603 -0.107816   \n",
       "RPS5     -0.037272 -0.069859  0.111033  0.100079  0.089286 -0.136246   \n",
       "MAK16    -0.047020 -0.266297 -0.044655  0.012306 -0.024358 -0.199365   \n",
       "SARS     -0.071610 -0.285547 -0.197200  0.306740  0.136848 -0.118266   \n",
       "UTP6     -0.043423 -0.063763  0.016674  0.122941  0.091400 -0.006446   \n",
       "\n",
       "              6         7         8         9     ...      4990      4991  \\\n",
       "MRPS31   -0.001392 -0.029275 -0.023797 -0.020134  ...  0.378234  0.480464   \n",
       "LRRC37A3  0.003681  0.055208  0.002020  0.002808  ... -0.029753 -0.027705   \n",
       "SRCAP     0.017428 -0.027701 -0.011107 -0.030638  ...  0.169415  0.122641   \n",
       "WBP1      0.001036  0.002708 -0.007588 -0.036539  ...  0.089768  0.058501   \n",
       "NOMO3     0.027142 -0.024143  0.020768  0.029720  ...  0.049844 -0.024692   \n",
       "...            ...       ...       ...       ...  ...       ...       ...   \n",
       "RPS25    -0.068170  0.181169  0.053343 -0.026197  ...  0.068118 -0.055280   \n",
       "RPS5      0.034712  0.134877 -0.019901 -0.112315  ... -0.112403 -0.554280   \n",
       "MAK16    -0.145598  0.170681  0.004376 -0.153326  ... -0.062019 -0.376635   \n",
       "SARS     -0.285046 -0.112197  0.067805 -0.014244  ... -0.089093 -0.534158   \n",
       "UTP6     -0.151825  0.236143 -0.026931 -0.148567  ...  0.005769 -0.300058   \n",
       "\n",
       "              4992      4993      4994      4995      4996      4997  \\\n",
       "MRPS31    0.185599  0.221763 -0.128041  0.202955  0.263885 -0.175177   \n",
       "LRRC37A3 -0.018238 -0.014040 -0.015686  0.003506  0.018576 -0.010476   \n",
       "SRCAP     0.018163  0.124532 -0.104019  0.113555  0.076830  0.014054   \n",
       "WBP1     -0.115592 -0.000131  0.021866  0.035734  0.116105  0.125756   \n",
       "NOMO3    -0.062294 -0.005582  0.004206  0.039863 -0.027244  0.021976   \n",
       "...            ...       ...       ...       ...       ...       ...   \n",
       "RPS25    -0.127365 -0.057015  0.098385  0.079964  0.072934 -0.006090   \n",
       "RPS5      0.082346 -0.540485 -0.348049 -0.214475 -0.127736 -0.383793   \n",
       "MAK16    -0.104205 -0.414019 -0.166746  0.027689 -0.057538 -0.057108   \n",
       "SARS      0.105756 -0.433396 -0.219990 -0.195817 -0.331946 -0.369912   \n",
       "UTP6      0.041029 -0.157534  0.039301  0.092641  0.004398  0.124850   \n",
       "\n",
       "              4998      4999  \n",
       "MRPS31   -0.033543 -0.474197  \n",
       "LRRC37A3  0.000979 -0.030286  \n",
       "SRCAP    -0.068117  0.007625  \n",
       "WBP1      0.028886  0.033675  \n",
       "NOMO3    -0.090477  0.082441  \n",
       "...            ...       ...  \n",
       "RPS25    -0.016989  0.144037  \n",
       "RPS5     -0.445792 -0.137346  \n",
       "MAK16    -0.134620  0.024440  \n",
       "SARS     -0.354668 -0.074652  \n",
       "UTP6     -0.261512  0.281540  \n",
       "\n",
       "[2265 rows x 5000 columns]"
      ]
     },
     "execution_count": 22,
     "metadata": {},
     "output_type": "execute_result"
    }
   ],
   "source": [
    "df = pd.DataFrame(np.stack(list(pert2effect_delta.values())), index=list(pert2effect_delta.keys()))\n",
    "df"
   ]
  },
  {
   "cell_type": "code",
   "execution_count": 23,
   "metadata": {},
   "outputs": [],
   "source": [
    "id2emb = dict(zip([i.split('+')[0] for i in df.index.values], df.values))"
   ]
  },
  {
   "cell_type": "code",
   "execution_count": 24,
   "metadata": {},
   "outputs": [],
   "source": [
    "pert_list = [i for i in df.index.values]\n",
    "pert_list_non_ctrl = [i for i in pert_list if i!= 'non-targeting']\n",
    "truth_feat = np.stack([id2emb[i] for i in pert_list_non_ctrl])\n",
    "\n",
    "G = np.dot(truth_feat, truth_feat.T)"
   ]
  },
  {
   "cell_type": "code",
   "execution_count": 25,
   "metadata": {},
   "outputs": [
    {
     "data": {
      "text/plain": [
       "(2264, 5000)"
      ]
     },
     "execution_count": 25,
     "metadata": {},
     "output_type": "execute_result"
    }
   ],
   "source": [
    "truth_feat.shape"
   ]
  },
  {
   "cell_type": "code",
   "execution_count": 26,
   "metadata": {},
   "outputs": [
    {
     "data": {
      "text/plain": [
       "(2264, 2264)"
      ]
     },
     "execution_count": 26,
     "metadata": {},
     "output_type": "execute_result"
    }
   ],
   "source": [
    "G.shape # number of perturbations X number of perturbations"
   ]
  },
  {
   "cell_type": "code",
   "execution_count": 27,
   "metadata": {},
   "outputs": [
    {
     "data": {
      "text/plain": [
       "'replogle_rpe1_hvg'"
      ]
     },
     "execution_count": 27,
     "metadata": {},
     "output_type": "execute_result"
    }
   ],
   "source": [
    "dataset_name = dataset + '_hvg'\n",
    "dataset_name"
   ]
  },
  {
   "cell_type": "code",
   "execution_count": 28,
   "metadata": {},
   "outputs": [],
   "source": [
    "# save the truth_feat and G\n",
    "import os\n",
    "folder_name = 'ground_truth_delta'\n",
    "output_dir = '/home/che/perturb-project/git/gene_ptb_prediction/active_learning/kernels/' + dataset_name + '/' + folder_name + '/'\n",
    "if not os.path.exists(output_dir):\n",
    "    os.makedirs(output_dir)\n",
    "with open(output_dir + 'pert_list.pkl', 'wb') as f:\n",
    "    pickle.dump(pert_list_non_ctrl, f)\n",
    "with open(output_dir + 'kernel.pkl', 'wb') as f:\n",
    "    pickle.dump(G, f)\n",
    "with open(output_dir + 'feat.pkl', 'wb') as f:\n",
    "    pickle.dump(truth_feat, f)"
   ]
  }
 ],
 "metadata": {
  "kernelspec": {
   "display_name": "geneformer",
   "language": "python",
   "name": "geneformer"
  },
  "language_info": {
   "codemirror_mode": {
    "name": "ipython",
    "version": 3
   },
   "file_extension": ".py",
   "mimetype": "text/x-python",
   "name": "python",
   "nbconvert_exporter": "python",
   "pygments_lexer": "ipython3",
   "version": "3.10.13"
  }
 },
 "nbformat": 4,
 "nbformat_minor": 2
}
