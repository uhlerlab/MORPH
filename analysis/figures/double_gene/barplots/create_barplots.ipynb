{
 "cells": [
  {
   "cell_type": "code",
   "execution_count": 28,
   "metadata": {},
   "outputs": [],
   "source": [
    "import pandas as pd\n",
    "import scanpy as sc\n",
    "from warnings import filterwarnings\n",
    "filterwarnings('ignore')\n",
    "import os\n",
    "import glob\n",
    "import matplotlib.pyplot as plt\n",
    "import pandas as pd\n",
    "import numpy as np\n",
    "import matplotlib.cm as cm"
   ]
  },
  {
   "cell_type": "markdown",
   "metadata": {},
   "source": [
    "### Gather performance and plotting\n",
    "\n",
    "This script is to plot the prediction performance of different models and save the performance into a csv file for later reference. "
   ]
  },
  {
   "cell_type": "code",
   "execution_count": 29,
   "metadata": {},
   "outputs": [],
   "source": [
    "config = {\n",
    "    \"dataset\": \"norman_k562\",\n",
    "    \"use_hvg\": True,\n",
    "    \"dataset_name\": \"norman_k562_hvg\",\n",
    "    \"include_moe\": False,\n",
    "    \"test_set_name\": \"5_fold_split\", # \"out_of_distribution_split\" or \"5_fold_split\"\n",
    "    \"null_label\": \"zeros\",\n",
    "    \"epochs\": 100,\n",
    "    \"tolerance_epoch\": 20,\n",
    "    \"val_ratio\": 0.1,\n",
    "    \"ood_ratio\": 0.15,\n",
    "    \"latdim_ctrl\": 50,\n",
    "    \"latdim_ptb\": 50,\n",
    "    \"geneset_num\": 50,\n",
    "    \"mxAlpha\": 2.0,\n",
    "    \"prior_list\": [\n",
    "        \"Control_Gene_Expression\",\n",
    "        \"DepMap_GeneEffect\",\n",
    "        \"Geneformer\",\n",
    "        \"GenePT_v1\",\n",
    "        \"GenePT_v2_large\",\n",
    "        \"STRING\"\n",
    "    ],\n",
    "    \"model_type\": \"mvae_attention_vae_14_3\"\n",
    "}"
   ]
  },
  {
   "cell_type": "code",
   "execution_count": 30,
   "metadata": {},
   "outputs": [],
   "source": [
    "if config['test_set_name'] == '5_fold_split':\n",
    "    if config['dataset'] == 'norman_k562':\n",
    "         test_set_ids = ['random_split_1_2', 'random_split_2_2', 'random_split_3_2', 'random_split_4_2', 'random_split_5_2']\n",
    "    else:\n",
    "        test_set_ids = ['random_fold_1', 'random_fold_2', 'random_fold_3', 'random_fold_4', 'random_fold_5']\n",
    "    random_seeds = [12]\n",
    "elif config['test_set_name'] == 'out_of_distribution_split':\n",
    "    test_set_ids = ['out_of_distribution']\n",
    "    random_seeds = [8, 9, 10, 11, 12]"
   ]
  },
  {
   "cell_type": "markdown",
   "metadata": {},
   "source": [
    "### Step 1. Read in all results in csv"
   ]
  },
  {
   "cell_type": "code",
   "execution_count": 31,
   "metadata": {},
   "outputs": [],
   "source": [
    "gears_path = f\"/home/che/GEARS/{config['dataset_name']}\"\n",
    "vae_attention_path = f\"/home/che/perturb-project/predict_model/result/rna/{config['dataset_name']}\"\n",
    "linear_model_path = f\"/home/che/perturb-project/git/gene_ptb_prediction/baseline_model/linear_model/{config['dataset_name']}_results.csv\"\n",
    "control_distribution_path = f\"/home/che/perturb-project/git/gene_ptb_prediction/baseline_model/predict_control/{config['dataset_name']}_results.csv\""
   ]
  },
  {
   "cell_type": "code",
   "execution_count": 32,
   "metadata": {},
   "outputs": [],
   "source": [
    "linear_model_df = pd.read_csv(linear_model_path)\n",
    "linear_model_df = linear_model_df[linear_model_df['random_seed'].isin(random_seeds)]\n",
    "linear_model_df = linear_model_df[linear_model_df['test_set_id'].isin(test_set_ids)]\n",
    "# rename model_type to be \n",
    "linear_model_df['model_type'] = 'Linear'"
   ]
  },
  {
   "cell_type": "code",
   "execution_count": 33,
   "metadata": {},
   "outputs": [],
   "source": [
    "control_distribution_df = pd.read_csv(control_distribution_path)\n",
    "control_distribution_df = control_distribution_df[control_distribution_df['random_seed'].isin(random_seeds)]\n",
    "control_distribution_df = control_distribution_df[control_distribution_df['test_set_id'].isin(test_set_ids)]"
   ]
  },
  {
   "cell_type": "code",
   "execution_count": 34,
   "metadata": {},
   "outputs": [],
   "source": [
    "gears_df = pd.DataFrame()\n",
    "vae_attention_best_model_df = pd.DataFrame()\n",
    "vae_attention_best_model_val_df = pd.DataFrame()\n",
    "\n",
    "\n",
    "for test_set_id in test_set_ids:\n",
    "\n",
    "    # load in GEARS results\n",
    "    for random_seed in random_seeds:\n",
    "        gears_path_temp = f'{gears_path}/{test_set_id}/random_seed_{random_seed}/summary_evaluations.csv'\n",
    "        gears_df_temp = pd.read_csv(gears_path_temp)\n",
    "        gears_df = pd.concat([gears_df, gears_df_temp])\n",
    "\n",
    "    # load in VAE attention results\n",
    "    for random_seed in random_seeds:\n",
    "        vae_attention_path_parent_temp = (f\"{vae_attention_path}/latdim_ctrl_{config['latdim_ctrl']}_latdim_ptb_{config['latdim_ptb']}_geneset_num_{config['geneset_num']}/{test_set_id}/\"\n",
    "                                    f\"recon_loss_mmd/null_label_{config['null_label']}/epochs_{config['epochs']}/\"\n",
    "                                    f\"tolerance_epochs_{config['tolerance_epoch']}/mxAlpha_{config['mxAlpha']}/\"\n",
    "                                    f\"val_{config['val_ratio']}_ood_{config['ood_ratio']}/random_seed_{random_seed}\")\n",
    "        for prior in config['prior_list']:\n",
    "            pattern = f\"{vae_attention_path_parent_temp}/{prior}_{config['model_type']}_run*\"\n",
    "            vae_attention_path_temp = glob.glob(pattern)\n",
    "            assert len(vae_attention_path_temp) == 1, f'Error: {pattern}'\n",
    "            vae_attention_path_temp = vae_attention_path_temp[0]\n",
    "            vae_attention_best_model_df_temp = pd.read_csv(f'{vae_attention_path_temp}/best_model_summary_evaluations.csv')\n",
    "            vae_attention_best_model_val_df_temp = pd.read_csv(f'{vae_attention_path_temp}/best_model_val_summary_evaluations.csv')\n",
    "            vae_attention_best_model_df = pd.concat([vae_attention_best_model_df, vae_attention_best_model_df_temp])\n",
    "            vae_attention_best_model_val_df = pd.concat([vae_attention_best_model_val_df, vae_attention_best_model_val_df_temp])\n",
    "\n",
    "        if config['include_moe']:\n",
    "            moe_model_type = 'mvae_attention_vae_14_3_moe_3expert'\n",
    "            pattern = f'{vae_attention_path_parent_temp}/DepMap_GeneEffect_{moe_model_type}_run*'\n",
    "            vae_attention_path_temp = glob.glob(pattern)\n",
    "            assert len(vae_attention_path_temp) == 1, f'Error: {pattern}'\n",
    "            vae_attention_path_temp = vae_attention_path_temp[0]\n",
    "            vae_attention_best_model_df_temp = pd.read_csv(f'{vae_attention_path_temp}/best_model_summary_evaluations.csv')\n",
    "            vae_attention_best_model_val_df_temp = pd.read_csv(f'{vae_attention_path_temp}/best_model_val_summary_evaluations.csv')\n",
    "            vae_attention_best_model_df = pd.concat([vae_attention_best_model_df, vae_attention_best_model_df_temp])\n",
    "            vae_attention_best_model_val_df = pd.concat([vae_attention_best_model_val_df, vae_attention_best_model_val_df_temp])\n",
    "\n",
    "assert gears_df.shape[0] == linear_model_df.shape[0] == control_distribution_df.shape[0] == len(test_set_ids) * len(random_seeds)\n",
    "if config['include_moe']:\n",
    "    assert vae_attention_best_model_df.shape[0] == vae_attention_best_model_val_df.shape[0] == len(test_set_ids) * len(config['prior_list']) * len(random_seeds) + len(test_set_ids) * len(random_seeds)\n",
    "else:\n",
    "    assert vae_attention_best_model_df.shape[0] == vae_attention_best_model_val_df.shape[0] == len(test_set_ids) * len(config['prior_list']) * len(random_seeds)"
   ]
  },
  {
   "cell_type": "markdown",
   "metadata": {},
   "source": [
    "### Step 2. Put results together in one table and save as a csv file"
   ]
  },
  {
   "cell_type": "code",
   "execution_count": 35,
   "metadata": {},
   "outputs": [],
   "source": [
    "columns_selected = ['random_seed', 'data', 'test_set_id', 'model_type', 'label_1', 'mmd', 'r2', 'rmse', 'rmse_change', 'pearsonr_change', 'fraction', 'model_path']"
   ]
  },
  {
   "cell_type": "code",
   "execution_count": 36,
   "metadata": {},
   "outputs": [
    {
     "data": {
      "text/html": [
       "<div>\n",
       "<style scoped>\n",
       "    .dataframe tbody tr th:only-of-type {\n",
       "        vertical-align: middle;\n",
       "    }\n",
       "\n",
       "    .dataframe tbody tr th {\n",
       "        vertical-align: top;\n",
       "    }\n",
       "\n",
       "    .dataframe thead th {\n",
       "        text-align: right;\n",
       "    }\n",
       "</style>\n",
       "<table border=\"1\" class=\"dataframe\">\n",
       "  <thead>\n",
       "    <tr style=\"text-align: right;\">\n",
       "      <th></th>\n",
       "      <th>random_seed</th>\n",
       "      <th>data</th>\n",
       "      <th>test_set_id</th>\n",
       "      <th>model_type</th>\n",
       "      <th>label_1</th>\n",
       "      <th>mmd</th>\n",
       "      <th>r2</th>\n",
       "      <th>rmse</th>\n",
       "      <th>rmse_change</th>\n",
       "      <th>pearsonr_change</th>\n",
       "      <th>fraction</th>\n",
       "      <th>model_path</th>\n",
       "    </tr>\n",
       "  </thead>\n",
       "  <tbody>\n",
       "    <tr>\n",
       "      <th>0</th>\n",
       "      <td>12.0</td>\n",
       "      <td>norman_k562_hvg</td>\n",
       "      <td>random_split_1_2</td>\n",
       "      <td>Gears</td>\n",
       "      <td>NaN</td>\n",
       "      <td>0.628289</td>\n",
       "      <td>0.845029</td>\n",
       "      <td>0.225164</td>\n",
       "      <td>0.225164</td>\n",
       "      <td>0.695138</td>\n",
       "      <td>0.599740</td>\n",
       "      <td>/home/che/GEARS/norman_k562_hvg/random_split_1...</td>\n",
       "    </tr>\n",
       "    <tr>\n",
       "      <th>0</th>\n",
       "      <td>12.0</td>\n",
       "      <td>norman_k562_hvg</td>\n",
       "      <td>random_split_2_2</td>\n",
       "      <td>Gears</td>\n",
       "      <td>NaN</td>\n",
       "      <td>0.728961</td>\n",
       "      <td>0.849139</td>\n",
       "      <td>0.265641</td>\n",
       "      <td>0.265641</td>\n",
       "      <td>0.467878</td>\n",
       "      <td>0.563429</td>\n",
       "      <td>/home/che/GEARS/norman_k562_hvg/random_split_2...</td>\n",
       "    </tr>\n",
       "  </tbody>\n",
       "</table>\n",
       "</div>"
      ],
      "text/plain": [
       "   random_seed             data       test_set_id model_type label_1  \\\n",
       "0         12.0  norman_k562_hvg  random_split_1_2      Gears     NaN   \n",
       "0         12.0  norman_k562_hvg  random_split_2_2      Gears     NaN   \n",
       "\n",
       "        mmd        r2      rmse  rmse_change  pearsonr_change  fraction  \\\n",
       "0  0.628289  0.845029  0.225164     0.225164         0.695138  0.599740   \n",
       "0  0.728961  0.849139  0.265641     0.265641         0.467878  0.563429   \n",
       "\n",
       "                                          model_path  \n",
       "0  /home/che/GEARS/norman_k562_hvg/random_split_1...  \n",
       "0  /home/che/GEARS/norman_k562_hvg/random_split_2...  "
      ]
     },
     "execution_count": 36,
     "metadata": {},
     "output_type": "execute_result"
    }
   ],
   "source": [
    "use_val = False\n",
    "if use_val:\n",
    "    all_results_df = pd.concat([gears_df[columns_selected], \n",
    "                                linear_model_df[columns_selected], \n",
    "                                control_distribution_df[columns_selected], \n",
    "                                vae_attention_best_model_val_df[columns_selected]], axis=0)\n",
    "else:\n",
    "    all_results_df = pd.concat([gears_df[columns_selected], \n",
    "                                linear_model_df[columns_selected], \n",
    "                                control_distribution_df[columns_selected], \n",
    "                                vae_attention_best_model_df[columns_selected]], axis=0)\n",
    "\n",
    "all_results_df.head(2)"
   ]
  },
  {
   "cell_type": "code",
   "execution_count": 37,
   "metadata": {},
   "outputs": [
    {
     "data": {
      "text/html": [
       "<div>\n",
       "<style scoped>\n",
       "    .dataframe tbody tr th:only-of-type {\n",
       "        vertical-align: middle;\n",
       "    }\n",
       "\n",
       "    .dataframe tbody tr th {\n",
       "        vertical-align: top;\n",
       "    }\n",
       "\n",
       "    .dataframe thead th {\n",
       "        text-align: right;\n",
       "    }\n",
       "</style>\n",
       "<table border=\"1\" class=\"dataframe\">\n",
       "  <thead>\n",
       "    <tr style=\"text-align: right;\">\n",
       "      <th></th>\n",
       "      <th>random_seed</th>\n",
       "      <th>data</th>\n",
       "      <th>test_set_id</th>\n",
       "      <th>model_type</th>\n",
       "      <th>label_1</th>\n",
       "      <th>mmd</th>\n",
       "      <th>r2</th>\n",
       "      <th>rmse</th>\n",
       "      <th>rmse_change</th>\n",
       "      <th>pearsonr_change</th>\n",
       "      <th>fraction</th>\n",
       "      <th>model_path</th>\n",
       "      <th>model_name</th>\n",
       "    </tr>\n",
       "  </thead>\n",
       "  <tbody>\n",
       "    <tr>\n",
       "      <th>0</th>\n",
       "      <td>12.0</td>\n",
       "      <td>norman_k562_hvg</td>\n",
       "      <td>random_split_1_2</td>\n",
       "      <td>Gears</td>\n",
       "      <td>NaN</td>\n",
       "      <td>0.628289</td>\n",
       "      <td>0.845029</td>\n",
       "      <td>0.225164</td>\n",
       "      <td>0.225164</td>\n",
       "      <td>0.695138</td>\n",
       "      <td>0.599740</td>\n",
       "      <td>/home/che/GEARS/norman_k562_hvg/random_split_1...</td>\n",
       "      <td>GEARS</td>\n",
       "    </tr>\n",
       "    <tr>\n",
       "      <th>0</th>\n",
       "      <td>12.0</td>\n",
       "      <td>norman_k562_hvg</td>\n",
       "      <td>random_split_2_2</td>\n",
       "      <td>Gears</td>\n",
       "      <td>NaN</td>\n",
       "      <td>0.728961</td>\n",
       "      <td>0.849139</td>\n",
       "      <td>0.265641</td>\n",
       "      <td>0.265641</td>\n",
       "      <td>0.467878</td>\n",
       "      <td>0.563429</td>\n",
       "      <td>/home/che/GEARS/norman_k562_hvg/random_split_2...</td>\n",
       "      <td>GEARS</td>\n",
       "    </tr>\n",
       "  </tbody>\n",
       "</table>\n",
       "</div>"
      ],
      "text/plain": [
       "   random_seed             data       test_set_id model_type label_1  \\\n",
       "0         12.0  norman_k562_hvg  random_split_1_2      Gears     NaN   \n",
       "0         12.0  norman_k562_hvg  random_split_2_2      Gears     NaN   \n",
       "\n",
       "        mmd        r2      rmse  rmse_change  pearsonr_change  fraction  \\\n",
       "0  0.628289  0.845029  0.225164     0.225164         0.695138  0.599740   \n",
       "0  0.728961  0.849139  0.265641     0.265641         0.467878  0.563429   \n",
       "\n",
       "                                          model_path model_name  \n",
       "0  /home/che/GEARS/norman_k562_hvg/random_split_1...      GEARS  \n",
       "0  /home/che/GEARS/norman_k562_hvg/random_split_2...      GEARS  "
      ]
     },
     "execution_count": 37,
     "metadata": {},
     "output_type": "execute_result"
    }
   ],
   "source": [
    "all_results_df['model_name'] = all_results_df.apply(lambda row: f\"{row['model_type']}\\n({row['label_1']})\" if pd.notnull(row['label_1']) else row['model_type'], axis=1)\n",
    "\n",
    "# clean names\n",
    "all_results_df['model_name'] = all_results_df['model_name'].str.replace('mvae_attention_vae_14_3_moe_3expert', 'MOE', regex=False)\n",
    "all_results_df['model_name'] = all_results_df['model_name'].str.replace('mvae_attention_vae_14_3', 'MORPH', regex=False)\n",
    "all_results_df['model_name'] = all_results_df['model_name'].str.replace('DepMap_GeneEffect', 'DepMap', regex=False)\n",
    "all_results_df['model_name'] = all_results_df['model_name'].str.replace('Control_Gene_Expression', 'Control\\ngene expression', regex=False)\n",
    "all_results_df['model_name'] = all_results_df['model_name'].str.replace('GenePT_v1', 'GenePT\\n(NCBI)', regex=False)\n",
    "all_results_df['model_name'] = all_results_df['model_name'].str.replace('GenePT_v2_large', 'GenePT\\n(NCBI+UniProt)', regex=False)\n",
    "all_results_df['model_name'] = all_results_df['model_name'].str.replace('STRING', 'GPT\\n(STRING)', regex=False)\n",
    "all_results_df['model_name'] = all_results_df['model_name'].str.replace('Control distribution', 'Control\\ndistribution', regex=False)\n",
    "all_results_df['model_name'] = all_results_df['model_name'].str.replace('MOE\\n(DepMap)', 'MOE\\n(DepMap+\\nNCBI+\\nSTRING)', regex=False)\n",
    "all_results_df['model_name'] = all_results_df['model_name'].str.replace('Gears', 'GEARS', regex=False)\n",
    "all_results_df.head(2)"
   ]
  },
  {
   "cell_type": "code",
   "execution_count": 38,
   "metadata": {},
   "outputs": [
    {
     "name": "stdout",
     "output_type": "stream",
     "text": [
      "(10, 13)\n"
     ]
    },
    {
     "data": {
      "text/plain": [
       "0.4439993694160539"
      ]
     },
     "execution_count": 38,
     "metadata": {},
     "output_type": "execute_result"
    }
   ],
   "source": [
    "subset_df = all_results_df[all_results_df['label_1'] == 'DepMap_GeneEffect']\n",
    "print(subset_df.shape)\n",
    "subset_df[subset_df['model_type'] == 'mvae_attention_vae_14_3']['mmd'].mean()"
   ]
  },
  {
   "cell_type": "code",
   "execution_count": 39,
   "metadata": {},
   "outputs": [
    {
     "name": "stdout",
     "output_type": "stream",
     "text": [
      "norman_k562_hvg/5_fold_split/random_seed_12/null_label_zeros/tolerance_epoch_20/best_model\n"
     ]
    }
   ],
   "source": [
    "# save into a csv file \n",
    "result_folder = f\"{config['dataset_name']}\"\n",
    "result_folder += f\"/{config['test_set_name']}\"\n",
    "result_folder += f\"/random_seed_{random_seed}\"\n",
    "result_folder += f\"/null_label_{config['null_label']}\"\n",
    "result_folder += f\"/tolerance_epoch_{config['tolerance_epoch']}\"\n",
    "if use_val:\n",
    "    result_folder += '/best_model_val'\n",
    "else:\n",
    "    result_folder += '/best_model'\n",
    "if not os.path.exists(result_folder):\n",
    "    os.makedirs(result_folder)\n",
    "print(result_folder)\n",
    "\n",
    "all_results_df.to_csv(f'{result_folder}/results.csv', index=False)"
   ]
  },
  {
   "cell_type": "code",
   "execution_count": 40,
   "metadata": {},
   "outputs": [],
   "source": [
    "import json\n",
    "config['random_seeds'] = random_seeds\n",
    "config['test_set_ids'] = test_set_ids\n",
    "config['use_val'] = use_val\n",
    "with open(f\"{result_folder}/boxplot_config.json\", \"w\") as f:\n",
    "    json.dump(config, f, indent=4)"
   ]
  },
  {
   "cell_type": "markdown",
   "metadata": {},
   "source": [
    "### Step 3. Plot results"
   ]
  },
  {
   "cell_type": "code",
   "execution_count": 41,
   "metadata": {},
   "outputs": [
    {
     "data": {
      "text/plain": [
       "array(['random_split_1_2', 'random_split_2_2', 'random_split_3_2',\n",
       "       'random_split_4_2', 'random_split_5_2'], dtype=object)"
      ]
     },
     "execution_count": 41,
     "metadata": {},
     "output_type": "execute_result"
    }
   ],
   "source": [
    "all_results_df['test_set_id'].unique()"
   ]
  },
  {
   "cell_type": "code",
   "execution_count": 42,
   "metadata": {},
   "outputs": [
    {
     "data": {
      "text/plain": [
       "array([12.])"
      ]
     },
     "execution_count": 42,
     "metadata": {},
     "output_type": "execute_result"
    }
   ],
   "source": [
    "all_results_df['random_seed'].unique()"
   ]
  },
  {
   "cell_type": "code",
   "execution_count": 43,
   "metadata": {},
   "outputs": [
    {
     "data": {
      "text/plain": [
       "(1.041540258159727, 0.659199609621601, 0.6281548827869181)"
      ]
     },
     "execution_count": 43,
     "metadata": {},
     "output_type": "execute_result"
    }
   ],
   "source": [
    "control_distribution_df['mmd'].mean(), gears_df['mmd'].mean(), linear_model_df['mmd'].mean()"
   ]
  },
  {
   "cell_type": "code",
   "execution_count": 44,
   "metadata": {},
   "outputs": [
    {
     "data": {
      "text/plain": [
       "(0.07284479638376463, 0.04052135858567451, 0.03876028888864264)"
      ]
     },
     "execution_count": 44,
     "metadata": {},
     "output_type": "execute_result"
    }
   ],
   "source": [
    "control_distribution_df['mmd'].std(), gears_df['mmd'].std(), linear_model_df['mmd'].std()"
   ]
  },
  {
   "cell_type": "code",
   "execution_count": 45,
   "metadata": {},
   "outputs": [
    {
     "data": {
      "text/html": [
       "<div>\n",
       "<style scoped>\n",
       "    .dataframe tbody tr th:only-of-type {\n",
       "        vertical-align: middle;\n",
       "    }\n",
       "\n",
       "    .dataframe tbody tr th {\n",
       "        vertical-align: top;\n",
       "    }\n",
       "\n",
       "    .dataframe thead th {\n",
       "        text-align: right;\n",
       "    }\n",
       "</style>\n",
       "<table border=\"1\" class=\"dataframe\">\n",
       "  <thead>\n",
       "    <tr style=\"text-align: right;\">\n",
       "      <th></th>\n",
       "      <th>model_name</th>\n",
       "      <th>mmd_mean</th>\n",
       "      <th>mmd_std</th>\n",
       "      <th>r2_mean</th>\n",
       "      <th>r2_std</th>\n",
       "      <th>rmse_mean</th>\n",
       "      <th>rmse_std</th>\n",
       "      <th>rmse_change_mean</th>\n",
       "      <th>rmse_change_std</th>\n",
       "      <th>pearsonr_change_mean</th>\n",
       "      <th>pearsonr_change_std</th>\n",
       "      <th>fraction_mean</th>\n",
       "      <th>fraction_std</th>\n",
       "      <th>mmd_values</th>\n",
       "      <th>r2_values</th>\n",
       "      <th>rmse_values</th>\n",
       "      <th>rmse_change_values</th>\n",
       "      <th>pearsonr_change_values</th>\n",
       "      <th>fraction_values</th>\n",
       "    </tr>\n",
       "  </thead>\n",
       "  <tbody>\n",
       "    <tr>\n",
       "      <th>0</th>\n",
       "      <td>Control\\ndistribution</td>\n",
       "      <td>1.041540</td>\n",
       "      <td>0.072845</td>\n",
       "      <td>0.792292</td>\n",
       "      <td>0.032314</td>\n",
       "      <td>0.372830</td>\n",
       "      <td>0.023160</td>\n",
       "      <td>0.372830</td>\n",
       "      <td>0.023160</td>\n",
       "      <td>0.009252</td>\n",
       "      <td>0.019229</td>\n",
       "      <td>0.522814</td>\n",
       "      <td>0.007907</td>\n",
       "      <td>[1.0482013861114172, 0.9577325752224196, 1.153...</td>\n",
       "      <td>[0.7365747460821472, 0.795605648060406, 0.8010...</td>\n",
       "      <td>[0.3776128, 0.3465689122676849, 0.408061295747...</td>\n",
       "      <td>[0.3776128, 0.3465689122676849, 0.408061295747...</td>\n",
       "      <td>[0.0105737947110637, -0.0103423004768037, 0.04...</td>\n",
       "      <td>[0.5230952380952381, 0.512054794520548, 0.5192...</td>\n",
       "    </tr>\n",
       "    <tr>\n",
       "      <th>1</th>\n",
       "      <td>GEARS</td>\n",
       "      <td>0.659200</td>\n",
       "      <td>0.040521</td>\n",
       "      <td>0.880890</td>\n",
       "      <td>0.032363</td>\n",
       "      <td>0.238373</td>\n",
       "      <td>0.016865</td>\n",
       "      <td>0.238373</td>\n",
       "      <td>0.016865</td>\n",
       "      <td>0.651955</td>\n",
       "      <td>0.110641</td>\n",
       "      <td>0.602249</td>\n",
       "      <td>0.031533</td>\n",
       "      <td>[0.62828933181117, 0.7289605906945035, 0.65795...</td>\n",
       "      <td>[0.8450291221392396, 0.8491387443552325, 0.916...</td>\n",
       "      <td>[0.22516415, 0.26564077, 0.23892634, 0.2385690...</td>\n",
       "      <td>[0.22516415, 0.26564077, 0.23892634, 0.2385690...</td>\n",
       "      <td>[0.695138464238511, 0.4678775493943838, 0.7533...</td>\n",
       "      <td>[0.5997402597402597, 0.5634285714285716, 0.646...</td>\n",
       "    </tr>\n",
       "    <tr>\n",
       "      <th>2</th>\n",
       "      <td>Linear\\n(DepMap)</td>\n",
       "      <td>0.628155</td>\n",
       "      <td>0.038760</td>\n",
       "      <td>0.885293</td>\n",
       "      <td>0.029683</td>\n",
       "      <td>0.228271</td>\n",
       "      <td>0.012304</td>\n",
       "      <td>0.228271</td>\n",
       "      <td>0.012304</td>\n",
       "      <td>0.661464</td>\n",
       "      <td>0.043617</td>\n",
       "      <td>0.701953</td>\n",
       "      <td>0.012191</td>\n",
       "      <td>[0.6660969133379095, 0.5677893779160021, 0.636...</td>\n",
       "      <td>[0.8384881881897606, 0.878887035771038, 0.9181...</td>\n",
       "      <td>[0.240387212808804, 0.207768686865531, 0.23021...</td>\n",
       "      <td>[0.2403872130022019, 0.2077686864980994, 0.230...</td>\n",
       "      <td>[0.6585906725689575, 0.6147058314298262, 0.726...</td>\n",
       "      <td>[0.6962025316455697, 0.6917808219178082, 0.722...</td>\n",
       "    </tr>\n",
       "    <tr>\n",
       "      <th>3</th>\n",
       "      <td>MORPH\\n(Control\\ngene expression)</td>\n",
       "      <td>0.464742</td>\n",
       "      <td>0.032300</td>\n",
       "      <td>0.902069</td>\n",
       "      <td>0.037489</td>\n",
       "      <td>0.184851</td>\n",
       "      <td>0.013746</td>\n",
       "      <td>0.184851</td>\n",
       "      <td>0.013746</td>\n",
       "      <td>0.757167</td>\n",
       "      <td>0.059216</td>\n",
       "      <td>0.772343</td>\n",
       "      <td>0.015039</td>\n",
       "      <td>[0.5053705453075503, 0.4269373008730788, 0.481...</td>\n",
       "      <td>[0.8418041224467704, 0.9003893701967358, 0.938...</td>\n",
       "      <td>[0.2026765209894337, 0.1709339358050704, 0.192...</td>\n",
       "      <td>[0.2026765206781233, 0.1709339354712288, 0.192...</td>\n",
       "      <td>[0.6923765581181671, 0.7218338176497612, 0.848...</td>\n",
       "      <td>[0.7597500000000001, 0.7619444444444444, 0.797...</td>\n",
       "    </tr>\n",
       "    <tr>\n",
       "      <th>4</th>\n",
       "      <td>MORPH\\n(DepMap)</td>\n",
       "      <td>0.443999</td>\n",
       "      <td>0.025907</td>\n",
       "      <td>0.911635</td>\n",
       "      <td>0.032730</td>\n",
       "      <td>0.177943</td>\n",
       "      <td>0.011322</td>\n",
       "      <td>0.177943</td>\n",
       "      <td>0.011322</td>\n",
       "      <td>0.756167</td>\n",
       "      <td>0.039789</td>\n",
       "      <td>0.782956</td>\n",
       "      <td>0.017775</td>\n",
       "      <td>[0.4829197312616607, 0.41562637598796, 0.45072...</td>\n",
       "      <td>[0.8602149609647515, 0.9001843837859608, 0.943...</td>\n",
       "      <td>[0.1915494085033715, 0.1684773335578396, 0.187...</td>\n",
       "      <td>[0.1915494080962938, 0.16847733322775, 0.18770...</td>\n",
       "      <td>[0.7231937598834637, 0.714044485221148, 0.8127...</td>\n",
       "      <td>[0.7820253164556961, 0.7605714285714287, 0.799...</td>\n",
       "    </tr>\n",
       "    <tr>\n",
       "      <th>5</th>\n",
       "      <td>MORPH\\n(GPT\\n(STRING))</td>\n",
       "      <td>0.442049</td>\n",
       "      <td>0.020432</td>\n",
       "      <td>0.911697</td>\n",
       "      <td>0.028095</td>\n",
       "      <td>0.176897</td>\n",
       "      <td>0.010823</td>\n",
       "      <td>0.176897</td>\n",
       "      <td>0.010823</td>\n",
       "      <td>0.786538</td>\n",
       "      <td>0.035804</td>\n",
       "      <td>0.790503</td>\n",
       "      <td>0.022064</td>\n",
       "      <td>[0.4503248441934325, 0.4164680325263065, 0.467...</td>\n",
       "      <td>[0.8683340206380341, 0.9015328130994772, 0.939...</td>\n",
       "      <td>[0.1805564134212467, 0.1680071629773337, 0.192...</td>\n",
       "      <td>[0.1805564130938875, 0.1680071626934788, 0.192...</td>\n",
       "      <td>[0.7627466973423168, 0.7503966756278564, 0.839...</td>\n",
       "      <td>[0.7612500000000001, 0.7905555555555556, 0.816...</td>\n",
       "    </tr>\n",
       "    <tr>\n",
       "      <th>6</th>\n",
       "      <td>MORPH\\n(GenePT\\n(NCBI))</td>\n",
       "      <td>0.446799</td>\n",
       "      <td>0.024487</td>\n",
       "      <td>0.911546</td>\n",
       "      <td>0.029042</td>\n",
       "      <td>0.179458</td>\n",
       "      <td>0.013283</td>\n",
       "      <td>0.179458</td>\n",
       "      <td>0.013283</td>\n",
       "      <td>0.780345</td>\n",
       "      <td>0.042841</td>\n",
       "      <td>0.785836</td>\n",
       "      <td>0.015185</td>\n",
       "      <td>[0.4633780337876474, 0.4061821239077309, 0.467...</td>\n",
       "      <td>[0.8676822493960731, 0.897463851794378, 0.9394...</td>\n",
       "      <td>[0.1870639656843511, 0.1621942139181088, 0.196...</td>\n",
       "      <td>[0.1870639653146093, 0.1621942135343299, 0.196...</td>\n",
       "      <td>[0.7369964975546905, 0.7424439288609256, 0.841...</td>\n",
       "      <td>[0.7659523809523809, 0.7767123287671233, 0.805...</td>\n",
       "    </tr>\n",
       "    <tr>\n",
       "      <th>7</th>\n",
       "      <td>MORPH\\n(GenePT\\n(NCBI+UniProt))</td>\n",
       "      <td>0.436184</td>\n",
       "      <td>0.023051</td>\n",
       "      <td>0.912474</td>\n",
       "      <td>0.033207</td>\n",
       "      <td>0.174924</td>\n",
       "      <td>0.011894</td>\n",
       "      <td>0.174924</td>\n",
       "      <td>0.011894</td>\n",
       "      <td>0.774540</td>\n",
       "      <td>0.053253</td>\n",
       "      <td>0.788869</td>\n",
       "      <td>0.007571</td>\n",
       "      <td>[0.4719376130768105, 0.408280035579172, 0.4371...</td>\n",
       "      <td>[0.8616356942439489, 0.8978636040503075, 0.944...</td>\n",
       "      <td>[0.1898104044456282, 0.1619922368975937, 0.182...</td>\n",
       "      <td>[0.1898104042316547, 0.1619922365642841, 0.182...</td>\n",
       "      <td>[0.7132920945620651, 0.7252024411791501, 0.838...</td>\n",
       "      <td>[0.7871428571428571, 0.7805479452054794, 0.798...</td>\n",
       "    </tr>\n",
       "    <tr>\n",
       "      <th>8</th>\n",
       "      <td>MORPH\\n(Geneformer)</td>\n",
       "      <td>0.445800</td>\n",
       "      <td>0.037445</td>\n",
       "      <td>0.907851</td>\n",
       "      <td>0.032941</td>\n",
       "      <td>0.181023</td>\n",
       "      <td>0.013948</td>\n",
       "      <td>0.181023</td>\n",
       "      <td>0.013948</td>\n",
       "      <td>0.762024</td>\n",
       "      <td>0.062406</td>\n",
       "      <td>0.785221</td>\n",
       "      <td>0.022838</td>\n",
       "      <td>[0.4817371252634598, 0.3915968949135202, 0.429...</td>\n",
       "      <td>[0.8585582565352512, 0.8976475798878162, 0.944...</td>\n",
       "      <td>[0.1926842806781527, 0.1589211049841949, 0.183...</td>\n",
       "      <td>[0.1926842804232995, 0.1589211045745909, 0.183...</td>\n",
       "      <td>[0.732105814556857, 0.7595120978704932, 0.8539...</td>\n",
       "      <td>[0.7756626506024096, 0.7955555555555556, 0.820...</td>\n",
       "    </tr>\n",
       "  </tbody>\n",
       "</table>\n",
       "</div>"
      ],
      "text/plain": [
       "                          model_name  mmd_mean   mmd_std   r2_mean    r2_std  \\\n",
       "0              Control\\ndistribution  1.041540  0.072845  0.792292  0.032314   \n",
       "1                              GEARS  0.659200  0.040521  0.880890  0.032363   \n",
       "2                   Linear\\n(DepMap)  0.628155  0.038760  0.885293  0.029683   \n",
       "3  MORPH\\n(Control\\ngene expression)  0.464742  0.032300  0.902069  0.037489   \n",
       "4                    MORPH\\n(DepMap)  0.443999  0.025907  0.911635  0.032730   \n",
       "5             MORPH\\n(GPT\\n(STRING))  0.442049  0.020432  0.911697  0.028095   \n",
       "6            MORPH\\n(GenePT\\n(NCBI))  0.446799  0.024487  0.911546  0.029042   \n",
       "7    MORPH\\n(GenePT\\n(NCBI+UniProt))  0.436184  0.023051  0.912474  0.033207   \n",
       "8                MORPH\\n(Geneformer)  0.445800  0.037445  0.907851  0.032941   \n",
       "\n",
       "   rmse_mean  rmse_std  rmse_change_mean  rmse_change_std  \\\n",
       "0   0.372830  0.023160          0.372830         0.023160   \n",
       "1   0.238373  0.016865          0.238373         0.016865   \n",
       "2   0.228271  0.012304          0.228271         0.012304   \n",
       "3   0.184851  0.013746          0.184851         0.013746   \n",
       "4   0.177943  0.011322          0.177943         0.011322   \n",
       "5   0.176897  0.010823          0.176897         0.010823   \n",
       "6   0.179458  0.013283          0.179458         0.013283   \n",
       "7   0.174924  0.011894          0.174924         0.011894   \n",
       "8   0.181023  0.013948          0.181023         0.013948   \n",
       "\n",
       "   pearsonr_change_mean  pearsonr_change_std  fraction_mean  fraction_std  \\\n",
       "0              0.009252             0.019229       0.522814      0.007907   \n",
       "1              0.651955             0.110641       0.602249      0.031533   \n",
       "2              0.661464             0.043617       0.701953      0.012191   \n",
       "3              0.757167             0.059216       0.772343      0.015039   \n",
       "4              0.756167             0.039789       0.782956      0.017775   \n",
       "5              0.786538             0.035804       0.790503      0.022064   \n",
       "6              0.780345             0.042841       0.785836      0.015185   \n",
       "7              0.774540             0.053253       0.788869      0.007571   \n",
       "8              0.762024             0.062406       0.785221      0.022838   \n",
       "\n",
       "                                          mmd_values  \\\n",
       "0  [1.0482013861114172, 0.9577325752224196, 1.153...   \n",
       "1  [0.62828933181117, 0.7289605906945035, 0.65795...   \n",
       "2  [0.6660969133379095, 0.5677893779160021, 0.636...   \n",
       "3  [0.5053705453075503, 0.4269373008730788, 0.481...   \n",
       "4  [0.4829197312616607, 0.41562637598796, 0.45072...   \n",
       "5  [0.4503248441934325, 0.4164680325263065, 0.467...   \n",
       "6  [0.4633780337876474, 0.4061821239077309, 0.467...   \n",
       "7  [0.4719376130768105, 0.408280035579172, 0.4371...   \n",
       "8  [0.4817371252634598, 0.3915968949135202, 0.429...   \n",
       "\n",
       "                                           r2_values  \\\n",
       "0  [0.7365747460821472, 0.795605648060406, 0.8010...   \n",
       "1  [0.8450291221392396, 0.8491387443552325, 0.916...   \n",
       "2  [0.8384881881897606, 0.878887035771038, 0.9181...   \n",
       "3  [0.8418041224467704, 0.9003893701967358, 0.938...   \n",
       "4  [0.8602149609647515, 0.9001843837859608, 0.943...   \n",
       "5  [0.8683340206380341, 0.9015328130994772, 0.939...   \n",
       "6  [0.8676822493960731, 0.897463851794378, 0.9394...   \n",
       "7  [0.8616356942439489, 0.8978636040503075, 0.944...   \n",
       "8  [0.8585582565352512, 0.8976475798878162, 0.944...   \n",
       "\n",
       "                                         rmse_values  \\\n",
       "0  [0.3776128, 0.3465689122676849, 0.408061295747...   \n",
       "1  [0.22516415, 0.26564077, 0.23892634, 0.2385690...   \n",
       "2  [0.240387212808804, 0.207768686865531, 0.23021...   \n",
       "3  [0.2026765209894337, 0.1709339358050704, 0.192...   \n",
       "4  [0.1915494085033715, 0.1684773335578396, 0.187...   \n",
       "5  [0.1805564134212467, 0.1680071629773337, 0.192...   \n",
       "6  [0.1870639656843511, 0.1621942139181088, 0.196...   \n",
       "7  [0.1898104044456282, 0.1619922368975937, 0.182...   \n",
       "8  [0.1926842806781527, 0.1589211049841949, 0.183...   \n",
       "\n",
       "                                  rmse_change_values  \\\n",
       "0  [0.3776128, 0.3465689122676849, 0.408061295747...   \n",
       "1  [0.22516415, 0.26564077, 0.23892634, 0.2385690...   \n",
       "2  [0.2403872130022019, 0.2077686864980994, 0.230...   \n",
       "3  [0.2026765206781233, 0.1709339354712288, 0.192...   \n",
       "4  [0.1915494080962938, 0.16847733322775, 0.18770...   \n",
       "5  [0.1805564130938875, 0.1680071626934788, 0.192...   \n",
       "6  [0.1870639653146093, 0.1621942135343299, 0.196...   \n",
       "7  [0.1898104042316547, 0.1619922365642841, 0.182...   \n",
       "8  [0.1926842804232995, 0.1589211045745909, 0.183...   \n",
       "\n",
       "                              pearsonr_change_values  \\\n",
       "0  [0.0105737947110637, -0.0103423004768037, 0.04...   \n",
       "1  [0.695138464238511, 0.4678775493943838, 0.7533...   \n",
       "2  [0.6585906725689575, 0.6147058314298262, 0.726...   \n",
       "3  [0.6923765581181671, 0.7218338176497612, 0.848...   \n",
       "4  [0.7231937598834637, 0.714044485221148, 0.8127...   \n",
       "5  [0.7627466973423168, 0.7503966756278564, 0.839...   \n",
       "6  [0.7369964975546905, 0.7424439288609256, 0.841...   \n",
       "7  [0.7132920945620651, 0.7252024411791501, 0.838...   \n",
       "8  [0.732105814556857, 0.7595120978704932, 0.8539...   \n",
       "\n",
       "                                     fraction_values  \n",
       "0  [0.5230952380952381, 0.512054794520548, 0.5192...  \n",
       "1  [0.5997402597402597, 0.5634285714285716, 0.646...  \n",
       "2  [0.6962025316455697, 0.6917808219178082, 0.722...  \n",
       "3  [0.7597500000000001, 0.7619444444444444, 0.797...  \n",
       "4  [0.7820253164556961, 0.7605714285714287, 0.799...  \n",
       "5  [0.7612500000000001, 0.7905555555555556, 0.816...  \n",
       "6  [0.7659523809523809, 0.7767123287671233, 0.805...  \n",
       "7  [0.7871428571428571, 0.7805479452054794, 0.798...  \n",
       "8  [0.7756626506024096, 0.7955555555555556, 0.820...  "
      ]
     },
     "execution_count": 45,
     "metadata": {},
     "output_type": "execute_result"
    }
   ],
   "source": [
    "grouped_data = all_results_df.groupby(\"model_name\").agg(\n",
    "    mmd_mean=(\"mmd\", \"mean\"),\n",
    "    mmd_std=(\"mmd\", \"std\"),\n",
    "    r2_mean=(\"r2\", \"mean\"),\n",
    "    r2_std=(\"r2\", \"std\"),\n",
    "    rmse_mean=(\"rmse\", \"mean\"),\n",
    "    rmse_std=(\"rmse\", \"std\"),\n",
    "    rmse_change_mean=(\"rmse_change\", \"mean\"),\n",
    "    rmse_change_std=(\"rmse_change\", \"std\"),\n",
    "    pearsonr_change_mean=(\"pearsonr_change\", \"mean\"),\n",
    "    pearsonr_change_std=(\"pearsonr_change\", \"std\"),\n",
    "    fraction_mean=(\"fraction\", \"mean\"),\n",
    "    fraction_std=(\"fraction\", \"std\"),\n",
    "    mmd_values=(\"mmd\", lambda x: list(x)),\n",
    "    r2_values=(\"r2\", lambda x: list(x)),\n",
    "    rmse_values=(\"rmse\", lambda x: list(x)),\n",
    "    rmse_change_values=(\"rmse_change\", lambda x: list(x)),\n",
    "    pearsonr_change_values=(\"pearsonr_change\", lambda x: list(x)),\n",
    "    fraction_values=(\"fraction\", lambda x: list(x)),\n",
    ").reset_index()\n",
    "grouped_data"
   ]
  },
  {
   "cell_type": "code",
   "execution_count": 46,
   "metadata": {},
   "outputs": [],
   "source": [
    "grouped_data.to_csv(f'{result_folder}/sumamry_results.csv', index=False)"
   ]
  },
  {
   "cell_type": "code",
   "execution_count": 47,
   "metadata": {},
   "outputs": [],
   "source": [
    "desired_order_baseline = [ 'Control\\ndistribution', 'GEARS', 'Linear\\n(DepMap)',  'MORPH\\n(DepMap)']\n",
    "if config['include_moe']:\n",
    "    desired_order_priors = ['Control\\ngene expression','Geneformer', 'GenePT\\n(NCBI)', 'GenePT\\n(NCBI+UniProt)', 'GPT\\n(STRING)', 'DepMap', 'MOE\\n(DepMap+\\nNCBI+\\nSTRING)']\n",
    "else:\n",
    "    desired_order_priors = ['Control\\ngene expression','Geneformer', 'GenePT\\n(NCBI)', 'GenePT\\n(NCBI+UniProt)', 'GPT\\n(STRING)', 'DepMap']\n",
    "plot_types = ['compare_priors', 'compare_baselines']"
   ]
  },
  {
   "cell_type": "markdown",
   "metadata": {},
   "source": [
    "### Plot MMD (distribution loss)"
   ]
  },
  {
   "cell_type": "code",
   "execution_count": 48,
   "metadata": {},
   "outputs": [],
   "source": [
    "model_colors_baseline = {\n",
    "            'Control\\ndistribution': 'darkgrey',\n",
    "            'GEARS': '#6baed6',\n",
    "            'Linear\\n(DepMap)': '#9e9ac8',\n",
    "            'MORPH\\n(DepMap)': '#74c476',\n",
    "        }\n",
    "\n",
    "model_colors_prior = {\n",
    "            'Control\\ngene expression': '#b9e1ba',\n",
    "            'Geneformer': '#abdbac',\n",
    "            'GenePT\\n(NCBI)': '#9dd59f',\n",
    "            'GenePT\\n(NCBI+UniProt)': '#8fcf91',\n",
    "            'GPT\\n(STRING)': '#81c983',\n",
    "            'DepMap': '#74c476',\n",
    "            'MOE\\n(DepMap+\\nNCBI+\\nSTRING)': '#66bf69',\n",
    "        }"
   ]
  },
  {
   "cell_type": "code",
   "execution_count": 49,
   "metadata": {},
   "outputs": [
    {
     "data": {
      "text/plain": [
       "array([0.08820262, 0.02000786, 0.0489369 , 0.11204466, 0.0933779 ])"
      ]
     },
     "execution_count": 49,
     "metadata": {},
     "output_type": "execute_result"
    }
   ],
   "source": [
    "np.random.seed(0)\n",
    "jiggers = np.random.normal(0, 0.05, size=len(grouped_data['mmd_values'].values[0]))\n",
    "jiggers"
   ]
  },
  {
   "cell_type": "code",
   "execution_count": 50,
   "metadata": {},
   "outputs": [],
   "source": [
    "# set mmd_mean, mmd_std, and mmd_values to 0 for Linear\\n(DepMap)\n",
    "grouped_data.loc[grouped_data['model_name'] == 'Linear\\n(DepMap)', 'mmd_mean'] = -1\n",
    "grouped_data.loc[grouped_data['model_name'] == 'Linear\\n(DepMap)', 'mmd_std'] = 0"
   ]
  },
  {
   "cell_type": "code",
   "execution_count": 51,
   "metadata": {},
   "outputs": [
    {
     "data": {
      "image/png": "[encoded data removed]",
      "text/plain": [
       "<Figure size 350x300 with 1 Axes>"
      ]
     },
     "metadata": {},
     "output_type": "display_data"
    },
    {
     "data": {
      "image/png": "[encoded data removed]",
      "text/plain": [
       "<Figure size 350x300 with 1 Axes>"
      ]
     },
     "metadata": {},
     "output_type": "display_data"
    }
   ],
   "source": [
    "from matplotlib.patches import Rectangle\n",
    "for plot_type in plot_types:\n",
    "    # Simplified bar plot for MMD\n",
    "    plt.rcParams['font.family'] = 'sans-serif'\n",
    "    plt.rcParams['font.size'] = 10\n",
    "\n",
    "    # Prepare the DataFrame for MMD\n",
    "    mmd_df = grouped_data.dropna(subset=['mmd_mean'])\n",
    "    if plot_type == 'compare_baselines':\n",
    "        desired_order = desired_order_baseline\n",
    "        model_colors = model_colors_baseline\n",
    "    elif plot_type == 'compare_priors':\n",
    "        # subset and rename the model names\n",
    "        mmd_df = mmd_df[mmd_df['model_name'].str.contains('MORPH|MOE')]\n",
    "        mmd_df['model_name'] = mmd_df['model_name'].str.replace(r\"MORPH\\n\\(([^)]*)\\)\", r\"\\1\", regex=True)\n",
    "        desired_order = desired_order_priors\n",
    "        model_colors = model_colors_prior\n",
    "    mmd_df = mmd_df[mmd_df['model_name'].isin(desired_order)]\n",
    "    mmd_df['model_name'] = pd.Categorical(mmd_df['model_name'], categories=desired_order[::-1], ordered=True)\n",
    "    mmd_df = mmd_df.sort_values('model_name')\n",
    "\n",
    "    # Customize x-axis limits and ticks based on dataset\n",
    "    if config['include_moe']:\n",
    "        fig_x = 4\n",
    "        fig_y = 4\n",
    "    else:\n",
    "        fig_x = 3.5\n",
    "        fig_y = 3\n",
    "        bar_width = 0.8\n",
    "    if config['dataset_name'] == 'norman_k562_hvg':\n",
    "        if config['test_set_name'] == '5_fold_split':\n",
    "            x_min = 0.3\n",
    "            x_max = 1.2\n",
    "\n",
    "    # Draw figure\n",
    "    fig, ax = plt.subplots(figsize=(fig_x, fig_y))\n",
    "    indices = np.arange(len(mmd_df))\n",
    "    colors = mmd_df['model_name'].map(model_colors)\n",
    "\n",
    "    # Plot bars for MMD with individual colors\n",
    "    # ax.barh(indices, mmd_df['mmd_mean'],color=colors, zorder = 1)\n",
    "    # Plot horizontal bars\n",
    "    for idx, (mean, color) in enumerate(zip(mmd_df['mmd_mean'], colors)):\n",
    "        if mean > 0:\n",
    "            ax.barh(idx, mean, color=color, zorder=1)\n",
    "        else:\n",
    "            # Add rectangle with diagonal hatching for NA\n",
    "            rect = Rectangle(\n",
    "                (0, idx - 0.4),  # Bottom-left corner (start of rectangle)\n",
    "                2,             # length of rectangle\n",
    "                bar_width,       # bar width\n",
    "                facecolor='none',  # Transparent fill\n",
    "                edgecolor='black', # Border color\n",
    "                linewidth=1,\n",
    "                hatch='///'        # Diagonal lines\n",
    "            )\n",
    "            ax.add_patch(rect)\n",
    "\n",
    "    # Plot individual dots for each MMD value\n",
    "    for i, model_name in enumerate(mmd_df['model_name']):\n",
    "        if model_name == 'Linear\\n(DepMap)':\n",
    "            continue\n",
    "        model_values = mmd_df[mmd_df['model_name'] == model_name]['mmd_values'].values[0]\n",
    "        jittered_y = indices[i] + jiggers  # Adjust the jitter level as needed\n",
    "        ax.scatter(model_values, jittered_y, color='#cccccc', alpha=0.8, s=30, zorder=2)\n",
    "    # Plot error bars for MMD on top (top layer)\n",
    "    ax.errorbar(mmd_df['mmd_mean'], indices, xerr=mmd_df['mmd_std'], fmt='none', \n",
    "                ecolor='black', elinewidth=3, capsize=2, zorder=3, alpha=0.8)\n",
    "\n",
    "    # Set ticks and labels\n",
    "    ax.set_yticks(indices)\n",
    "    ax.set_yticklabels(mmd_df['model_name'])\n",
    "    ax.set_xlabel('MMD (distribution loss)')\n",
    "    ax.set_xlim(x_min, x_max)\n",
    "    ax.set_xticks(np.round(np.linspace(x_min, x_max, 4), 2))\n",
    "    ax.grid(False, axis='x', linestyle='--')\n",
    "    \n",
    "    # Save plot\n",
    "    plt.tight_layout()\n",
    "    if config['include_moe']:\n",
    "        plt.savefig(f'{result_folder}/{plot_type}_mmd_plot_moe.png', dpi=300)\n",
    "        # save svg format\n",
    "        plt.savefig(f'{result_folder}/{plot_type}_mmd_plot_moe.svg', format='svg')\n",
    "    else:\n",
    "        plt.savefig(f'{result_folder}/{plot_type}_mmd_plot.png', dpi=300)\n",
    "        # save svg format\n",
    "        plt.savefig(f'{result_folder}/{plot_type}_mmd_plot.svg', format='svg')\n",
    "        plt.show()"
   ]
  },
  {
   "cell_type": "markdown",
   "metadata": {},
   "source": [
    "### Plot RMSE (feature means)"
   ]
  },
  {
   "cell_type": "code",
   "execution_count": 52,
   "metadata": {},
   "outputs": [
    {
     "data": {
      "image/png": "[encoded data removed]",
      "text/plain": [
       "<Figure size 250x300 with 1 Axes>"
      ]
     },
     "metadata": {},
     "output_type": "display_data"
    },
    {
     "data": {
      "image/png": "[encoded data removed]",
      "text/plain": [
       "<Figure size 250x300 with 1 Axes>"
      ]
     },
     "metadata": {},
     "output_type": "display_data"
    }
   ],
   "source": [
    "for plot_type in plot_types:\n",
    "    # Simplified bar plot for rmse\n",
    "    plt.rcParams['font.family'] = 'sans-serif'\n",
    "    plt.rcParams['font.size'] = 10\n",
    "\n",
    "    # Prepare the DataFrame for rmse\n",
    "    rmse_df = grouped_data.dropna(subset=['rmse_mean'])\n",
    "    if plot_type == 'compare_baselines':\n",
    "        desired_order = desired_order_baseline\n",
    "        model_colors = model_colors_baseline\n",
    "    elif plot_type == 'compare_priors':\n",
    "        # subset and rename the model names\n",
    "        rmse_df = rmse_df[rmse_df['model_name'].str.contains('MORPH')]\n",
    "        rmse_df['model_name'] = rmse_df['model_name'].str.replace(r\"MORPH\\n\\(([^)]*)\\)\", r\"\\1\", regex=True)\n",
    "        desired_order = desired_order_priors\n",
    "        model_colors = model_colors_prior\n",
    "    rmse_df = rmse_df[rmse_df['model_name'].isin(desired_order)]\n",
    "    rmse_df['model_name'] = pd.Categorical(rmse_df['model_name'], categories=desired_order[::-1], ordered=True)\n",
    "    rmse_df = rmse_df.sort_values('model_name')\n",
    "\n",
    "    # Customize x-axis limits and ticks based on dataset\n",
    "    fig_x = 2.5\n",
    "    fig_y = 3\n",
    "    if config[\"dataset_name\"] == 'norman_k562_hvg':\n",
    "        if config[\"test_set_name\"] == '5_fold_split':\n",
    "            x_min=0.15\n",
    "            x_max=0.4\n",
    "\n",
    "    # Set up figure\n",
    "    fig, ax = plt.subplots(figsize=(fig_x, fig_y))\n",
    "\n",
    "    # Set bar width\n",
    "    indices = np.arange(len(rmse_df))\n",
    "    colors = rmse_df['model_name'].map(model_colors)\n",
    "\n",
    "    # Plot bars\n",
    "    ax.barh(indices, rmse_df['rmse_mean'],color=colors, zorder = 1)\n",
    "    # Plot individual dots\n",
    "    for i, model_name in enumerate(rmse_df['model_name']):\n",
    "        model_values = rmse_df[rmse_df['model_name'] == model_name]['rmse_values'].values[0]\n",
    "        jittered_y = indices[i] + jiggers\n",
    "        ax.scatter(model_values, jittered_y, color='#cccccc', alpha=0.8, s=30, zorder=2)\n",
    "    # Plot error bars\n",
    "    ax.errorbar(rmse_df['rmse_mean'], indices, xerr=rmse_df['rmse_std'], fmt='none', \n",
    "                ecolor='black', elinewidth=3, capsize=2, zorder=3, alpha=0.8)\n",
    "\n",
    "    # Set ticks and labels\n",
    "    ax.set_yticks([])\n",
    "    ax.set_yticklabels([])\n",
    "    ax.set_xlabel('RMSE (feature means)')\n",
    "    ax.set_xlim(x_min, x_max)\n",
    "    ax.set_xticks(np.round(np.linspace(x_min, x_max, 4), 2))\n",
    "    ax.grid(False, axis='x', linestyle='--')\n",
    "\n",
    "    # Save plot\n",
    "    plt.tight_layout()\n",
    "    plt.savefig(f'{result_folder}/{plot_type}_rmse_plot.png', dpi=300)\n",
    "    # save svg format\n",
    "    plt.savefig(f'{result_folder}/{plot_type}_rmse_plot.svg', format='svg')\n",
    "    plt.show()"
   ]
  },
  {
   "cell_type": "markdown",
   "metadata": {},
   "source": [
    "### Plot pearson correlation with true change in expression (top 50 de genes)"
   ]
  },
  {
   "cell_type": "code",
   "execution_count": 53,
   "metadata": {},
   "outputs": [
    {
     "data": {
      "image/png": "[encoded data removed]",
      "text/plain": [
       "<Figure size 300x300 with 1 Axes>"
      ]
     },
     "metadata": {},
     "output_type": "display_data"
    },
    {
     "data": {
      "image/png": "[encoded data removed]",
      "text/plain": [
       "<Figure size 300x300 with 1 Axes>"
      ]
     },
     "metadata": {},
     "output_type": "display_data"
    }
   ],
   "source": [
    "for plot_type in plot_types:\n",
    "    # Simplified bar plot for MMD\n",
    "    plt.rcParams['font.family'] = 'sans-serif'\n",
    "    plt.rcParams['font.size'] = 10\n",
    "\n",
    "    # Prepare the DataFrame for MMD\n",
    "    plot_df = grouped_data.dropna(subset=['pearsonr_change_mean'])\n",
    "    if plot_type == 'compare_baselines':\n",
    "        desired_order = desired_order_baseline\n",
    "        model_colors = model_colors_baseline\n",
    "    elif plot_type == 'compare_priors':\n",
    "        # subset and rename the model names\n",
    "        plot_df = plot_df[plot_df['model_name'].str.contains('MORPH')]\n",
    "        plot_df['model_name'] = plot_df['model_name'].str.replace(r\"MORPH\\n\\(([^)]*)\\)\", r\"\\1\", regex=True)\n",
    "        desired_order = desired_order_priors\n",
    "        model_colors = model_colors_prior\n",
    "    plot_df = plot_df[plot_df['model_name'].isin(desired_order)]\n",
    "    plot_df['model_name'] = pd.Categorical(plot_df['model_name'], categories=desired_order[::-1], ordered=True)\n",
    "    plot_df = plot_df.sort_values('model_name')\n",
    "\n",
    "    # Customize x-axis limits and ticks based on dataset\n",
    "    fig_x = 3\n",
    "    fig_y = 3\n",
    "    if config['dataset_name'] == 'norman_k562_hvg':\n",
    "        if config['test_set_name'] == '5_fold_split':\n",
    "            x_min = 0\n",
    "            x_max = 0.9\n",
    "\n",
    "    # Set up figure\n",
    "    fig, ax = plt.subplots(figsize=(fig_x, fig_y))\n",
    "\n",
    "    # Set bar width\n",
    "    indices = np.arange(len(plot_df))\n",
    "    colors = plot_df['model_name'].map(model_colors)\n",
    "\n",
    "    # Plot bars\n",
    "    ax.barh(indices, plot_df['pearsonr_change_mean'],color=colors, zorder = 1)\n",
    "    # Plot individual dots\n",
    "    for i, model_name in enumerate(plot_df['model_name']):\n",
    "        model_values = plot_df[plot_df['model_name'] == model_name]['pearsonr_change_values'].values[0]\n",
    "        jittered_y = indices[i] + jiggers\n",
    "        ax.scatter(model_values, jittered_y, color='#cccccc', alpha=0.8, s=30, zorder=2)\n",
    "    # Plot error bars\n",
    "    ax.errorbar(plot_df['pearsonr_change_mean'], indices, xerr=plot_df['pearsonr_change_std'], fmt='none', \n",
    "                ecolor='black', elinewidth=3, capsize=2, zorder=3, alpha=0.8)\n",
    "\n",
    "    # Set ticks and labels\n",
    "    ax.set_yticks(indices)\n",
    "    ax.set_yticklabels(plot_df['model_name'])\n",
    "    # ax.set_yticks([])\n",
    "    # ax.set_yticklabels([])\n",
    "    ax.set_xlabel(r'Pearson correlation (delta)')\n",
    "    ax.set_xlim(x_min, x_max)\n",
    "    ax.set_xticks(np.round(np.linspace(x_min, x_max, 4), 2))\n",
    "    ax.grid(False, axis='x', linestyle='--')\n",
    "\n",
    "    # Save plot\n",
    "    plt.tight_layout()\n",
    "    plt.savefig(f'{result_folder}/{plot_type}_pearsonr_change_plot.png', dpi=300)\n",
    "    # save svg format\n",
    "    plt.savefig(f'{result_folder}/{plot_type}_pearsonr_change_plot.svg', format='svg')\n",
    "    plt.show()"
   ]
  },
  {
   "cell_type": "markdown",
   "metadata": {},
   "source": [
    "### Plot fraction of top 50 DE genes with true direction"
   ]
  },
  {
   "cell_type": "code",
   "execution_count": 54,
   "metadata": {},
   "outputs": [
    {
     "data": {
      "image/png": "[encoded data removed]",
      "text/plain": [
       "<Figure size 300x300 with 1 Axes>"
      ]
     },
     "metadata": {},
     "output_type": "display_data"
    },
    {
     "data": {
      "image/png": "[encoded data removed]",
      "text/plain": [
       "<Figure size 300x300 with 1 Axes>"
      ]
     },
     "metadata": {},
     "output_type": "display_data"
    }
   ],
   "source": [
    "for plot_type in plot_types:\n",
    "    # Simplified bar plot for MMD\n",
    "    plt.rcParams['font.family'] = 'sans-serif'\n",
    "    plt.rcParams['font.size'] = 10\n",
    "\n",
    "    # Prepare the DataFrame for MMD\n",
    "    plot_df = grouped_data.dropna(subset=['fraction_mean'])\n",
    "    if plot_type == 'compare_baselines':\n",
    "        desired_order = desired_order_baseline\n",
    "        model_colors = model_colors_baseline\n",
    "    elif plot_type == 'compare_priors':\n",
    "        # subset and rename the model names\n",
    "        plot_df = plot_df[plot_df['model_name'].str.contains('MORPH')]\n",
    "        plot_df['model_name'] = plot_df['model_name'].str.replace(r\"MORPH\\n\\(([^)]*)\\)\", r\"\\1\", regex=True)\n",
    "        desired_order = desired_order_priors\n",
    "        model_colors = model_colors_prior\n",
    "    plot_df = plot_df[plot_df['model_name'].isin(desired_order)]\n",
    "    plot_df['model_name'] = pd.Categorical(plot_df['model_name'], categories=desired_order[::-1], ordered=True)\n",
    "    plot_df = plot_df.sort_values('model_name')\n",
    "\n",
    "    # Customize x-axis limits and ticks based on dataset\n",
    "    fig_x = 3\n",
    "    fig_y = 3\n",
    "    if config['dataset_name'] == 'norman_k562_hvg':\n",
    "        if config['test_set_name'] == '5_fold_split':\n",
    "            x_min = 0\n",
    "            x_max = 0.9\n",
    "\n",
    "    # Set up figure\n",
    "    fig, ax = plt.subplots(figsize=(fig_x, fig_y))\n",
    "\n",
    "    # Set bar width\n",
    "    indices = np.arange(len(plot_df))\n",
    "    colors = plot_df['model_name'].map(model_colors)\n",
    "\n",
    "    # Plot bars\n",
    "    ax.barh(indices, plot_df['fraction_mean'],color=colors, zorder = 1)\n",
    "    # Plot individual dots\n",
    "    for i, model_name in enumerate(plot_df['model_name']):\n",
    "        model_values = plot_df[plot_df['model_name'] == model_name]['fraction_values'].values[0]\n",
    "        jittered_y = indices[i] + jiggers  # Adjust the jitter level as needed\n",
    "        ax.scatter(model_values, jittered_y, color='#cccccc', alpha=0.8, s=30, zorder=2)\n",
    "    # Plot error bars\n",
    "    ax.errorbar(plot_df['fraction_mean'], indices, xerr=plot_df['fraction_std'], fmt='none', \n",
    "                ecolor='black', elinewidth=3, capsize=2, zorder=3, alpha=0.8)\n",
    "\n",
    "    # Set ticks and labels\n",
    "    ax.set_yticks(indices)\n",
    "    ax.set_yticklabels(plot_df['model_name'])\n",
    "    ax.set_xlabel('Fraction of top 50 DE genes\\nwith correct direction (delta)')\n",
    "    ax.set_xlim(x_min, x_max)\n",
    "    ax.set_xticks(np.round(np.linspace(x_min, x_max, 4), 2))\n",
    "    ax.grid(False, axis='x', linestyle='--')\n",
    "\n",
    "    # Save plot\n",
    "    plt.tight_layout()\n",
    "    plt.savefig(f'{result_folder}/{plot_type}_fraction_change_plot.png', dpi=300)\n",
    "    # save svg format\n",
    "    plt.savefig(f'{result_folder}/{plot_type}_fraction_change_plot.svg', format='svg')\n",
    "    plt.show()"
   ]
  }
 ],
 "metadata": {
  "kernelspec": {
   "display_name": "geneformer",
   "language": "python",
   "name": "geneformer"
  },
  "language_info": {
   "codemirror_mode": {
    "name": "ipython",
    "version": 3
   },
   "file_extension": ".py",
   "mimetype": "text/x-python",
   "name": "python",
   "nbconvert_exporter": "python",
   "pygments_lexer": "ipython3",
   "version": "3.10.13"
  }
 },
 "nbformat": 4,
 "nbformat_minor": 2
}
