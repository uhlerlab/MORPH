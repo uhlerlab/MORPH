{
 "cells": [
  {
   "cell_type": "code",
   "execution_count": 1,
   "metadata": {},
   "outputs": [],
   "source": [
    "import pandas as pd\n",
    "import scanpy as sc\n",
    "from warnings import filterwarnings\n",
    "filterwarnings('ignore')\n",
    "import os\n",
    "import glob\n",
    "import matplotlib.pyplot as plt\n",
    "import pandas as pd\n",
    "import numpy as np\n",
    "import matplotlib.cm as cm"
   ]
  },
  {
   "cell_type": "markdown",
   "metadata": {},
   "source": [
    "### Gather performance and plotting\n",
    "\n",
    "This script is to plot the performance of different models for the cell-line transfer task. \n",
    "\n",
    "Train on RPE1 and test on K562"
   ]
  },
  {
   "cell_type": "code",
   "execution_count": 2,
   "metadata": {},
   "outputs": [],
   "source": [
    "# load in data\n",
    "cl_train_dataset = 'transfer_cell_line_rpe1_train'\n",
    "cl_test_dataset = 'transfer_cell_line_k562_essential_test'\n",
    "use_hvg = True\n",
    "cl_train_dataset_name = cl_train_dataset + ('_hvg' if use_hvg else '_full')\n",
    "cl_test_dataset_name = cl_test_dataset + ('_hvg' if use_hvg else '_full')\n",
    "\n",
    "recon_loss = 'mmd'\n",
    "null_label = 'zeros' # 'gaussian_normalized' or 'zeros'\n",
    "tolerance_epoch = 20\n",
    "mxAlpha = 2.0\n",
    "n_epochs = 100\n",
    "latdim_ctrl = 50\n",
    "latdim_ptb = 50\n",
    "geneset_num = 50\n",
    "validation_ratio = 0.1\n",
    "validation_ood_ratio = 0.15\n",
    "prior = 'DepMap_GeneEffect'\n",
    "model_type = 'mvae_attention_vae_14_3'"
   ]
  },
  {
   "cell_type": "code",
   "execution_count": 3,
   "metadata": {},
   "outputs": [],
   "source": [
    "random_seeds = [8, 9, 10, 11, 12]"
   ]
  },
  {
   "cell_type": "markdown",
   "metadata": {},
   "source": [
    "### Step 1. Read in all results in csv"
   ]
  },
  {
   "cell_type": "code",
   "execution_count": 4,
   "metadata": {},
   "outputs": [],
   "source": [
    "control_distribution_path = f'/home/che/perturb-project/git/gene_ptb_prediction/cell_line_transfer/baseline_model/predict_control/{cl_test_dataset_name}'\n",
    "mean_shift_path = f'/home/che/perturb-project/git/gene_ptb_prediction/cell_line_transfer/baseline_model/mean_shift/{cl_test_dataset_name}'\n",
    "ft_path = f'/home/che/perturb-project/predict_model/result/rna/{cl_train_dataset_name}/latdim_ctrl_{latdim_ctrl}_latdim_ptb_{latdim_ptb}_geneset_num_{geneset_num}/transfer_cell_line'\n",
    "train_small_path = f'/home/che/perturb-project/predict_model/result/rna/{cl_test_dataset_name}/latdim_ctrl_{latdim_ctrl}_latdim_ptb_{latdim_ptb}_geneset_num_{geneset_num}/fine_tune'\n",
    "train_large_path = f'/home/che/perturb-project/predict_model/result/rna/{cl_test_dataset_name}/latdim_ctrl_{latdim_ctrl}_latdim_ptb_{latdim_ptb}_geneset_num_{geneset_num}/fine_tune_1500'"
   ]
  },
  {
   "cell_type": "code",
   "execution_count": 8,
   "metadata": {},
   "outputs": [
    {
     "name": "stdout",
     "output_type": "stream",
     "text": [
      "read in /home/che/perturb-project/predict_model/result/rna/transfer_cell_line_rpe1_train_hvg/latdim_ctrl_50_latdim_ptb_50_geneset_num_50/transfer_cell_line/recon_loss_mmd/null_label_zeros/epochs_100/tolerance_epochs_20/mxAlpha_2.0/val_0.1_ood_0.15/random_seed_12/DepMap_GeneEffect_mvae_attention_vae_14_3_run1730258323\n",
      "read in /home/che/perturb-project/predict_model/result/rna/transfer_cell_line_rpe1_train_hvg/latdim_ctrl_50_latdim_ptb_50_geneset_num_50/transfer_cell_line/recon_loss_mmd/null_label_zeros/epochs_100/tolerance_epochs_20/mxAlpha_2.0/val_0.1_ood_0.15/random_seed_12/DepMap_GeneEffect_mvae_attention_vae_14_3_run1730258323\n",
      "read in /home/che/perturb-project/predict_model/result/rna/transfer_cell_line_rpe1_train_hvg/latdim_ctrl_50_latdim_ptb_50_geneset_num_50/transfer_cell_line/recon_loss_mmd/null_label_zeros/epochs_100/tolerance_epochs_20/mxAlpha_2.0/val_0.1_ood_0.15/random_seed_12/DepMap_GeneEffect_mvae_attention_vae_14_3_run1730258323\n",
      "read in /home/che/perturb-project/predict_model/result/rna/transfer_cell_line_rpe1_train_hvg/latdim_ctrl_50_latdim_ptb_50_geneset_num_50/transfer_cell_line/recon_loss_mmd/null_label_zeros/epochs_100/tolerance_epochs_20/mxAlpha_2.0/val_0.1_ood_0.15/random_seed_12/DepMap_GeneEffect_mvae_attention_vae_14_3_run1730258323\n",
      "read in /home/che/perturb-project/predict_model/result/rna/transfer_cell_line_rpe1_train_hvg/latdim_ctrl_50_latdim_ptb_50_geneset_num_50/transfer_cell_line/recon_loss_mmd/null_label_zeros/epochs_100/tolerance_epochs_20/mxAlpha_2.0/val_0.1_ood_0.15/random_seed_12/DepMap_GeneEffect_mvae_attention_vae_14_3_run1730258323\n"
     ]
    }
   ],
   "source": [
    "control_distribution_df = pd.DataFrame()\n",
    "mean_shift_df = pd.DataFrame()\n",
    "ft_ctrl_df = pd.DataFrame()\n",
    "ft_small_df = pd.DataFrame()\n",
    "train_small_df = pd.DataFrame()\n",
    "train_large_df = pd.DataFrame()\n",
    "\n",
    "for seed in random_seeds:\n",
    "\n",
    "    # load in control distribution results\n",
    "    control_distribution_path_temp = f'{control_distribution_path}/random_seed_{seed}/ctrl_summary_results.csv'\n",
    "    control_distribution_df_temp = pd.read_csv(control_distribution_path_temp)\n",
    "    control_distribution_df_temp['random_seed'] = seed\n",
    "    control_distribution_df_temp['model_type'] = 'Control distribution'\n",
    "    control_distribution_df_temp['model_path'] = control_distribution_path_temp\n",
    "    control_distribution_df = pd.concat([control_distribution_df, control_distribution_df_temp])\n",
    "\n",
    "    # load in mean shift results\n",
    "    mean_shift_path_temp = f'{mean_shift_path}/random_seed_{seed}/ctrl_summary_results.csv'\n",
    "    mean_shift_df_temp = pd.read_csv(mean_shift_path_temp)\n",
    "    mean_shift_df_temp['random_seed'] = seed\n",
    "    mean_shift_df_temp['model_type'] = 'Mean shift'\n",
    "    mean_shift_df_temp['model_path'] = mean_shift_path_temp\n",
    "    mean_shift_df = pd.concat([mean_shift_df, mean_shift_df_temp])\n",
    "\n",
    "    # load in fine-tune on control results\n",
    "    ft_path_temp = f'{ft_path}/recon_loss_{recon_loss}/null_label_{null_label}/epochs_{n_epochs}/tolerance_epochs_{tolerance_epoch}/mxAlpha_{mxAlpha}/val_{validation_ratio}_ood_{validation_ood_ratio}/random_seed_12'\n",
    "    pattern = f'{ft_path_temp}/{prior}_{model_type}_run*'\n",
    "    ft_path_temp = glob.glob(pattern)\n",
    "    # assert len(ft_path_temp) == 1, f'Error: {pattern}'\n",
    "    ft_path_temp = ft_path_temp[0]\n",
    "    print('read in', ft_path_temp)\n",
    "    ft_ctrl_path_temp = f'{ft_path_temp}/ctrl_ft/best_model_epochs_9_rand_seed_{seed}/summary_results.csv'\n",
    "    ft_ctrl_df_temp = pd.read_csv(ft_ctrl_path_temp)\n",
    "    ft_ctrl_df_temp['random_seed'] = seed\n",
    "    ft_ctrl_df_temp['model_type'] = 'Fine-tune on control'\n",
    "    ft_ctrl_df_temp['model_path'] = ft_ctrl_path_temp\n",
    "    ft_ctrl_df = pd.concat([ft_ctrl_df, ft_ctrl_df_temp])\n",
    "\n",
    "    # load in fine-tune on small set of perturbations results\n",
    "    ft_small_path_temp = f'{ft_path_temp}/fine_tune_100/best_model_epochs_50_rand_seed_{seed}/summary_results.csv'\n",
    "    ft_small_df_temp = pd.read_csv(ft_small_path_temp)\n",
    "    ft_small_df_temp['random_seed'] = seed\n",
    "    ft_small_df_temp['model_type'] = 'Fine-tune on 100 perturbations'\n",
    "    ft_small_df_temp['model_path'] = ft_small_path_temp\n",
    "    ft_small_df = pd.concat([ft_small_df, ft_small_df_temp])\n",
    "\n",
    "    # load in train on small set of perturbations results\n",
    "    train_small_path_temp = f'{train_small_path}/recon_loss_{recon_loss}/null_label_{null_label}/epochs_{n_epochs}/tolerance_epochs_{tolerance_epoch}/mxAlpha_{mxAlpha}/val_{validation_ratio}_ood_{validation_ood_ratio}/random_seed_{seed}'\n",
    "    pattern = f'{train_small_path_temp}/{prior}_{model_type}_run*'\n",
    "    train_small_path_temp = glob.glob(pattern)\n",
    "    assert len(train_small_path_temp) == 1, f'Error: {pattern}'\n",
    "    train_small_path_temp = train_small_path_temp[0]\n",
    "    train_small_path_temp = f'{train_small_path_temp}/best_model_summary_evaluations.csv'\n",
    "    train_small_df_temp = pd.read_csv(train_small_path_temp)\n",
    "    train_small_df_temp['random_seed'] = seed\n",
    "    train_small_df_temp['model_type'] = 'Train on 100 perturbations'\n",
    "    train_small_df_temp['model_path'] = train_small_path_temp\n",
    "    train_small_df = pd.concat([train_small_df, train_small_df_temp])\n",
    "\n",
    "    # load in train on large set of perturbations results\n",
    "    train_large_path_temp = f'{train_large_path}/recon_loss_{recon_loss}/null_label_{null_label}/epochs_{n_epochs}/tolerance_epochs_{tolerance_epoch}/mxAlpha_{mxAlpha}/val_{validation_ratio}_ood_{validation_ood_ratio}/random_seed_{seed}'\n",
    "    pattern = f'{train_large_path_temp}/{prior}_{model_type}_run*'\n",
    "    train_large_path_temp = glob.glob(pattern)\n",
    "    # assert len(train_large_path_temp) == 1, f'Error: {pattern}'\n",
    "    try:\n",
    "        train_large_path_temp = train_large_path_temp[0]\n",
    "        train_large_path_temp = f'{train_large_path_temp}/best_model_summary_evaluations.csv'\n",
    "        train_large_df_temp = pd.read_csv(train_large_path_temp)\n",
    "        train_large_df_temp['random_seed'] = seed\n",
    "        train_large_df_temp['model_type'] = 'Train on 1500 perturbations'\n",
    "        train_large_df_temp['model_path'] = train_large_path_temp\n",
    "        train_large_df = pd.concat([train_large_df, train_large_df_temp])\n",
    "    except:\n",
    "        print(f'Error: {pattern}')\n",
    "\n",
    "assert control_distribution_df.shape[0] == mean_shift_df.shape[0] == ft_ctrl_df.shape[0] == ft_small_df.shape[0] == train_small_df.shape[0] == len(random_seeds)"
   ]
  },
  {
   "cell_type": "code",
   "execution_count": 14,
   "metadata": {},
   "outputs": [],
   "source": [
    "# rename mmd_de to mmd and rmse_de to rmse\n",
    "ft_ctrl_df.rename(columns={'mmd_de': 'mmd', 'rmse_de': 'rmse'}, inplace=True)\n",
    "ft_small_df.rename(columns={'mmd_de': 'mmd', 'rmse_de': 'rmse'}, inplace=True)"
   ]
  },
  {
   "cell_type": "code",
   "execution_count": 15,
   "metadata": {},
   "outputs": [
    {
     "data": {
      "text/plain": [
       "(0.5896515787534897,\n",
       " 0.5496553790579207,\n",
       " 0.48162907871400823,\n",
       " 0.5419931251106738,\n",
       " 0.47067248844333615)"
      ]
     },
     "execution_count": 15,
     "metadata": {},
     "output_type": "execute_result"
    }
   ],
   "source": [
    "control_distribution_df['mmd'].mean(), ft_ctrl_df['mmd'].mean(), ft_small_df['mmd'].mean(), train_small_df['mmd'].mean(), train_large_df['mmd'].mean()"
   ]
  },
  {
   "cell_type": "code",
   "execution_count": 16,
   "metadata": {},
   "outputs": [
    {
     "data": {
      "text/plain": [
       "(0.001026923036132276,\n",
       " 0.007086196315910325,\n",
       " 0.0021552169943820326,\n",
       " 0.009158042604356723,\n",
       " 0.01003258097490696)"
      ]
     },
     "execution_count": 16,
     "metadata": {},
     "output_type": "execute_result"
    }
   ],
   "source": [
    "control_distribution_df['mmd'].std(), ft_ctrl_df['mmd'].std(), ft_small_df['mmd'].std(), train_small_df['mmd'].std(), train_large_df['mmd'].std()"
   ]
  },
  {
   "cell_type": "code",
   "execution_count": 17,
   "metadata": {},
   "outputs": [
    {
     "data": {
      "text/html": [
       "<div>\n",
       "<style scoped>\n",
       "    .dataframe tbody tr th:only-of-type {\n",
       "        vertical-align: middle;\n",
       "    }\n",
       "\n",
       "    .dataframe tbody tr th {\n",
       "        vertical-align: top;\n",
       "    }\n",
       "\n",
       "    .dataframe thead th {\n",
       "        text-align: right;\n",
       "    }\n",
       "</style>\n",
       "<table border=\"1\" class=\"dataframe\">\n",
       "  <thead>\n",
       "    <tr style=\"text-align: right;\">\n",
       "      <th></th>\n",
       "      <th>mmd</th>\n",
       "      <th>mmd_whole</th>\n",
       "      <th>r2_de</th>\n",
       "      <th>r2_whole</th>\n",
       "      <th>l2_de</th>\n",
       "      <th>mse_de</th>\n",
       "      <th>mse_whole</th>\n",
       "      <th>rmse</th>\n",
       "      <th>rmse_whole</th>\n",
       "      <th>pearsonr_de</th>\n",
       "      <th>...</th>\n",
       "      <th>rmse_change</th>\n",
       "      <th>rmse_change_whole</th>\n",
       "      <th>pearsonr_change</th>\n",
       "      <th>pearsonr_change_whole</th>\n",
       "      <th>fraction</th>\n",
       "      <th>fraction_whole</th>\n",
       "      <th>note</th>\n",
       "      <th>random_seed</th>\n",
       "      <th>model_type</th>\n",
       "      <th>model_path</th>\n",
       "    </tr>\n",
       "  </thead>\n",
       "  <tbody>\n",
       "    <tr>\n",
       "      <th>0</th>\n",
       "      <td>0.544001</td>\n",
       "      <td>0.430509</td>\n",
       "      <td>0.925349</td>\n",
       "      <td>0.973654</td>\n",
       "      <td>1.414443</td>\n",
       "      <td>0.050947</td>\n",
       "      <td>0.006474</td>\n",
       "      <td>0.200032</td>\n",
       "      <td>0.075708</td>\n",
       "      <td>0.976020</td>\n",
       "      <td>...</td>\n",
       "      <td>0.200032</td>\n",
       "      <td>0.075708</td>\n",
       "      <td>0.241688</td>\n",
       "      <td>0.123237</td>\n",
       "      <td>0.593918</td>\n",
       "      <td>0.528577</td>\n",
       "      <td>Using top 50 marker genes</td>\n",
       "      <td>8</td>\n",
       "      <td>Fine-tune on control</td>\n",
       "      <td>/home/che/perturb-project/predict_model/result...</td>\n",
       "    </tr>\n",
       "    <tr>\n",
       "      <th>0</th>\n",
       "      <td>0.546063</td>\n",
       "      <td>0.427771</td>\n",
       "      <td>0.924992</td>\n",
       "      <td>0.974691</td>\n",
       "      <td>1.415620</td>\n",
       "      <td>0.051426</td>\n",
       "      <td>0.006218</td>\n",
       "      <td>0.200199</td>\n",
       "      <td>0.074373</td>\n",
       "      <td>0.976619</td>\n",
       "      <td>...</td>\n",
       "      <td>0.200199</td>\n",
       "      <td>0.074373</td>\n",
       "      <td>0.254612</td>\n",
       "      <td>0.130287</td>\n",
       "      <td>0.597878</td>\n",
       "      <td>0.529848</td>\n",
       "      <td>Using top 50 marker genes</td>\n",
       "      <td>9</td>\n",
       "      <td>Fine-tune on control</td>\n",
       "      <td>/home/che/perturb-project/predict_model/result...</td>\n",
       "    </tr>\n",
       "    <tr>\n",
       "      <th>0</th>\n",
       "      <td>0.559515</td>\n",
       "      <td>0.434512</td>\n",
       "      <td>0.923018</td>\n",
       "      <td>0.972828</td>\n",
       "      <td>1.446026</td>\n",
       "      <td>0.053768</td>\n",
       "      <td>0.006675</td>\n",
       "      <td>0.204499</td>\n",
       "      <td>0.076914</td>\n",
       "      <td>0.975889</td>\n",
       "      <td>...</td>\n",
       "      <td>0.204499</td>\n",
       "      <td>0.076914</td>\n",
       "      <td>0.225876</td>\n",
       "      <td>0.114053</td>\n",
       "      <td>0.581658</td>\n",
       "      <td>0.526379</td>\n",
       "      <td>Using top 50 marker genes</td>\n",
       "      <td>10</td>\n",
       "      <td>Fine-tune on control</td>\n",
       "      <td>/home/che/perturb-project/predict_model/result...</td>\n",
       "    </tr>\n",
       "    <tr>\n",
       "      <th>0</th>\n",
       "      <td>0.543937</td>\n",
       "      <td>0.429258</td>\n",
       "      <td>0.925751</td>\n",
       "      <td>0.974127</td>\n",
       "      <td>1.411198</td>\n",
       "      <td>0.051008</td>\n",
       "      <td>0.006356</td>\n",
       "      <td>0.199574</td>\n",
       "      <td>0.075076</td>\n",
       "      <td>0.976363</td>\n",
       "      <td>...</td>\n",
       "      <td>0.199574</td>\n",
       "      <td>0.075076</td>\n",
       "      <td>0.246002</td>\n",
       "      <td>0.123088</td>\n",
       "      <td>0.596874</td>\n",
       "      <td>0.528594</td>\n",
       "      <td>Using top 50 marker genes</td>\n",
       "      <td>11</td>\n",
       "      <td>Fine-tune on control</td>\n",
       "      <td>/home/che/perturb-project/predict_model/result...</td>\n",
       "    </tr>\n",
       "    <tr>\n",
       "      <th>0</th>\n",
       "      <td>0.554761</td>\n",
       "      <td>0.427932</td>\n",
       "      <td>0.923179</td>\n",
       "      <td>0.974852</td>\n",
       "      <td>1.440396</td>\n",
       "      <td>0.053720</td>\n",
       "      <td>0.006177</td>\n",
       "      <td>0.203703</td>\n",
       "      <td>0.074214</td>\n",
       "      <td>0.976281</td>\n",
       "      <td>...</td>\n",
       "      <td>0.203703</td>\n",
       "      <td>0.074214</td>\n",
       "      <td>0.236396</td>\n",
       "      <td>0.114921</td>\n",
       "      <td>0.582936</td>\n",
       "      <td>0.526603</td>\n",
       "      <td>Using top 50 marker genes</td>\n",
       "      <td>12</td>\n",
       "      <td>Fine-tune on control</td>\n",
       "      <td>/home/che/perturb-project/predict_model/result...</td>\n",
       "    </tr>\n",
       "  </tbody>\n",
       "</table>\n",
       "<p>5 rows × 21 columns</p>\n",
       "</div>"
      ],
      "text/plain": [
       "        mmd  mmd_whole     r2_de  r2_whole     l2_de    mse_de  mse_whole  \\\n",
       "0  0.544001   0.430509  0.925349  0.973654  1.414443  0.050947   0.006474   \n",
       "0  0.546063   0.427771  0.924992  0.974691  1.415620  0.051426   0.006218   \n",
       "0  0.559515   0.434512  0.923018  0.972828  1.446026  0.053768   0.006675   \n",
       "0  0.543937   0.429258  0.925751  0.974127  1.411198  0.051008   0.006356   \n",
       "0  0.554761   0.427932  0.923179  0.974852  1.440396  0.053720   0.006177   \n",
       "\n",
       "       rmse  rmse_whole  pearsonr_de  ...  rmse_change  rmse_change_whole  \\\n",
       "0  0.200032    0.075708     0.976020  ...     0.200032           0.075708   \n",
       "0  0.200199    0.074373     0.976619  ...     0.200199           0.074373   \n",
       "0  0.204499    0.076914     0.975889  ...     0.204499           0.076914   \n",
       "0  0.199574    0.075076     0.976363  ...     0.199574           0.075076   \n",
       "0  0.203703    0.074214     0.976281  ...     0.203703           0.074214   \n",
       "\n",
       "   pearsonr_change  pearsonr_change_whole  fraction  fraction_whole  \\\n",
       "0         0.241688               0.123237  0.593918        0.528577   \n",
       "0         0.254612               0.130287  0.597878        0.529848   \n",
       "0         0.225876               0.114053  0.581658        0.526379   \n",
       "0         0.246002               0.123088  0.596874        0.528594   \n",
       "0         0.236396               0.114921  0.582936        0.526603   \n",
       "\n",
       "                        note random_seed            model_type  \\\n",
       "0  Using top 50 marker genes           8  Fine-tune on control   \n",
       "0  Using top 50 marker genes           9  Fine-tune on control   \n",
       "0  Using top 50 marker genes          10  Fine-tune on control   \n",
       "0  Using top 50 marker genes          11  Fine-tune on control   \n",
       "0  Using top 50 marker genes          12  Fine-tune on control   \n",
       "\n",
       "                                          model_path  \n",
       "0  /home/che/perturb-project/predict_model/result...  \n",
       "0  /home/che/perturb-project/predict_model/result...  \n",
       "0  /home/che/perturb-project/predict_model/result...  \n",
       "0  /home/che/perturb-project/predict_model/result...  \n",
       "0  /home/che/perturb-project/predict_model/result...  \n",
       "\n",
       "[5 rows x 21 columns]"
      ]
     },
     "execution_count": 17,
     "metadata": {},
     "output_type": "execute_result"
    }
   ],
   "source": [
    "ft_ctrl_df"
   ]
  },
  {
   "cell_type": "markdown",
   "metadata": {},
   "source": [
    "### Step 2. Put results together in one table and save as a csv file"
   ]
  },
  {
   "cell_type": "code",
   "execution_count": 20,
   "metadata": {},
   "outputs": [],
   "source": [
    "columns_selected = ['random_seed', 'model_type', 'mmd', 'rmse', 'model_path']"
   ]
  },
  {
   "cell_type": "code",
   "execution_count": 21,
   "metadata": {},
   "outputs": [
    {
     "data": {
      "text/html": [
       "<div>\n",
       "<style scoped>\n",
       "    .dataframe tbody tr th:only-of-type {\n",
       "        vertical-align: middle;\n",
       "    }\n",
       "\n",
       "    .dataframe tbody tr th {\n",
       "        vertical-align: top;\n",
       "    }\n",
       "\n",
       "    .dataframe thead th {\n",
       "        text-align: right;\n",
       "    }\n",
       "</style>\n",
       "<table border=\"1\" class=\"dataframe\">\n",
       "  <thead>\n",
       "    <tr style=\"text-align: right;\">\n",
       "      <th></th>\n",
       "      <th>random_seed</th>\n",
       "      <th>model_type</th>\n",
       "      <th>mmd</th>\n",
       "      <th>rmse</th>\n",
       "      <th>model_path</th>\n",
       "    </tr>\n",
       "  </thead>\n",
       "  <tbody>\n",
       "    <tr>\n",
       "      <th>0</th>\n",
       "      <td>8</td>\n",
       "      <td>Control distribution</td>\n",
       "      <td>0.589311</td>\n",
       "      <td>0.217580</td>\n",
       "      <td>/home/che/perturb-project/git/gene_ptb_predict...</td>\n",
       "    </tr>\n",
       "    <tr>\n",
       "      <th>0</th>\n",
       "      <td>9</td>\n",
       "      <td>Control distribution</td>\n",
       "      <td>0.590645</td>\n",
       "      <td>0.217663</td>\n",
       "      <td>/home/che/perturb-project/git/gene_ptb_predict...</td>\n",
       "    </tr>\n",
       "  </tbody>\n",
       "</table>\n",
       "</div>"
      ],
      "text/plain": [
       "   random_seed            model_type       mmd      rmse  \\\n",
       "0            8  Control distribution  0.589311  0.217580   \n",
       "0            9  Control distribution  0.590645  0.217663   \n",
       "\n",
       "                                          model_path  \n",
       "0  /home/che/perturb-project/git/gene_ptb_predict...  \n",
       "0  /home/che/perturb-project/git/gene_ptb_predict...  "
      ]
     },
     "execution_count": 21,
     "metadata": {},
     "output_type": "execute_result"
    }
   ],
   "source": [
    "all_results_df = pd.concat([control_distribution_df[columns_selected], \n",
    "                            mean_shift_df[columns_selected],\n",
    "                            ft_ctrl_df[columns_selected],\n",
    "                            ft_small_df[columns_selected],\n",
    "                            train_small_df[columns_selected],\n",
    "                            train_large_df[columns_selected]], axis=0)\n",
    "all_results_df.head(2)"
   ]
  },
  {
   "cell_type": "code",
   "execution_count": 22,
   "metadata": {},
   "outputs": [
    {
     "data": {
      "text/plain": [
       "array(['Control distribution', 'Mean shift', 'Fine-tune on control',\n",
       "       'Fine-tune on 100 perturbations', 'Train on 100 perturbations',\n",
       "       'Train on 1500 perturbations'], dtype=object)"
      ]
     },
     "execution_count": 22,
     "metadata": {},
     "output_type": "execute_result"
    }
   ],
   "source": [
    "all_results_df['model_type'].unique()"
   ]
  },
  {
   "cell_type": "code",
   "execution_count": 23,
   "metadata": {},
   "outputs": [
    {
     "data": {
      "text/html": [
       "<div>\n",
       "<style scoped>\n",
       "    .dataframe tbody tr th:only-of-type {\n",
       "        vertical-align: middle;\n",
       "    }\n",
       "\n",
       "    .dataframe tbody tr th {\n",
       "        vertical-align: top;\n",
       "    }\n",
       "\n",
       "    .dataframe thead th {\n",
       "        text-align: right;\n",
       "    }\n",
       "</style>\n",
       "<table border=\"1\" class=\"dataframe\">\n",
       "  <thead>\n",
       "    <tr style=\"text-align: right;\">\n",
       "      <th></th>\n",
       "      <th>random_seed</th>\n",
       "      <th>model_type</th>\n",
       "      <th>mmd</th>\n",
       "      <th>rmse</th>\n",
       "      <th>model_path</th>\n",
       "      <th>model_name</th>\n",
       "    </tr>\n",
       "  </thead>\n",
       "  <tbody>\n",
       "    <tr>\n",
       "      <th>0</th>\n",
       "      <td>8</td>\n",
       "      <td>Control distribution</td>\n",
       "      <td>0.589311</td>\n",
       "      <td>0.217580</td>\n",
       "      <td>/home/che/perturb-project/git/gene_ptb_predict...</td>\n",
       "      <td>Control\\ndistribution</td>\n",
       "    </tr>\n",
       "    <tr>\n",
       "      <th>0</th>\n",
       "      <td>9</td>\n",
       "      <td>Control distribution</td>\n",
       "      <td>0.590645</td>\n",
       "      <td>0.217663</td>\n",
       "      <td>/home/che/perturb-project/git/gene_ptb_predict...</td>\n",
       "      <td>Control\\ndistribution</td>\n",
       "    </tr>\n",
       "  </tbody>\n",
       "</table>\n",
       "</div>"
      ],
      "text/plain": [
       "   random_seed            model_type       mmd      rmse  \\\n",
       "0            8  Control distribution  0.589311  0.217580   \n",
       "0            9  Control distribution  0.590645  0.217663   \n",
       "\n",
       "                                          model_path             model_name  \n",
       "0  /home/che/perturb-project/git/gene_ptb_predict...  Control\\ndistribution  \n",
       "0  /home/che/perturb-project/git/gene_ptb_predict...  Control\\ndistribution  "
      ]
     },
     "execution_count": 23,
     "metadata": {},
     "output_type": "execute_result"
    }
   ],
   "source": [
    "all_results_df['model_name'] = all_results_df['model_type']\n",
    "\n",
    "# replace mvae_attention_vae_14_3 with A-VAE\n",
    "all_results_df['model_name'] = all_results_df['model_name'].str.replace('Control distribution', 'Control\\ndistribution', regex=False)\n",
    "all_results_df['model_name'] = all_results_df['model_name'].str.replace('Mean shift', 'Mean\\nshift', regex=False)\n",
    "all_results_df['model_name'] = all_results_df['model_name'].str.replace('Fine-tune on control', 'Fine-tuned\\non control', regex=False)\n",
    "all_results_df['model_name'] = all_results_df['model_name'].str.replace('Fine-tune on 100 perturbations', 'Fine-tuned on 100\\nperturbations', regex=False)\n",
    "all_results_df['model_name'] = all_results_df['model_name'].str.replace('Train on 100 perturbations', 'Trained on 100\\nperturbations', regex=False)\n",
    "all_results_df['model_name'] = all_results_df['model_name'].str.replace('Train on 1500 perturbations', 'Trained on 1500\\nperturbations', regex=False)\n",
    "all_results_df.head(2)"
   ]
  },
  {
   "cell_type": "code",
   "execution_count": 24,
   "metadata": {},
   "outputs": [
    {
     "name": "stdout",
     "output_type": "stream",
     "text": [
      "transfer_cell_line_rpe1_train_hvg/transfer_cell_line_k562_essential_test_hvg/null_label_zeros/tolerance_epoch_20/best_model\n"
     ]
    }
   ],
   "source": [
    "# save into a csv file \n",
    "result_folder = f'{cl_train_dataset_name}'\n",
    "result_folder += f'/{cl_test_dataset_name}'\n",
    "result_folder += f'/null_label_{null_label}'\n",
    "result_folder += f'/tolerance_epoch_{tolerance_epoch}'\n",
    "result_folder += '/best_model'\n",
    "if not os.path.exists(result_folder):\n",
    "    os.makedirs(result_folder)\n",
    "print(result_folder)\n",
    "\n",
    "all_results_df.to_csv(f'{result_folder}/results.csv', index=False)"
   ]
  },
  {
   "cell_type": "markdown",
   "metadata": {},
   "source": [
    "### Step 3. Plot results"
   ]
  },
  {
   "cell_type": "code",
   "execution_count": 25,
   "metadata": {},
   "outputs": [
    {
     "data": {
      "text/html": [
       "<div>\n",
       "<style scoped>\n",
       "    .dataframe tbody tr th:only-of-type {\n",
       "        vertical-align: middle;\n",
       "    }\n",
       "\n",
       "    .dataframe tbody tr th {\n",
       "        vertical-align: top;\n",
       "    }\n",
       "\n",
       "    .dataframe thead th {\n",
       "        text-align: right;\n",
       "    }\n",
       "</style>\n",
       "<table border=\"1\" class=\"dataframe\">\n",
       "  <thead>\n",
       "    <tr style=\"text-align: right;\">\n",
       "      <th></th>\n",
       "      <th>model_name</th>\n",
       "      <th>mmd_mean</th>\n",
       "      <th>mmd_std</th>\n",
       "      <th>rmse_mean</th>\n",
       "      <th>rmse_std</th>\n",
       "      <th>mmd_values</th>\n",
       "      <th>rmse_values</th>\n",
       "    </tr>\n",
       "  </thead>\n",
       "  <tbody>\n",
       "    <tr>\n",
       "      <th>0</th>\n",
       "      <td>Control\\ndistribution</td>\n",
       "      <td>0.589652</td>\n",
       "      <td>0.001027</td>\n",
       "      <td>0.217698</td>\n",
       "      <td>0.000128</td>\n",
       "      <td>[0.5893109806615763, 0.590644915132756, 0.5895...</td>\n",
       "      <td>[0.21757953, 0.21766347, 0.21758746, 0.2177876...</td>\n",
       "    </tr>\n",
       "    <tr>\n",
       "      <th>1</th>\n",
       "      <td>Fine-tuned\\non control</td>\n",
       "      <td>0.549655</td>\n",
       "      <td>0.007086</td>\n",
       "      <td>0.201601</td>\n",
       "      <td>0.002310</td>\n",
       "      <td>[0.5440009066485539, 0.5460626053152915, 0.559...</td>\n",
       "      <td>[0.2000324668223843, 0.2001989517123879, 0.204...</td>\n",
       "    </tr>\n",
       "    <tr>\n",
       "      <th>2</th>\n",
       "      <td>Fine-tuned on 100\\nperturbations</td>\n",
       "      <td>0.481629</td>\n",
       "      <td>0.002155</td>\n",
       "      <td>0.180093</td>\n",
       "      <td>0.001077</td>\n",
       "      <td>[0.4841614985239726, 0.4804333305817719, 0.482...</td>\n",
       "      <td>[0.1818593821840771, 0.1796849495877875, 0.180...</td>\n",
       "    </tr>\n",
       "    <tr>\n",
       "      <th>3</th>\n",
       "      <td>Mean\\nshift</td>\n",
       "      <td>0.604818</td>\n",
       "      <td>0.000859</td>\n",
       "      <td>0.211477</td>\n",
       "      <td>0.000120</td>\n",
       "      <td>[0.6052606823722159, 0.6048335052785218, 0.603...</td>\n",
       "      <td>[0.21155815, 0.21144319, 0.21137905, 0.2116421...</td>\n",
       "    </tr>\n",
       "    <tr>\n",
       "      <th>4</th>\n",
       "      <td>Trained on 100\\nperturbations</td>\n",
       "      <td>0.541993</td>\n",
       "      <td>0.009158</td>\n",
       "      <td>0.201877</td>\n",
       "      <td>0.003109</td>\n",
       "      <td>[0.5511616046062211, 0.5408383934910094, 0.527...</td>\n",
       "      <td>[0.2046428883597203, 0.2024642844211242, 0.196...</td>\n",
       "    </tr>\n",
       "    <tr>\n",
       "      <th>5</th>\n",
       "      <td>Trained on 1500\\nperturbations</td>\n",
       "      <td>0.470672</td>\n",
       "      <td>0.010033</td>\n",
       "      <td>0.175846</td>\n",
       "      <td>0.003918</td>\n",
       "      <td>[0.4757437671364738, 0.4562680041773, 0.481907...</td>\n",
       "      <td>[0.1785098625342785, 0.1701367981166831, 0.180...</td>\n",
       "    </tr>\n",
       "  </tbody>\n",
       "</table>\n",
       "</div>"
      ],
      "text/plain": [
       "                         model_name  mmd_mean   mmd_std  rmse_mean  rmse_std  \\\n",
       "0             Control\\ndistribution  0.589652  0.001027   0.217698  0.000128   \n",
       "1            Fine-tuned\\non control  0.549655  0.007086   0.201601  0.002310   \n",
       "2  Fine-tuned on 100\\nperturbations  0.481629  0.002155   0.180093  0.001077   \n",
       "3                       Mean\\nshift  0.604818  0.000859   0.211477  0.000120   \n",
       "4     Trained on 100\\nperturbations  0.541993  0.009158   0.201877  0.003109   \n",
       "5    Trained on 1500\\nperturbations  0.470672  0.010033   0.175846  0.003918   \n",
       "\n",
       "                                          mmd_values  \\\n",
       "0  [0.5893109806615763, 0.590644915132756, 0.5895...   \n",
       "1  [0.5440009066485539, 0.5460626053152915, 0.559...   \n",
       "2  [0.4841614985239726, 0.4804333305817719, 0.482...   \n",
       "3  [0.6052606823722159, 0.6048335052785218, 0.603...   \n",
       "4  [0.5511616046062211, 0.5408383934910094, 0.527...   \n",
       "5  [0.4757437671364738, 0.4562680041773, 0.481907...   \n",
       "\n",
       "                                         rmse_values  \n",
       "0  [0.21757953, 0.21766347, 0.21758746, 0.2177876...  \n",
       "1  [0.2000324668223843, 0.2001989517123879, 0.204...  \n",
       "2  [0.1818593821840771, 0.1796849495877875, 0.180...  \n",
       "3  [0.21155815, 0.21144319, 0.21137905, 0.2116421...  \n",
       "4  [0.2046428883597203, 0.2024642844211242, 0.196...  \n",
       "5  [0.1785098625342785, 0.1701367981166831, 0.180...  "
      ]
     },
     "execution_count": 25,
     "metadata": {},
     "output_type": "execute_result"
    }
   ],
   "source": [
    "grouped_data = all_results_df.groupby(\"model_name\").agg(\n",
    "    mmd_mean=(\"mmd\", \"mean\"),\n",
    "    mmd_std=(\"mmd\", \"std\"),\n",
    "    # r2_mean=(\"r2\", \"mean\"),\n",
    "    # r2_std=(\"r2\", \"std\"),\n",
    "    rmse_mean=(\"rmse\", \"mean\"),\n",
    "    rmse_std=(\"rmse\", \"std\"),\n",
    "    # rmse_change_mean=(\"rmse_change\", \"mean\"),\n",
    "    # rmse_change_std=(\"rmse_change\", \"std\"),\n",
    "    # pearsonr_change_mean=(\"pearsonr_change\", \"mean\"),\n",
    "    # pearsonr_change_std=(\"pearsonr_change\", \"std\"),\n",
    "    # fraction_mean=(\"fraction\", \"mean\"),\n",
    "    # fraction_std=(\"fraction\", \"std\"),\n",
    "    mmd_values=(\"mmd\", lambda x: list(x)),\n",
    "    # r2_values=(\"r2\", lambda x: list(x)),\n",
    "    rmse_values=(\"rmse\", lambda x: list(x)),\n",
    "    # rmse_change_values=(\"rmse_change\", lambda x: list(x)),\n",
    "    # pearsonr_change_values=(\"pearsonr_change\", lambda x: list(x)),\n",
    "    # fraction_values=(\"fraction\", lambda x: list(x)),\n",
    ").reset_index()\n",
    "grouped_data"
   ]
  },
  {
   "cell_type": "code",
   "execution_count": 26,
   "metadata": {},
   "outputs": [],
   "source": [
    "grouped_data.to_csv(f'{result_folder}/sumamry_results.csv', index=False)"
   ]
  },
  {
   "cell_type": "code",
   "execution_count": 27,
   "metadata": {},
   "outputs": [],
   "source": [
    "desired_order_baseline = [ 'Control\\ndistribution', \n",
    "                          'Mean\\nshift',\n",
    "                          'Fine-tuned\\non control',\n",
    "                          'Fine-tuned on 100\\nperturbations', \n",
    "                          'Trained on 100\\nperturbations', \n",
    "                          'Trained on 1500\\nperturbations']"
   ]
  },
  {
   "cell_type": "markdown",
   "metadata": {},
   "source": [
    "### Plot MMD (distribution loss)"
   ]
  },
  {
   "cell_type": "code",
   "execution_count": 28,
   "metadata": {},
   "outputs": [],
   "source": [
    "model_colors_baseline = {\n",
    "            'Control\\ndistribution': 'darkgrey',\n",
    "            'Mean\\nshift': '#bdd7e7',\n",
    "            'Fine-tuned\\non control': '#8fcf91',\n",
    "            'Fine-tuned on 100\\nperturbations': '#74c476',\n",
    "            'Trained on 100\\nperturbations': '#ffb732',\n",
    "            'Trained on 1500\\nperturbations': '#ffa500',\n",
    "        }"
   ]
  },
  {
   "cell_type": "code",
   "execution_count": 29,
   "metadata": {},
   "outputs": [
    {
     "data": {
      "text/plain": [
       "array([0.08820262, 0.02000786, 0.0489369 , 0.11204466, 0.0933779 ])"
      ]
     },
     "execution_count": 29,
     "metadata": {},
     "output_type": "execute_result"
    }
   ],
   "source": [
    "np.random.seed(0)\n",
    "jiggers = np.random.normal(0, 0.05, size=len(grouped_data['mmd_values'].values[0]))\n",
    "jiggers"
   ]
  },
  {
   "cell_type": "code",
   "execution_count": 30,
   "metadata": {},
   "outputs": [
    {
     "data": {
      "image/png": "[encoded data removed]",
      "text/plain": [
       "<Figure size 400x380 with 1 Axes>"
      ]
     },
     "metadata": {},
     "output_type": "display_data"
    }
   ],
   "source": [
    "# Simplified bar plot for MMD\n",
    "plt.rcParams['font.family'] = 'sans-serif'\n",
    "plt.rcParams['font.size'] = 10\n",
    "\n",
    "# Prepare the DataFrame for MMD\n",
    "mmd_df = grouped_data.dropna(subset=['mmd_mean'])\n",
    "desired_order = desired_order_baseline\n",
    "model_colors = model_colors_baseline\n",
    "mmd_df = mmd_df[mmd_df['model_name'].isin(desired_order)]\n",
    "mmd_df['model_name'] = pd.Categorical(mmd_df['model_name'], categories=desired_order[::-1], ordered=True)\n",
    "mmd_df = mmd_df.sort_values('model_name')\n",
    "\n",
    "# Customize x-axis limits and ticks based on dataset\n",
    "fig_x = 4\n",
    "fig_y = 3.8\n",
    "\n",
    "x_min = 0.35\n",
    "x_max = 0.65\n",
    "bar_width = 0.8\n",
    "\n",
    "# Draw figure\n",
    "fig, ax = plt.subplots(figsize=(fig_x, fig_y))\n",
    "indices = np.arange(len(mmd_df))\n",
    "colors = mmd_df['model_name'].map(model_colors)\n",
    "\n",
    "# Plot bars for MMD with individual colors\n",
    "ax.barh(indices, mmd_df['mmd_mean'],color=colors, zorder = 1, height=bar_width)\n",
    "# Plot individual dots for each MMD value\n",
    "for i, model_name in enumerate(mmd_df['model_name']):\n",
    "    model_values = mmd_df[mmd_df['model_name'] == model_name]['mmd_values'].values[0]\n",
    "    jittered_y = indices[i] + jiggers\n",
    "    ax.scatter(model_values, jittered_y, color='#cccccc', alpha=0.8, s=30, zorder=2)\n",
    "# Plot error bars for MMD on top (top layer)\n",
    "ax.errorbar(mmd_df['mmd_mean'], indices, xerr=mmd_df['mmd_std'], fmt='none', \n",
    "            ecolor='black', elinewidth=3, capsize=2, zorder=3, alpha=0.8)\n",
    "\n",
    "# Set ticks and labels\n",
    "ax.set_yticks(indices)\n",
    "ax.set_yticklabels(mmd_df['model_name'])\n",
    "ax.set_xlabel('MMD (distribution loss)')\n",
    "ax.set_xlim(x_min, x_max)\n",
    "ax.set_xticks(np.round(np.linspace(x_min, x_max, 4), 2))\n",
    "ax.grid(False, axis='x', linestyle='--')\n",
    "\n",
    "# Save plot\n",
    "plt.tight_layout()\n",
    "plt.savefig(f'{result_folder}/mmd_plot.png', dpi=300)\n",
    "# save svg format\n",
    "plt.savefig(f'{result_folder}/mmd_plot.svg', format='svg')\n",
    "plt.show()"
   ]
  },
  {
   "cell_type": "markdown",
   "metadata": {},
   "source": [
    "### Plot RMSE (feature means)"
   ]
  },
  {
   "cell_type": "code",
   "execution_count": 31,
   "metadata": {},
   "outputs": [
    {
     "data": {
      "image/png": "[encoded data removed]",
      "text/plain": [
       "<Figure size 200x380 with 1 Axes>"
      ]
     },
     "metadata": {},
     "output_type": "display_data"
    }
   ],
   "source": [
    "plt.rcParams['font.family'] = 'sans-serif'\n",
    "plt.rcParams['font.size'] = 10\n",
    "\n",
    "# Prepare the DataFrame for rmse\n",
    "rmse_df = grouped_data.dropna(subset=['rmse_mean'])\n",
    "desired_order = desired_order_baseline\n",
    "model_colors = model_colors_baseline\n",
    "rmse_df = rmse_df[rmse_df['model_name'].isin(desired_order)]\n",
    "rmse_df['model_name'] = pd.Categorical(rmse_df['model_name'], categories=desired_order[::-1], ordered=True)\n",
    "rmse_df = rmse_df.sort_values('model_name')\n",
    "\n",
    "# Customize x-axis limits and ticks based on dataset\n",
    "fig_x = 2\n",
    "fig_y = 3.8\n",
    "x_min=0.16\n",
    "x_max=0.22\n",
    "bar_width = 0.8\n",
    "\n",
    "# Set up figure\n",
    "fig, ax = plt.subplots(figsize=(fig_x, fig_y))\n",
    "\n",
    "# Set bar width\n",
    "indices = np.arange(len(rmse_df))\n",
    "colors = rmse_df['model_name'].map(model_colors)\n",
    "\n",
    "# Plot bars\n",
    "ax.barh(indices, rmse_df['rmse_mean'],color=colors, zorder = 1)\n",
    "# Plot individual dots\n",
    "for i, model_name in enumerate(rmse_df['model_name']):\n",
    "    model_values = rmse_df[rmse_df['model_name'] == model_name]['rmse_values'].values[0]\n",
    "    jittered_y = indices[i] + jiggers\n",
    "    ax.scatter(model_values, jittered_y, color='#cccccc', alpha=0.8, s=30, zorder=2)\n",
    "# Plot error bars\n",
    "ax.errorbar(rmse_df['rmse_mean'], indices, xerr=rmse_df['rmse_std'], fmt='none', \n",
    "            ecolor='black', elinewidth=3, capsize=2, zorder=3, alpha=0.8)\n",
    "\n",
    "# Set ticks and labels\n",
    "ax.set_yticks([])\n",
    "ax.set_yticklabels([])\n",
    "ax.set_xlabel('RMSE (feature means)')\n",
    "ax.set_xlim(x_min, x_max)\n",
    "ax.set_xticks(np.round(np.linspace(x_min, x_max, 4), 2))\n",
    "ax.grid(False, axis='x', linestyle='--')\n",
    "\n",
    "# Save plot\n",
    "plt.tight_layout()\n",
    "plt.savefig(f'{result_folder}/rmse_plot.png', dpi=300)\n",
    "# save svg format\n",
    "plt.savefig(f'{result_folder}/rmse_plot.svg', format='svg')\n",
    "plt.show()"
   ]
  }
 ],
 "metadata": {
  "kernelspec": {
   "display_name": "geneformer",
   "language": "python",
   "name": "geneformer"
  },
  "language_info": {
   "codemirror_mode": {
    "name": "ipython",
    "version": 3
   },
   "file_extension": ".py",
   "mimetype": "text/x-python",
   "name": "python",
   "nbconvert_exporter": "python",
   "pygments_lexer": "ipython3",
   "version": "3.10.13"
  }
 },
 "nbformat": 4,
 "nbformat_minor": 2
}
