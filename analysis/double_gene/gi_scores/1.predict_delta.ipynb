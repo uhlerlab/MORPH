{
 "cells": [
  {
   "cell_type": "code",
   "execution_count": 61,
   "metadata": {},
   "outputs": [],
   "source": [
    "import pandas as pd\n",
    "import numpy as np\n",
    "import scanpy as sc\n",
    "import glob\n",
    "from scipy.sparse import issparse\n",
    "import os"
   ]
  },
  {
   "cell_type": "markdown",
   "metadata": {},
   "source": [
    "### 1. Read in single-cell data and predictions from 5-fold"
   ]
  },
  {
   "cell_type": "code",
   "execution_count": 62,
   "metadata": {},
   "outputs": [],
   "source": [
    "# Specify random seed and epochs ----------------------------------------\n",
    "random_seed=12\n",
    "num_epochs=100\n",
    "filter_zeros = False\n",
    "\n",
    "# Specify the model type and model name ----------------------------------------\n",
    "model_type='morph' # Gears or morph or Control (for baseline), Truth\n",
    "if model_type == 'morph':\n",
    "    representation_type='DepMap_GeneEffect'\n",
    "    model_name = 'best_model'\n",
    "    recon_loss = 'mmd'\n",
    "    null_label = 'zeros'\n",
    "    mxAlpha = 2.0\n",
    "    tolerance_epochs = 20\n",
    "elif model_type == 'Gears':\n",
    "    model_name='model.pt'\n",
    "elif model_type == 'Control':\n",
    "    model_name=None\n",
    "elif model_type == 'Truth':\n",
    "    model_name=None\n",
    "\n",
    "# Specify the number of genes to use -------------------------------------------\n",
    "num_gene = 2500 # 5044 or 1000"
   ]
  },
  {
   "cell_type": "code",
   "execution_count": null,
   "metadata": {},
   "outputs": [],
   "source": [
    "dataset_name = 'norman_k562_hvg'\n",
    "dataset = dataset_name.replace('_hvg', '')\n",
    "use_hvg = 'True' if 'hvg' in dataset_name else 'False'\n",
    "\n",
    "scdata_file = pd.read_csv('/home/che/perturb-project/git/gene_ptb_prediction/scdata_file_path.csv')\n",
    "adata_path = scdata_file[scdata_file['dataset'] == dataset][scdata_file['use_hvg'] == (use_hvg == 'True')]['file_path'].values[0]\n",
    "adata = sc.read(adata_path)\n",
    "print('Loaded adata_refer from ', adata_path)"
   ]
  },
  {
   "cell_type": "code",
   "execution_count": null,
   "metadata": {},
   "outputs": [],
   "source": [
    "adata_ctrl = adata[adata.obs['gene'] == 'non-targeting'].copy()\n",
    "adata_ctrl"
   ]
  },
  {
   "cell_type": "code",
   "execution_count": null,
   "metadata": {},
   "outputs": [],
   "source": [
    "# calculate highly-variable genes in adata\n",
    "sc.pp.highly_variable_genes(adata, n_top_genes=num_gene)\n",
    "top_hvg = adata.var[adata.var['highly_variable'] == True].index\n",
    "# get indexes of top hvg\n",
    "top_hvg_idx = [adata.var.index.get_loc(x) for x in top_hvg]"
   ]
  },
  {
   "cell_type": "markdown",
   "metadata": {},
   "source": [
    "### Step 1. Read in predictions for different models"
   ]
  },
  {
   "cell_type": "code",
   "execution_count": 66,
   "metadata": {},
   "outputs": [],
   "source": [
    "if model_type == 'Gears':\n",
    "    model_fold_path = f'/home/che/GEARS/{dataset_name}'\n",
    "elif model_type == 'morph':\n",
    "    model_fold_path = f'/home/che/perturb-project/predict_model/result/rna/{dataset_name}'\n",
    "elif model_type == 'Control':\n",
    "    model_fold_path = f'/home/che/perturb-project/git/gene_ptb_prediction/gene_interaction_prediction/baseline_model/predict_control/{dataset_name}'"
   ]
  },
  {
   "cell_type": "code",
   "execution_count": null,
   "metadata": {},
   "outputs": [],
   "source": [
    "if model_type == 'Gears' or model_type == 'morph':\n",
    "    pred_whole = []\n",
    "    # loop through paths to read in predictions\n",
    "    for fold in range(5):\n",
    "        fold_num = fold+1\n",
    "        if model_type == 'Gears':\n",
    "            model_path = f'{model_fold_path}/predict_gi_fold_{fold_num}/random_seed_{random_seed}'\n",
    "            # read in pickle file of predictions\n",
    "            pred_path = os.path.join(model_path, \"gears_pred_dict.pkl\")\n",
    "            with open(pred_path, 'rb') as f:\n",
    "                pred = pd.read_pickle(f)\n",
    "            print(f'Loaded predictions from {pred_path}')\n",
    "        elif model_type == 'morph':\n",
    "            model_path = f'{model_fold_path}/predict_gi_fold_{fold_num}/recon_loss_{recon_loss}/null_label_{null_label}/epochs_{num_epochs}/tolerance_epochs_{tolerance_epochs}/mxAlpha_{mxAlpha}/random_seed_{random_seed}/'\n",
    "            pattern = os.path.join(model_path, f'{representation_type}_{model_type}_run*')\n",
    "            run_dirs = glob.glob(pattern)\n",
    "            \n",
    "            if len(run_dirs) == 0:\n",
    "                print(f'No runs found for fold {fold_num}')\n",
    "                continue\n",
    "            elif len(run_dirs) > 1:\n",
    "                print(f'Multiple runs found for fold {fold_num}')\n",
    "                continue\n",
    "            else:\n",
    "                model_dir = run_dirs[0]\n",
    "            # read in pickle file of predictions\n",
    "            pred_path = f'{model_dir}/{model_name}_pred_test.pkl'\n",
    "            with open(pred_path, 'rb') as f:\n",
    "                pred = pd.read_pickle(f)\n",
    "            print(f'Loaded predictions from {pred_path}')\n",
    "        pred_whole.append(pred)"
   ]
  },
  {
   "cell_type": "code",
   "execution_count": 68,
   "metadata": {},
   "outputs": [],
   "source": [
    "if model_type == 'Control':\n",
    "    pred_whole = []\n",
    "    # read in pickle file\n",
    "    pred_path = f'{model_fold_path}/random_seed_{random_seed}/y_ctrl_pred.pkl'\n",
    "    with open(pred_path, 'rb') as f:\n",
    "        pred = pd.read_pickle(f)\n",
    "    pred_whole.append(pred)"
   ]
  },
  {
   "cell_type": "code",
   "execution_count": 69,
   "metadata": {},
   "outputs": [],
   "source": [
    "# Get mean of predictions\n",
    "if model_type != 'Truth':\n",
    "    mean_dict = {}\n",
    "    for pred in pred_whole:\n",
    "        for key, value in pred.items():\n",
    "            if key not in mean_dict:\n",
    "                mean_dict[key] = np.mean(value, axis=0)"
   ]
  },
  {
   "cell_type": "code",
   "execution_count": null,
   "metadata": {},
   "outputs": [],
   "source": [
    "# calculate delta score\n",
    "X_dense = adata.X.toarray() if issparse(adata.X) else adata.X\n",
    "\n",
    "# Create a DataFrame for the observations (genes)\n",
    "obs_df = pd.DataFrame(adata.obs['gene'])\n",
    "\n",
    "# Add the expression data to this DataFrame\n",
    "X_df = pd.DataFrame(X_dense, index=adata.obs.index, columns=adata.var.index)\n",
    "\n",
    "# Merge the expression data with the observation data\n",
    "full_df = pd.concat([obs_df, X_df], axis=1)\n",
    "\n",
    "# Group by the 'gene' column and calculate the mean for each group\n",
    "average_intervention_effects = full_df.groupby('gene').mean()\n",
    "\n",
    "assert(average_intervention_effects.shape[0] == len(adata.obs['gene'].unique()))"
   ]
  },
  {
   "cell_type": "code",
   "execution_count": null,
   "metadata": {},
   "outputs": [],
   "source": [
    "if model_type != 'Truth':\n",
    "    # stack them into a dataframe, with keys being index\n",
    "    pred_df = pd.DataFrame.from_dict(mean_dict, orient='index')\n",
    "    pred_df.columns = adata.var.index\n",
    "elif model_type == 'Truth':\n",
    "    pred_df = average_intervention_effects\n",
    "    # remove non-targeting row\n",
    "    pred_df = pred_df.drop('non-targeting', axis=0)\n",
    "pred_df"
   ]
  },
  {
   "cell_type": "code",
   "execution_count": null,
   "metadata": {},
   "outputs": [],
   "source": [
    "if filter_zeros:\n",
    "    # set negative values to 0\n",
    "    pred_df[pred_df < 0] = 0\n",
    "pred_df.head(5)"
   ]
  },
  {
   "cell_type": "code",
   "execution_count": null,
   "metadata": {},
   "outputs": [],
   "source": [
    "pred_df_delta = pred_df - average_intervention_effects.loc['non-targeting']\n",
    "pred_df_delta.head()"
   ]
  },
  {
   "cell_type": "code",
   "execution_count": null,
   "metadata": {},
   "outputs": [],
   "source": [
    "pred_df_delta[pred_df_delta.index == 'MAPK1+PRTG']"
   ]
  },
  {
   "cell_type": "code",
   "execution_count": 75,
   "metadata": {},
   "outputs": [],
   "source": [
    "# \\mu_p = \\bar{X}_p - \\bar{X}_{\\text{non-targeting}}\n",
    "average_intervention_effects = average_intervention_effects - average_intervention_effects.loc['non-targeting']\n",
    "assert(average_intervention_effects.loc['non-targeting'].sum() == 0)"
   ]
  },
  {
   "cell_type": "code",
   "execution_count": null,
   "metadata": {},
   "outputs": [],
   "source": [
    "single_perturbations = average_intervention_effects.index[~average_intervention_effects.index.str.contains('\\+')]\n",
    "single_perturbations_df = average_intervention_effects.loc[single_perturbations]\n",
    "single_perturbations_df.head()"
   ]
  },
  {
   "cell_type": "code",
   "execution_count": null,
   "metadata": {},
   "outputs": [],
   "source": [
    "# combine single with predicted combo\n",
    "if model_type != 'Truth':\n",
    "    pred_df_delta = pd.concat([pred_df_delta, single_perturbations_df])\n",
    "pred_df_delta"
   ]
  },
  {
   "cell_type": "code",
   "execution_count": null,
   "metadata": {},
   "outputs": [],
   "source": [
    "pred_df_delta[pred_df_delta.index == 'MAPK1+PRTG']"
   ]
  },
  {
   "cell_type": "code",
   "execution_count": null,
   "metadata": {},
   "outputs": [],
   "source": [
    "# subset to top hvg\n",
    "pred_df_delta = pred_df_delta.loc[:, top_hvg]\n",
    "pred_df_delta"
   ]
  },
  {
   "cell_type": "code",
   "execution_count": null,
   "metadata": {},
   "outputs": [],
   "source": [
    "# save delta to the folder\n",
    "# save the delta expression values into pickle file\n",
    "import pickle\n",
    "import os\n",
    "\n",
    "output_path_base = f'/home/che/perturb-project/git/gene_ptb_prediction/gene_interaction_prediction/data/{dataset_name}/predict/use_gt_single/num_gene_'+str(num_gene)+'/'\n",
    "\n",
    "if model_type == 'Gears':\n",
    "    output_path = output_path_base + f'Gears/seed_{random_seed}'\n",
    "elif model_type == 'morph':\n",
    "    output_path = output_path_base + f'{representation_type}_{model_type}/recon_loss_{recon_loss}/null_label_{null_label}/epochs_{num_epochs}/tolerance_epochs_{tolerance_epochs}/mxAlpha_{mxAlpha}/seed_{random_seed}/{model_name}'\n",
    "elif model_type == 'Control':\n",
    "    output_path = output_path_base + 'Control/seed_'+str(random_seed)\n",
    "elif model_type == 'Truth':\n",
    "    output_path = output_path_base + 'Truth'\n",
    "\n",
    "if not os.path.exists(output_path):\n",
    "    os.makedirs(output_path)\n",
    "\n",
    "if filter_zeros:\n",
    "    with open(f'{output_path}/delta_expression_filtered.pkl', 'wb') as f:\n",
    "        pickle.dump(pred_df_delta, f)\n",
    "    print('Saved to ', f'{output_path}/delta_expression_filtered.pkl')\n",
    "else:\n",
    "    with open(f'{output_path}/delta_expression.pkl', 'wb') as f:\n",
    "        pickle.dump(pred_df_delta, f)\n",
    "    print('Saved to ', f'{output_path}/delta_expression.pkl')"
   ]
  }
 ],
 "metadata": {
  "kernelspec": {
   "display_name": "geneformer",
   "language": "python",
   "name": "geneformer"
  },
  "language_info": {
   "codemirror_mode": {
    "name": "ipython",
    "version": 3
   },
   "file_extension": ".py",
   "mimetype": "text/x-python",
   "name": "python",
   "nbconvert_exporter": "python",
   "pygments_lexer": "ipython3",
   "version": "3.10.13"
  }
 },
 "nbformat": 4,
 "nbformat_minor": 2
}
