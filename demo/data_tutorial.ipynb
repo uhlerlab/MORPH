{
 "cells": [
  {
   "cell_type": "markdown",
   "metadata": {},
   "source": [
    "# Tutorial on preparing Pertub-seq data for MORPH\n",
    "\n",
    "MORPH accepts a Scanpy adata object with the following requirements:\n",
    "\n",
    "1. The `adata.obs` data must contain a `gene` column, where `gene` represents the perturbation name for each cell. Control cells are labeled as `non-targeting`, single perturbations follow the format `PerturbationA`, and combination perturbations follow the format `PerturbationA+PerturbationB`.\n",
    "\n",
    "2. The `adata.X` matrix stores post-perturbation gene expression data.\n",
    "\n",
    "Here is an example using Norman K562 dataset."
   ]
  },
  {
   "cell_type": "code",
   "execution_count": 1,
   "metadata": {},
   "outputs": [],
   "source": [
    "import numpy as np\n",
    "import scanpy as sc\n",
    "from tqdm import tqdm"
   ]
  },
  {
   "cell_type": "code",
   "execution_count": 2,
   "metadata": {},
   "outputs": [
    {
     "name": "stderr",
     "output_type": "stream",
     "text": [
      "/home/che/anaconda3/envs/geneformer/lib/python3.10/site-packages/anndata/_core/anndata.py:183: ImplicitModificationWarning: Transforming to str index.\n",
      "  warnings.warn(\"Transforming to str index.\", ImplicitModificationWarning)\n"
     ]
    },
    {
     "data": {
      "text/plain": [
       "AnnData object with n_obs × n_vars = 111122 × 5044\n",
       "    obs: 'guide_id', 'read_count', 'UMI_count', 'coverage', 'gemgroup', 'good_coverage', 'number_of_cells', 'tissue_type', 'cell_line', 'cancer', 'disease', 'perturbation_type', 'celltype', 'organism', 'perturbation', 'nperts', 'ngenes', 'ncounts', 'percent_mito', 'percent_ribo', 'n_counts', 'condition', 'pert_type', 'cell_type', 'source', 'condition_ID', 'control', 'dose_value', 'pathway_old', 'cov_cond', 'pert', 'split_hardest', 'split_1', 'split_2', 'split_3', 'split_4', 'split_5', 'split_6', 'cond_harm', 'gene', 'pathway'\n",
       "    var: 'ensemble_id', 'ncounts', 'ncells', 'symbol', 'highly_variable', 'means', 'dispersions', 'dispersions_norm'\n",
       "    uns: 'cell_type_colors', 'gene_embedding_path', 'hvg', 'log1p', 'neighbors', 'rank_genes_groups_cov', 'source_colors', 'split_1_colors', 'split_2_colors', 'split_3_colors', 'split_4_colors', 'split_5_colors', 'split_hardest_colors', 'umap'\n",
       "    obsm: 'X_pca', 'X_umap'\n",
       "    layers: 'counts'\n",
       "    obsp: 'connectivities', 'distances'"
      ]
     },
     "execution_count": 2,
     "metadata": {},
     "output_type": "execute_result"
    }
   ],
   "source": [
    "# read in raw data\n",
    "raw_adata = sc.read_h5ad('./data/sample_data.h5ad')\n",
    "adata = raw_adata.copy()\n",
    "adata"
   ]
  },
  {
   "cell_type": "code",
   "execution_count": 7,
   "metadata": {},
   "outputs": [
    {
     "data": {
      "text/plain": [
       "gene\n",
       "non-targeting    11855\n",
       "KLF1              1960\n",
       "BAK1              1457\n",
       "CEBPE             1233\n",
       "CEBPE+RUNX1T1     1219\n",
       "                 ...  \n",
       "FOSB+CEBPB          71\n",
       "CBL+UBASH3A         64\n",
       "CEBPB+CEBPA         64\n",
       "JUN+CEBPB           59\n",
       "JUN+CEBPA           54\n",
       "Name: count, Length: 235, dtype: int64"
      ]
     },
     "execution_count": 7,
     "metadata": {},
     "output_type": "execute_result"
    }
   ],
   "source": [
    "adata.obs['gene'].value_counts()"
   ]
  },
  {
   "cell_type": "markdown",
   "metadata": {},
   "source": [
    "### Suggested pre-processing steps"
   ]
  },
  {
   "cell_type": "code",
   "execution_count": null,
   "metadata": {},
   "outputs": [],
   "source": [
    "# filter out cells with low number of counts\n",
    "sc.pp.filter_cells(adata, min_counts=100)\n",
    "# filter out genes that are detected in less than 5 cells\n",
    "sc.pp.filter_genes(adata, min_counts=5)\n",
    "\n",
    "# filter out perturbation groups with data in less than 32 cells\n",
    "gene_counts = adata.obs['gene'].value_counts()\n",
    "gene_counts = gene_counts[gene_counts >= 32]\n",
    "adata = adata[adata.obs['gene'].isin(gene_counts.index)]\n",
    "adata"
   ]
  },
  {
   "cell_type": "code",
   "execution_count": null,
   "metadata": {},
   "outputs": [],
   "source": [
    "sc.pp.normalize_total(adata, target_sum=1e4)\n",
    "sc.pp.log1p(adata)\n",
    "# subset to top 5000 highly variable genes\n",
    "sc.pp.highly_variable_genes(adata,n_top_genes=5000, subset=True)"
   ]
  },
  {
   "cell_type": "markdown",
   "metadata": {},
   "source": [
    "### Specify the path to adata in `../data/scdata_file_path.csv`\n",
    "\n",
    "Specify the dataset name in column 'dataset' and the path in column 'path'.\n",
    "\n",
    "Example see: `../data/scdata_file_path.csv`"
   ]
  }
 ],
 "metadata": {
  "kernelspec": {
   "display_name": "geneformer",
   "language": "python",
   "name": "geneformer"
  },
  "language_info": {
   "codemirror_mode": {
    "name": "ipython",
    "version": 3
   },
   "file_extension": ".py",
   "mimetype": "text/x-python",
   "name": "python",
   "nbconvert_exporter": "python",
   "pygments_lexer": "ipython3",
   "version": "3.10.13"
  }
 },
 "nbformat": 4,
 "nbformat_minor": 2
}
