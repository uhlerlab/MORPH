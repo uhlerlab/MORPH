{
 "cells": [
  {
   "cell_type": "markdown",
   "metadata": {},
   "source": [
    "# Tutorial on preparing train-test split for MORPH\n",
    "\n",
    "To evaluate MORPH’s ability to generalize to unseen genetic perturbations, you can define custom train-test splits based on perturbation identities. Specifically, each test set will exclude a list of perturbations that are completely withheld during training.\n",
    "\n",
    "To create your split file:\n",
    "1. Create a `.csv` file named `[your_data_id]_splits.csv`.\n",
    "2. In this file, define the following columns:\n",
    "\n",
    "| Column        | Description                                                                 |\n",
    "|---------------|-----------------------------------------------------------------------------|\n",
    "| `data`        | The name of your dataset (i.e., `[your_data_id]`)                           |\n",
    "| `test_set_id` | A unique identifier for this test set (i.e., `[your_test_set_id]`)          |\n",
    "| `test_set`    | A comma-separated list of perturbation names to be held out for testing     |\n",
    "| `note`        | (Optional) Any additional comments or notes for this split                  |\n",
    "\n",
    "3. Save the file to `MORPH/data/`\n",
    "\n",
    "#### Example \n",
    "You can refer to the following example split file for formatting: `MORPH/data/example_data_splits.csv`"
   ]
  },
  {
   "cell_type": "code",
   "execution_count": 2,
   "metadata": {},
   "outputs": [
    {
     "data": {
      "text/html": [
       "<div>\n",
       "<style scoped>\n",
       "    .dataframe tbody tr th:only-of-type {\n",
       "        vertical-align: middle;\n",
       "    }\n",
       "\n",
       "    .dataframe tbody tr th {\n",
       "        vertical-align: top;\n",
       "    }\n",
       "\n",
       "    .dataframe thead th {\n",
       "        text-align: right;\n",
       "    }\n",
       "</style>\n",
       "<table border=\"1\" class=\"dataframe\">\n",
       "  <thead>\n",
       "    <tr style=\"text-align: right;\">\n",
       "      <th></th>\n",
       "      <th>data</th>\n",
       "      <th>test_set_id</th>\n",
       "      <th>test_set</th>\n",
       "      <th>note</th>\n",
       "    </tr>\n",
       "  </thead>\n",
       "  <tbody>\n",
       "    <tr>\n",
       "      <th>0</th>\n",
       "      <td>example_data</td>\n",
       "      <td>random_split_1</td>\n",
       "      <td>MAP4K5,KMT2A,UBASH3B+PTPN12,COL2A1,KLF1+BAK1,C...</td>\n",
       "      <td>random splits that includes 0/2, 1/2, 2/2 unse...</td>\n",
       "    </tr>\n",
       "  </tbody>\n",
       "</table>\n",
       "</div>"
      ],
      "text/plain": [
       "           data     test_set_id  \\\n",
       "0  example_data  random_split_1   \n",
       "\n",
       "                                            test_set  \\\n",
       "0  MAP4K5,KMT2A,UBASH3B+PTPN12,COL2A1,KLF1+BAK1,C...   \n",
       "\n",
       "                                                note  \n",
       "0  random splits that includes 0/2, 1/2, 2/2 unse...  "
      ]
     },
     "execution_count": 2,
     "metadata": {},
     "output_type": "execute_result"
    }
   ],
   "source": [
    "import pandas as pd\n",
    "split_df = pd.read_csv('../data/example_data_splits.csv')\n",
    "split_df"
   ]
  },
  {
   "cell_type": "markdown",
   "metadata": {},
   "source": [
    "#### Example Code for 5-Fold Splits\n",
    "\n",
    "5-fold splitting is a common cross-validation strategy where the list of perturbations is divided into 5 subsets (or \"folds\"). In each round, one fold is used as the test set, and the remaining four are used for training. This allows you to evaluate how well the model generalizes across different subsets of perturbations.\n",
    "\n",
    "Below is an example code snippet to generate 5-fold train-test splits based on perturbations:"
   ]
  },
  {
   "cell_type": "code",
   "execution_count": null,
   "metadata": {},
   "outputs": [],
   "source": [
    "import numpy as np\n",
    "import pandas as pd\n",
    "import scanpy as sc\n",
    "from sklearn.model_selection import KFold\n",
    "\n",
    "data_path = 'your/path/to/your/data.h5ad' # Replace with your actual data path\n",
    "csv_file_path = 'your/path/to/your/data_splits.csv' # Replace with your desired output path\n",
    "data_id = 'your_data_id'  # Replace with your actual data ID\n",
    "\n",
    "adata = sc.read_h5ad(data_path)\n",
    "\n",
    "# Set random seed\n",
    "random_seed = 12\n",
    "np.random.seed(random_seed)\n",
    "\n",
    "# Get unique perturbations excluding control\n",
    "all_ptb_targets = adata.obs['gene'].unique().tolist()\n",
    "all_ptb_targets = [g for g in all_ptb_targets if g != 'non-targeting']\n",
    "print('Total perturbations:', len(all_ptb_targets))\n",
    "\n",
    "# Shuffle and split into folds\n",
    "np.random.shuffle(all_ptb_targets)\n",
    "kf = KFold(n_splits=5)\n",
    "all_ptb_targets = np.array(all_ptb_targets)\n",
    "folds = []\n",
    "for train_index, test_index in kf.split(all_ptb_targets):\n",
    "    folds.append(all_ptb_targets[test_index].tolist())\n",
    "    \n",
    "# Create dataframe\n",
    "df = pd.DataFrame(columns=['test_set_id', 'test_set', 'random_seed'])\n",
    "for i, test_set in enumerate(folds):\n",
    "    test_set_id = f'random_fold_{i + 1}'\n",
    "    new_row = {\n",
    "        'test_set_id': test_set_id,\n",
    "        'test_set': ','.join(test_set),\n",
    "        'random_seed': random_seed\n",
    "    }\n",
    "    df = pd.concat([df, pd.DataFrame([new_row])], ignore_index=True)\n",
    "\n",
    "# Add data_id column\n",
    "df['data'] = data_id\n",
    "# Save to CSV\n",
    "df.to_csv(csv_file_path, index=False)"
   ]
  }
 ],
 "metadata": {
  "kernelspec": {
   "display_name": "geneformer",
   "language": "python",
   "name": "geneformer"
  },
  "language_info": {
   "codemirror_mode": {
    "name": "ipython",
    "version": 3
   },
   "file_extension": ".py",
   "mimetype": "text/x-python",
   "name": "python",
   "nbconvert_exporter": "python",
   "pygments_lexer": "ipython3",
   "version": "3.10.13"
  }
 },
 "nbformat": 4,
 "nbformat_minor": 2
}
