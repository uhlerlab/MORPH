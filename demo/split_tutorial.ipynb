{
 "cells": [
  {
   "cell_type": "markdown",
   "metadata": {},
   "source": [
    "# Tutorial on preparing train-test split for MORPH\n",
    "\n",
    "Please save the test set id and the list of genes in the corresponding test set in `../data/{dataset_name}_splits.csv`\n",
    "\n",
    "Example see `../data/example_data_splits.csv`"
   ]
  },
  {
   "cell_type": "code",
   "execution_count": 2,
   "metadata": {},
   "outputs": [
    {
     "data": {
      "text/html": [
       "<div>\n",
       "<style scoped>\n",
       "    .dataframe tbody tr th:only-of-type {\n",
       "        vertical-align: middle;\n",
       "    }\n",
       "\n",
       "    .dataframe tbody tr th {\n",
       "        vertical-align: top;\n",
       "    }\n",
       "\n",
       "    .dataframe thead th {\n",
       "        text-align: right;\n",
       "    }\n",
       "</style>\n",
       "<table border=\"1\" class=\"dataframe\">\n",
       "  <thead>\n",
       "    <tr style=\"text-align: right;\">\n",
       "      <th></th>\n",
       "      <th>data</th>\n",
       "      <th>test_set_id</th>\n",
       "      <th>test_set</th>\n",
       "      <th>note</th>\n",
       "    </tr>\n",
       "  </thead>\n",
       "  <tbody>\n",
       "    <tr>\n",
       "      <th>0</th>\n",
       "      <td>example_data</td>\n",
       "      <td>random_split_1</td>\n",
       "      <td>MAP4K5,KMT2A,UBASH3B+PTPN12,COL2A1,KLF1+BAK1,C...</td>\n",
       "      <td>random splits that includes 0/2, 1/2, 2/2 unse...</td>\n",
       "    </tr>\n",
       "  </tbody>\n",
       "</table>\n",
       "</div>"
      ],
      "text/plain": [
       "           data     test_set_id  \\\n",
       "0  example_data  random_split_1   \n",
       "\n",
       "                                            test_set  \\\n",
       "0  MAP4K5,KMT2A,UBASH3B+PTPN12,COL2A1,KLF1+BAK1,C...   \n",
       "\n",
       "                                                note  \n",
       "0  random splits that includes 0/2, 1/2, 2/2 unse...  "
      ]
     },
     "execution_count": 2,
     "metadata": {},
     "output_type": "execute_result"
    }
   ],
   "source": [
    "import pandas as pd\n",
    "split_df = pd.read_csv('../data/example_data_splits.csv')\n",
    "split_df"
   ]
  }
 ],
 "metadata": {
  "kernelspec": {
   "display_name": "geneformer",
   "language": "python",
   "name": "geneformer"
  },
  "language_info": {
   "codemirror_mode": {
    "name": "ipython",
    "version": 3
   },
   "file_extension": ".py",
   "mimetype": "text/x-python",
   "name": "python",
   "nbconvert_exporter": "python",
   "pygments_lexer": "ipython3",
   "version": "3.10.13"
  }
 },
 "nbformat": 4,
 "nbformat_minor": 2
}
