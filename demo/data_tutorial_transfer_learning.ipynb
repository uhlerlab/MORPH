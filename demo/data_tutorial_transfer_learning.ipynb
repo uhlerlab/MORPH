{
 "cells": [
  {
   "cell_type": "markdown",
   "metadata": {},
   "source": [
    "# Tutorial on preparing single-cell data for MORPH transfer learning\n",
    "\n",
    "\n",
    "### Step 1. Standard data preprocessing\n",
    "MORPH expects input in the form of a `Scanpy` AnnData object (`adata`) that meets the following criteria:\n",
    "\n",
    "1. **Perturbation Labels** (`adata.obs['gene']`)\n",
    " - The `adata.obs` DataFrame must include a column named `gene`, which specifies the perturbation applied to each cell.\n",
    " - Use the following labeling format:\n",
    "    - Control cells: 'non-targeting'\n",
    "    - Single perturbations: e.g., 'GeneA'\n",
    "    - Double perturbations: e.g., 'GeneA+GeneB' (with gene names joined by a +)\n",
    "\n",
    "2. **Gene Expression Matrix** (`adata.X`)\n",
    " - The `.X` matrix should contain **either raw gene expression counts** or **imaging features** for each cell, depending on the modality of your dataset.\n",
    " \n",
    "### Step 2. Data Alignment (specific to transfer learning)\n",
    "Since the released model was trained on the genome-wide Perturb-seq dataset from [Replogle et al. (2022)](https://www.sciencedirect.com/science/article/pii/S0092867422005979?via%3Dihub), it is important to ensure that your input data is aligned with the training data. Specifically, the gene names must match in exact order and content. Below is a sample code snippet to perform this alignment.\n",
    "\n",
    "\n",
    "### Step 3. Preprocessing\n",
    "If you are using raw gene expression counts, please follow the steps in [`data_tutorial.ipynb`](data_tutorial.ipynb) to preprocess the data.\n",
    "\n",
    "**Note: please process the data *only* after alignment**"
   ]
  },
  {
   "cell_type": "code",
   "execution_count": 1,
   "metadata": {},
   "outputs": [],
   "source": [
    "import numpy as np\n",
    "import scanpy as sc\n",
    "from tqdm import tqdm\n",
    "import anndata\n",
    "import pandas as pd"
   ]
  },
  {
   "cell_type": "code",
   "execution_count": null,
   "metadata": {},
   "outputs": [],
   "source": [
    "# Load training and target datasets\n",
    "adata_train = anndata.read_h5ad('path/to/your/train_data.h5ad')  # Replace with the actual path to the training data\n",
    "adata_target = anndata.read_h5ad('path/to/your/target_data.h5ad')  # Replace with the actual path to your target data\n",
    "\n",
    "# Extract the list of genes measured in the training data\n",
    "train_genes = adata_train.var.index.tolist()\n",
    "\n",
    "# Subset the target data to include only genes present in the training data\n",
    "adata_target = adata_target[:, adata_target.var.index.isin(train_genes)].copy()\n",
    "\n",
    "# Reorder target genes to match the training data\n",
    "adata_target = adata_target[:, train_genes]\n",
    "\n",
    "# Check that all training genes are present in the target data\n",
    "assert adata_target.shape[1] == len(train_genes), (\n",
    "    \"Mismatch in gene sets: some genes in the training data are missing from the target data. \"\n",
    "    \"Please ensure gene identifiers are consistent and complete before proceeding.\"\n",
    ")\n",
    "\n",
    "# Note: In some cases, certain genes present in the training dataset may not be expressed \n",
    "# (or even present) in the target dataset. This mismatch makes it incompatible to directly \n",
    "# apply the trained model, as the model expects input features (genes) to exactly match \n",
    "# what it was trained on. If this happens, you will need to retrain the model using only \n",
    "# the set of genes that are common to both the training and target datasets."
   ]
  },
  {
   "cell_type": "markdown",
   "metadata": {},
   "source": [
    "Now you can process the data (i.e., normalize, log10, hvg) as in [`data_tutorial.ipynb`](data_tutorial.ipynb)"
   ]
  }
 ],
 "metadata": {
  "kernelspec": {
   "display_name": "geneformer",
   "language": "python",
   "name": "geneformer"
  },
  "language_info": {
   "codemirror_mode": {
    "name": "ipython",
    "version": 3
   },
   "file_extension": ".py",
   "mimetype": "text/x-python",
   "name": "python",
   "nbconvert_exporter": "python",
   "pygments_lexer": "ipython3",
   "version": "3.10.13"
  }
 },
 "nbformat": 4,
 "nbformat_minor": 2
}
